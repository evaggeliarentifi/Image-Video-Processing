{
  "nbformat": 4,
  "nbformat_minor": 0,
  "metadata": {
    "colab": {
      "name": "Αντίγραφο 2η_Ομαδική_Άσκηση(M24).ipynb",
      "provenance": [],
      "collapsed_sections": [],
      "toc_visible": true
    },
    "kernelspec": {
      "name": "python3",
      "display_name": "Python 3"
    }
  },
  "cells": [
    {
      "cell_type": "markdown",
      "metadata": {
        "id": "LpnEVMCYYlnD"
      },
      "source": [
        "#2η ομαδική άσκηση στη Τεχνολογία και Ανάλυση Εικόνων και Βίντεο"
      ]
    },
    {
      "cell_type": "markdown",
      "metadata": {
        "id": "DfEMjsB4Yurm"
      },
      "source": [
        "## Εισαγωγή και επισκόπηση του συνόλου δεδομένων"
      ]
    },
    {
      "cell_type": "code",
      "metadata": {
        "id": "STXQMBuN3nZ6"
      },
      "source": [
        "from __future__ import absolute_import, division, print_function, unicode_literals # legacy compatibility\n",
        "\n",
        "import numpy as np\n",
        "import pandas as pd\n",
        "import matplotlib.pyplot as plt\n",
        "import tensorflow_datasets as tfds"
      ],
      "execution_count": null,
      "outputs": []
    },
    {
      "cell_type": "code",
      "metadata": {
        "id": "2WSEGPI9Q7tW"
      },
      "source": [
        "# helper functions\n",
        "\n",
        "# select from from_list elements with index in index_list\n",
        "def select_from_list(from_list, index_list):\n",
        "  filtered_list= [from_list[i] for i in index_list]\n",
        "  return(filtered_list)\n",
        "\n",
        "# append in filtered_list the index of each element of unfilterd_list if it exists in in target_list\n",
        "def get_ds_index(unfiliterd_list, target_list):\n",
        "  index = 0\n",
        "  filtered_list=[]\n",
        "  for i_ in unfiliterd_list:\n",
        "    if i_[0] in target_list:\n",
        "      filtered_list.append(index)\n",
        "    index += 1\n",
        "  return(filtered_list)\n",
        "\n",
        "# select a url for a unique subset of CIFAR-100 with 20, 40, 60, or 80 classes\n",
        "def select_classes_number(classes_number = 20):\n",
        "  cifar100_20_classes_url = \"https://pastebin.com/raw/nzE1n98V\"\n",
        "  cifar100_40_classes_url = \"https://pastebin.com/raw/zGX4mCNP\"\n",
        "  cifar100_60_classes_url = \"https://pastebin.com/raw/nsDTd3Qn\"\n",
        "  cifar100_80_classes_url = \"https://pastebin.com/raw/SNbXz700\"\n",
        "  if classes_number == 20:\n",
        "    return cifar100_20_classes_url\n",
        "  elif classes_number == 40:\n",
        "    return cifar100_40_classes_url\n",
        "  elif classes_number == 60:\n",
        "    return cifar100_60_classes_url\n",
        "  elif classes_number == 80:\n",
        "    return cifar100_80_classes_url\n",
        "  else:\n",
        "    return -1"
      ],
      "execution_count": null,
      "outputs": []
    },
    {
      "cell_type": "code",
      "metadata": {
        "id": "OCW71UaGzz0Q"
      },
      "source": [
        "# load the entire dataset\n",
        "import tensorflow as tf\n",
        "from tensorflow.keras import datasets, layers, models\n",
        "\n",
        "(x_train_all, y_train_all), (x_test_all, y_test_all) = tf.keras.datasets.cifar100.load_data()"
      ],
      "execution_count": null,
      "outputs": []
    },
    {
      "cell_type": "code",
      "metadata": {
        "id": "kGKYHffEE1do",
        "colab": {
          "base_uri": "https://localhost:8080/",
          "height": 35
        },
        "outputId": "439047c3-836f-4bb6-e574-eded04b6d31d"
      },
      "source": [
        "print(x_train_all.shape)"
      ],
      "execution_count": null,
      "outputs": [
        {
          "output_type": "stream",
          "text": [
            "(50000, 32, 32, 3)\n"
          ],
          "name": "stdout"
        }
      ]
    },
    {
      "cell_type": "markdown",
      "metadata": {
        "id": "9PO9wIwYUf0R"
      },
      "source": [
        "Η κάθε ομάδα δουλεψε με διαφορετικό υποσύνολο του dataset.\n",
        "Στο επόμενο κελί, αντικαταστήσαμε την τιμή της μεταβλητής `team_seed` με τον αριθμό που αντιστοιχεί στην ομάδας μας. "
      ]
    },
    {
      "cell_type": "code",
      "metadata": {
        "id": "NN0kEze7uZ_G"
      },
      "source": [
        "# REPLACE WITH YOUR TEAM NUMBER\n",
        "team_seed = 24"
      ],
      "execution_count": null,
      "outputs": []
    },
    {
      "cell_type": "code",
      "metadata": {
        "id": "RhbZJW6PxUDJ"
      },
      "source": [
        "# select the number of classes\n",
        "cifar100_classes_url = select_classes_number()"
      ],
      "execution_count": null,
      "outputs": []
    },
    {
      "cell_type": "markdown",
      "metadata": {
        "id": "yO9f6wb0Wi0H"
      },
      "source": [
        "Δημιουργούμε το μοναδικό dataset της ομάδας μας:"
      ]
    },
    {
      "cell_type": "code",
      "metadata": {
        "id": "PgIN2h_KuCp_"
      },
      "source": [
        "team_classes = pd.read_csv(cifar100_classes_url, sep=',', header=None)\n",
        "CIFAR100_LABELS_LIST = pd.read_csv('https://pastebin.com/raw/qgDaNggt', sep=',', header=None).astype(str).values.tolist()[0]\n",
        "\n",
        "our_index = team_classes.iloc[team_seed,:].values.tolist()\n",
        "our_classes = select_from_list(CIFAR100_LABELS_LIST, our_index)\n",
        "train_index = get_ds_index(y_train_all, our_index)\n",
        "test_index = get_ds_index(y_test_all, our_index)\n",
        "\n",
        "x_train_ds = np.asarray(select_from_list(x_train_all, train_index))\n",
        "y_train_ds = np.asarray(select_from_list(y_train_all, train_index))\n",
        "x_test_ds = np.asarray(select_from_list(x_test_all, test_index))\n",
        "y_test_ds = np.asarray(select_from_list(y_test_all, test_index))"
      ],
      "execution_count": null,
      "outputs": []
    },
    {
      "cell_type": "code",
      "metadata": {
        "id": "_B4-tvVOQq3j",
        "colab": {
          "base_uri": "https://localhost:8080/",
          "height": 55
        },
        "outputId": "9ff3cd51-ba28-4f0e-9922-858e660cf62c"
      },
      "source": [
        "# print our classes\n",
        "print(our_classes)"
      ],
      "execution_count": null,
      "outputs": [
        {
          "output_type": "stream",
          "text": [
            "[' bottle', ' bowl', ' bus', ' caterpillar', ' chimpanzee', ' clock', ' cockroach', ' hamster', ' lamp', ' man', ' motorcycle', ' mushroom', ' pickup_truck', ' rabbit', ' road', ' seal', ' shrew', ' skyscraper', ' snake', ' sunflower']\n"
          ],
          "name": "stdout"
        }
      ]
    },
    {
      "cell_type": "code",
      "metadata": {
        "id": "bk5wy0u7GGMj",
        "colab": {
          "base_uri": "https://localhost:8080/",
          "height": 35
        },
        "outputId": "401fbb7a-a92b-4f67-93db-ab6fffbe52e8"
      },
      "source": [
        "print(x_train_ds[1].shape)"
      ],
      "execution_count": null,
      "outputs": [
        {
          "output_type": "stream",
          "text": [
            "(32, 32, 3)\n"
          ],
          "name": "stdout"
        }
      ]
    },
    {
      "cell_type": "code",
      "metadata": {
        "id": "QpGXgTs_5ZCk",
        "colab": {
          "base_uri": "https://localhost:8080/",
          "height": 445
        },
        "outputId": "c9bc559b-1088-48ee-e7c1-fba18af6df96"
      },
      "source": [
        "# get (train) dataset dimensions\n",
        "data_size, img_rows, img_cols, img_channels = x_train_ds.shape\n",
        "\n",
        "# set validation set percentage (wrt the training set size)\n",
        "validation_percentage = 0.15\n",
        "val_size = round(validation_percentage * data_size)\n",
        "\n",
        "# Reserve val_size samples for validation and normalize all values\n",
        "x_val = x_train_ds[-val_size:]/255\n",
        "y_val = y_train_ds[-val_size:]\n",
        "x_train = x_train_ds[:-val_size]/255\n",
        "y_train = y_train_ds[:-val_size]\n",
        "x_test = x_test_ds/255\n",
        "y_test = y_test_ds\n",
        "\n",
        "# summarize loaded dataset\n",
        "print('Train: X=%s, y=%s' % (x_train.shape, y_train.shape))\n",
        "print('Validation: X=%s, y=%s' % (x_val.shape, y_val.shape))\n",
        "print('Test: X=%s, y=%s' % (x_test.shape, y_test.shape))\n",
        "\n",
        "# get class label from class index\n",
        "def class_label_from_index(fine_category):\n",
        "  return(CIFAR100_LABELS_LIST[fine_category.item(0)])\n",
        "\n",
        "# plot first few images\n",
        "plt.figure(figsize=(6, 6))\n",
        "for i in range(9):\n",
        "\t# define subplot\n",
        "  plt.subplot(330 + 1 + i).set_title(class_label_from_index(y_train[i]))\n",
        "\t# plot raw pixel data\n",
        "  plt.imshow(x_train[i], cmap=plt.get_cmap('gray'))\n",
        "  #show the figure\n",
        "plt.show()"
      ],
      "execution_count": null,
      "outputs": [
        {
          "output_type": "stream",
          "text": [
            "Train: X=(8500, 32, 32, 3), y=(8500, 1)\n",
            "Validation: X=(1500, 32, 32, 3), y=(1500, 1)\n",
            "Test: X=(2000, 32, 32, 3), y=(2000, 1)\n"
          ],
          "name": "stdout"
        },
        {
          "output_type": "display_data",
          "data": {
            "image/png": "[encoded data removed]",
            "text/plain": [
              "<Figure size 432x432 with 9 Axes>"
            ]
          },
          "metadata": {
            "tags": [],
            "needs_background": "light"
          }
        }
      ]
    },
    {
      "cell_type": "markdown",
      "metadata": {
        "id": "M_T6Y9EJDuOu"
      },
      "source": [
        "## Διαχείριση μνήμης (TFRecord)\n",
        "Η φόρτωση δεδομένων με τον τρόπο που το κάναμε παραπάνω στο απλό παράδειγμα υλοποίησης είναι πολύ βολική αλλά δεν είναι καθόλου αποτελεσματική ως προς τη διαχείριση της μνήμης. Συγκεκριμένα, με τον τρόπο αυτό, τα δεδομένα αποθηκεύονται απευθείας σε μεταβλητές, οι οποίες όλες μαζί καταλαμβάνουν τη RAM της CPU ή της GPU, κάτι που κάνει αδύνατη τη διαχείριση μεγάλων datasets ή τον μεταχηματισμό των δεδομένων όπως όταν κάνουμε αύξηση δεδομένων (data augmentation).\n",
        "\n",
        "Για να παρακαμφθεί αυτό το πρόβλημα, υπάρχει η δυνατότητα της σειριοποίησης των δεδομένων (serialization) και της αποθήκευσής τους σε αρχεία μεσαίου μεγέθους (κάποιων MB) τα οποία μπορούνα να αναγνωστούν γραμμικά. Το φορμάτ TFRecord είναι ένα φορμάτ που επιτρέπει την αποθήκευση σειράς δυαδικών εγγραφών. Σχετικά λήμματα [TFRecord and tf.Example](https://www.tensorflow.org/tutorials/load_data/tfrecord) και [tf.data: Build TensorFlow input pipelines](https://www.tensorflow.org/guide/data). \n",
        "\n",
        "Σημειώστε ότι με τη μέθοδο αυτή θα πρέπει να γίνει import η `tensorflow_datasets` και να χρησιμοποιήσουμε την `tfds.load` ώστε να αποθηκευθεί το σύνολο δεδομένων σε αρχεία tfrecord στο δίσκο (δείτε [εδώ](https://colab.research.google.com/github/tensorflow/datasets/blob/master/docs/overview.ipynb) ένα παράδειγμα). Φυσικά μπορούμε να μετατρέψουμε και τα πρωτογενή δεδομένα (raw data) του dataset όπως αρχεία jpg σε φορματ tfrecord όπως [εδώ](https://towardsdatascience.com/working-with-tfrecords-and-tf-train-example-36d111b3ff4d).\n"
      ]
    },
    {
      "cell_type": "code",
      "metadata": {
        "id": "kecWYysPCKxp"
      },
      "source": [
        "BATCH_SIZE = 128\n",
        "AUTOTUNE = tf.data.experimental.AUTOTUNE # https://www.tensorflow.org/guide/data_performance\n",
        "\n",
        "def _input_fn(x,y, BATCH_SIZE):\n",
        "  ds = tf.data.Dataset.from_tensor_slices((x,y))\n",
        "  ds = ds.shuffle(buffer_size=data_size)\n",
        "  ds = ds.repeat()\n",
        "  ds = ds.batch(BATCH_SIZE)\n",
        "  ds = ds.prefetch(buffer_size=AUTOTUNE)\n",
        "  return ds\n",
        "\n",
        "train_ds =_input_fn(x_train,y_train, BATCH_SIZE) #PrefetchDataset object\n",
        "validation_ds =_input_fn(x_val,y_val, BATCH_SIZE) #PrefetchDataset object\n",
        "test_ds =_input_fn(x_test,y_test, BATCH_SIZE) #PrefetchDataset object\n",
        "\n",
        "\n"
      ],
      "execution_count": null,
      "outputs": []
    },
    {
      "cell_type": "markdown",
      "metadata": {
        "id": "iAgowxR8oJH7"
      },
      "source": [
        "## Ερώτημα 1\n",
        "\n",
        "#### Βήμα 1: Σχεδίαση, μεταγλώττιση και εκπαίδευση των μοντέλων\n",
        "\n",
        "\n",
        "\n",
        "1.1.  Σχεδιασμός των ακόλουθων μοντέλων:\n",
        "\n",
        "  1.   **Softmax (baseline)**: FC(200), SOFTMAX\n",
        "\n",
        "  2.   **MLP**: FC(512), RELU, FC(200), SOFTMAX\n",
        "\n",
        "  3.   **LeNet**: CONV(32, 3), RELU, POOL(2), CONV(32,3), RELU, POOL(2), FC(512, RELU, FC(200),SOFTMAX\n",
        "\n",
        "  4. **CNN1**: CONV(16, 5), RELU, POOL(2), CONV(16,3), RELU, POOL(2), CONV(32, 3), RELU, FC(200), SOFTMAX\n",
        "\n",
        "  5. **CNN2** \n",
        "  \n",
        "\n",
        "1.2.  Μεταγλωττιση και εκπαιδεύση  όλων των μοντέλων, χρησιμοποιώντας 2 διαφορετικούς (καλύτερους) συνδυασμούς optimizer, loss, metrics και epoch (θα προκύψουν 10 διαφορετικά εκπαιδευμένα μοντέλα, 2 ανά αρχιτεκτονική). \n",
        "\n",
        "---\n",
        "\n",
        "#### Βήμα 2: Αξιολόγηση των μοντέλων\n",
        "\n",
        "2.1. Για κάθε ένα από τα μοντέλα που εκπαιδεύσαμε, απεικονίση σε κοινό διάγραμμα της ακρίβειας εκπαίδευσης και της ακρίβεια επικύρωσης στο σύνολο των εποχών, για κάθε διαφορετικό συνδυασμό του βήματος 1.2 (10 διαγράμματα) και επιλογή αυτού με την καλύτερη ακρίβεια από κάθε μοντέλο (ένα από κάθε αρχιτεκτονική, συνολικά 5).\n",
        "\n",
        "\n",
        "2.2. Για κάθε ένα από τα μοντέλα με την καλύτερη ακρίβεια(συνολικά 5), απεικονίση σε κοινό διάγραμμα της ακρίβειας εκπαίδευσης και της ακρίβεια επικύρωσης στο σύνολο των εποχών.\n",
        "\n",
        "\n",
        "2.3. Αναλυτική αξιολόγηση των αποτελεσμάτων ως προς:\n",
        "\n",
        " - Επίδραση του πλήθους των δεδομένων/κλάσεων στην απόδοση του μοντέλου\n",
        " - Επίδραση του αλγόριθμου βελτιστοποίησης (optimizer)\n",
        " - Επίδραση του μεγέθους δέσμης (batch size)\n",
        " \n",
        "---\n",
        "\n",
        "#### Βήμα 3\n",
        "\n",
        "Αξιολογήση της ακρίβεια για το test set μας.\n"
      ]
    },
    {
      "cell_type": "code",
      "metadata": {
        "id": "RpbfT7heCWZL"
      },
      "source": [
        "# Βήμα 1\n",
        "# 1.1 Σχεδιασμός των ζητούμενων μοντέλων\n",
        "# 1.2 Μεταγλώτιση και εκπαίδευση των μοντέλων  χρησιμοποιώντας 2 διαφορετικούς (καλύτερους) συνδυασμούς optimizer, loss, metrics και epoch \n",
        "\n",
        "from tensorflow.keras import models, layers\n",
        "from tensorflow.keras.models import Sequential\n",
        "import tensorflow.keras\n",
        "\n",
        "#αφού δοκιμάσαμε τους περισσοτερους optimizers διαπιστωσαμε οτι αυτοι για τους οποιούς περναμε το καλύτερο αποτέλεσμα \n",
        "# (με βάση την τιμή της μετρικής accuracy )\n",
        "# ήταν οι Adam (Adam optimization is a stochastic gradient descent method that is based on adaptive estimation of first-order and second-order moments)\n",
        "# και Adagrad (Adagrad is an optimizer with parameter-specific learning rates, \n",
        "# which are adapted relative to how frequently a parameter gets updated during training).\n",
        "# Η μετρική που επιλέξαμε ήταν το accuracy,που χρησιμοποιήθηκε και στα παραδείγματα\n",
        "# των notebooks που διδάχτηκαν.\n",
        "# Επίσης καθώς έχουμε προβλημα πολλών κλάσεων με single-label classification\n",
        "# και activation στο τελευταίο επίπεδο softmax\n",
        "# η ιδανικότερη loss function είναι η sparse_categorical_crossentropy\n",
        "# όπως προέκυψε από σχετικές αναζητήσεις\n",
        "\n",
        "#Softmax (baseline): FC(200), SOFTMAX\n",
        "\n",
        "def Softmax(summary,version):\n",
        "  model = models.Sequential()\n",
        "  model.add(layers.Flatten(input_shape=(32, 32, 3)))\n",
        "  model.add(layers.Dense(200,activation='softmax'))\n",
        "  if version=='1':\n",
        "   model.compile(optimizer=tf.optimizers.Adam(), loss=tf.keras.losses.sparse_categorical_crossentropy, metrics=[\"accuracy\"])\n",
        "  else:\n",
        "   model.compile(optimizer=tf.optimizers.Adagrad(), loss=tf.keras.losses.sparse_categorical_crossentropy, metrics=[\"accuracy\"])  \n",
        "  if summary: \n",
        "    model.summary()\n",
        "  return model\n"
      ],
      "execution_count": null,
      "outputs": []
    },
    {
      "cell_type": "code",
      "metadata": {
        "id": "x0Thrkf-UvD_",
        "colab": {
          "base_uri": "https://localhost:8080/",
          "height": 239
        },
        "outputId": "6fcebe76-39c8-40a9-e7db-22f7d7c759f2"
      },
      "source": [
        "Softmax1=Softmax(True,1)"
      ],
      "execution_count": null,
      "outputs": [
        {
          "output_type": "stream",
          "text": [
            "Model: \"sequential_72\"\n",
            "_________________________________________________________________\n",
            "Layer (type)                 Output Shape              Param #   \n",
            "=================================================================\n",
            "flatten_72 (Flatten)         (None, 3072)              0         \n",
            "_________________________________________________________________\n",
            "dense_96 (Dense)             (None, 200)               614600    \n",
            "=================================================================\n",
            "Total params: 614,600\n",
            "Trainable params: 614,600\n",
            "Non-trainable params: 0\n",
            "_________________________________________________________________\n"
          ],
          "name": "stdout"
        }
      ]
    },
    {
      "cell_type": "code",
      "metadata": {
        "id": "hpDGGvvEU3Q3",
        "colab": {
          "base_uri": "https://localhost:8080/",
          "height": 239
        },
        "outputId": "6d83160a-7ef2-4963-d13a-68d9de6cdf02"
      },
      "source": [
        "Softmax2=Softmax(True,1)"
      ],
      "execution_count": null,
      "outputs": [
        {
          "output_type": "stream",
          "text": [
            "Model: \"sequential_73\"\n",
            "_________________________________________________________________\n",
            "Layer (type)                 Output Shape              Param #   \n",
            "=================================================================\n",
            "flatten_73 (Flatten)         (None, 3072)              0         \n",
            "_________________________________________________________________\n",
            "dense_97 (Dense)             (None, 200)               614600    \n",
            "=================================================================\n",
            "Total params: 614,600\n",
            "Trainable params: 614,600\n",
            "Non-trainable params: 0\n",
            "_________________________________________________________________\n"
          ],
          "name": "stdout"
        }
      ]
    },
    {
      "cell_type": "code",
      "metadata": {
        "id": "VBmdKJC2AI5O"
      },
      "source": [
        "#MLP: FC(512), RELU, FC(200), SOFTMAX\n",
        "\n",
        "def MLP(summary,version):\n",
        "  model = models.Sequential()\n",
        "  model.add(layers.Flatten(input_shape=(32, 32, 3)))\n",
        "  model.add(layers.Dense(512,activation='relu'))\n",
        "  model.add(layers.Dense(200,activation='softmax'))\n",
        "  if version=='1':\n",
        "   model.compile(optimizer=tf.optimizers.Adam(), loss=tf.keras.losses.sparse_categorical_crossentropy, metrics=[\"accuracy\"])\n",
        "  else:\n",
        "   model.compile(optimizer=tf.optimizers.Adagrad(), loss=tf.keras.losses.sparse_categorical_crossentropy, metrics=[\"accuracy\"])  \n",
        "  if summary: \n",
        "    model.summary()\n",
        "  return model\n"
      ],
      "execution_count": null,
      "outputs": []
    },
    {
      "cell_type": "code",
      "metadata": {
        "id": "hYYJBqRkVHni",
        "colab": {
          "base_uri": "https://localhost:8080/",
          "height": 276
        },
        "outputId": "34e8261a-d8d4-49f2-fb15-87446623848a"
      },
      "source": [
        "MLP1=MLP(True,1)"
      ],
      "execution_count": null,
      "outputs": [
        {
          "output_type": "stream",
          "text": [
            "Model: \"sequential_74\"\n",
            "_________________________________________________________________\n",
            "Layer (type)                 Output Shape              Param #   \n",
            "=================================================================\n",
            "flatten_74 (Flatten)         (None, 3072)              0         \n",
            "_________________________________________________________________\n",
            "dense_98 (Dense)             (None, 512)               1573376   \n",
            "_________________________________________________________________\n",
            "dense_99 (Dense)             (None, 200)               102600    \n",
            "=================================================================\n",
            "Total params: 1,675,976\n",
            "Trainable params: 1,675,976\n",
            "Non-trainable params: 0\n",
            "_________________________________________________________________\n"
          ],
          "name": "stdout"
        }
      ]
    },
    {
      "cell_type": "code",
      "metadata": {
        "id": "4WYyqGlTVUm9",
        "colab": {
          "base_uri": "https://localhost:8080/",
          "height": 276
        },
        "outputId": "6e2a0b83-d7e4-40d9-8ffc-76bc1eda023e"
      },
      "source": [
        "MLP2=MLP(True,2)"
      ],
      "execution_count": null,
      "outputs": [
        {
          "output_type": "stream",
          "text": [
            "Model: \"sequential_75\"\n",
            "_________________________________________________________________\n",
            "Layer (type)                 Output Shape              Param #   \n",
            "=================================================================\n",
            "flatten_75 (Flatten)         (None, 3072)              0         \n",
            "_________________________________________________________________\n",
            "dense_100 (Dense)            (None, 512)               1573376   \n",
            "_________________________________________________________________\n",
            "dense_101 (Dense)            (None, 200)               102600    \n",
            "=================================================================\n",
            "Total params: 1,675,976\n",
            "Trainable params: 1,675,976\n",
            "Non-trainable params: 0\n",
            "_________________________________________________________________\n"
          ],
          "name": "stdout"
        }
      ]
    },
    {
      "cell_type": "code",
      "metadata": {
        "id": "e0ajfOA2AoEF"
      },
      "source": [
        "#LeNet: CONV(32, 3), RELU, POOL(2), CONV(32,3), RELU, POOL(2), FC(512, RELU, FC(200),SOFTMAX\n",
        "\n",
        "def LeNet(summary,version):\n",
        "  model = models.Sequential()\n",
        "  model.add(layers.Conv2D(32, kernel_size=(3, 3), activation='relu', input_shape=(32, 32, 3)))\n",
        "  model.add(layers.MaxPooling2D(pool_size=(2, 2)))\n",
        "  model.add(layers.Conv2D(32, kernel_size=(3, 3), activation='relu'))\n",
        "  model.add(layers.MaxPooling2D(pool_size=(2, 2)))\n",
        "  model.add(layers.Flatten())\n",
        "  model.add(layers.Dense(512, activation='relu'))\n",
        "  model.add(layers.Dense(200,activation='softmax'))\n",
        "  if version=='1':\n",
        "   model.compile(optimizer=tf.optimizers.Adam(), loss=tf.keras.losses.sparse_categorical_crossentropy, metrics=[\"accuracy\"])\n",
        "  else :\n",
        "    model.compile(optimizer=tf.optimizers.Adagrad(), loss=tf.keras.losses.sparse_categorical_crossentropy, metrics=[\"accuracy\"])\n",
        "  if summary: \n",
        "    model.summary()\n",
        "  return model\n"
      ],
      "execution_count": null,
      "outputs": []
    },
    {
      "cell_type": "code",
      "metadata": {
        "id": "x-BnCS65Pd5n",
        "colab": {
          "base_uri": "https://localhost:8080/",
          "height": 424
        },
        "outputId": "4e3d08b0-7436-475d-f832-02dd500dcf9c"
      },
      "source": [
        "Lenet1=LeNet(summary=True,version=1)"
      ],
      "execution_count": null,
      "outputs": [
        {
          "output_type": "stream",
          "text": [
            "Model: \"sequential_76\"\n",
            "_________________________________________________________________\n",
            "Layer (type)                 Output Shape              Param #   \n",
            "=================================================================\n",
            "conv2d_80 (Conv2D)           (None, 30, 30, 32)        896       \n",
            "_________________________________________________________________\n",
            "max_pooling2d_60 (MaxPooling (None, 15, 15, 32)        0         \n",
            "_________________________________________________________________\n",
            "conv2d_81 (Conv2D)           (None, 13, 13, 32)        9248      \n",
            "_________________________________________________________________\n",
            "max_pooling2d_61 (MaxPooling (None, 6, 6, 32)          0         \n",
            "_________________________________________________________________\n",
            "flatten_76 (Flatten)         (None, 1152)              0         \n",
            "_________________________________________________________________\n",
            "dense_102 (Dense)            (None, 512)               590336    \n",
            "_________________________________________________________________\n",
            "dense_103 (Dense)            (None, 200)               102600    \n",
            "=================================================================\n",
            "Total params: 703,080\n",
            "Trainable params: 703,080\n",
            "Non-trainable params: 0\n",
            "_________________________________________________________________\n"
          ],
          "name": "stdout"
        }
      ]
    },
    {
      "cell_type": "code",
      "metadata": {
        "id": "VJHUDeuWPe2K",
        "colab": {
          "base_uri": "https://localhost:8080/",
          "height": 424
        },
        "outputId": "11e00210-083b-4be8-cf06-cf8565e30a83"
      },
      "source": [
        "LeNet2=LeNet(summary=True,version=2)"
      ],
      "execution_count": null,
      "outputs": [
        {
          "output_type": "stream",
          "text": [
            "Model: \"sequential_77\"\n",
            "_________________________________________________________________\n",
            "Layer (type)                 Output Shape              Param #   \n",
            "=================================================================\n",
            "conv2d_82 (Conv2D)           (None, 30, 30, 32)        896       \n",
            "_________________________________________________________________\n",
            "max_pooling2d_62 (MaxPooling (None, 15, 15, 32)        0         \n",
            "_________________________________________________________________\n",
            "conv2d_83 (Conv2D)           (None, 13, 13, 32)        9248      \n",
            "_________________________________________________________________\n",
            "max_pooling2d_63 (MaxPooling (None, 6, 6, 32)          0         \n",
            "_________________________________________________________________\n",
            "flatten_77 (Flatten)         (None, 1152)              0         \n",
            "_________________________________________________________________\n",
            "dense_104 (Dense)            (None, 512)               590336    \n",
            "_________________________________________________________________\n",
            "dense_105 (Dense)            (None, 200)               102600    \n",
            "=================================================================\n",
            "Total params: 703,080\n",
            "Trainable params: 703,080\n",
            "Non-trainable params: 0\n",
            "_________________________________________________________________\n"
          ],
          "name": "stdout"
        }
      ]
    },
    {
      "cell_type": "code",
      "metadata": {
        "id": "ShHQU4FZVeVG"
      },
      "source": [
        "#CNN: CONV(16, 5), RELU, POOL(2), CONV(16,3), RELU, POOL(2), CONV(32, 3), RELU, FC(200), SOFTMAX\n",
        "\n",
        "def CNN(summary,version):\n",
        "    \n",
        "  model = models.Sequential()\n",
        "  model.add(layers.Conv2D(16, kernel_size=(5, 5), activation='relu', input_shape=(32, 32, 3)))\n",
        "  model.add(layers.MaxPooling2D(pool_size=(2, 2)))\n",
        "  model.add(layers.Conv2D(16, kernel_size=(3, 3), activation='relu', input_shape=(32, 32, 3)))\n",
        "  model.add(layers.MaxPooling2D(pool_size=(2, 2)))\n",
        "  model.add(layers.Conv2D(32, kernel_size=(3, 3), activation='relu', input_shape=(32, 32, 3)))\n",
        "  model.add(layers.Flatten())\n",
        "  model.add(layers.Dense(200,activation='softmax'))\n",
        "  \n",
        "  if version=='1':\n",
        "    model.compile(optimizer=tf.optimizers.Adam(), loss=tf.keras.losses.sparse_categorical_crossentropy, metrics=[\"accuracy\"])\n",
        "  else:\n",
        "    model.compile(optimizer=tf.optimizers.RMSprop(), loss=tf.keras.losses.sparse_categorical_crossentropy, metrics=[\"accuracy\"])    \n",
        "  if summary: \n",
        "    model.summary()\n",
        "  return model"
      ],
      "execution_count": null,
      "outputs": []
    },
    {
      "cell_type": "code",
      "metadata": {
        "id": "nSeYCfqg70gy",
        "colab": {
          "base_uri": "https://localhost:8080/",
          "height": 424
        },
        "outputId": "ce1d6279-6fb9-476e-8878-aa7653dfc326"
      },
      "source": [
        "CNN1=CNN(summary=True,version=1)"
      ],
      "execution_count": null,
      "outputs": [
        {
          "output_type": "stream",
          "text": [
            "Model: \"sequential_78\"\n",
            "_________________________________________________________________\n",
            "Layer (type)                 Output Shape              Param #   \n",
            "=================================================================\n",
            "conv2d_84 (Conv2D)           (None, 28, 28, 16)        1216      \n",
            "_________________________________________________________________\n",
            "max_pooling2d_64 (MaxPooling (None, 14, 14, 16)        0         \n",
            "_________________________________________________________________\n",
            "conv2d_85 (Conv2D)           (None, 12, 12, 16)        2320      \n",
            "_________________________________________________________________\n",
            "max_pooling2d_65 (MaxPooling (None, 6, 6, 16)          0         \n",
            "_________________________________________________________________\n",
            "conv2d_86 (Conv2D)           (None, 4, 4, 32)          4640      \n",
            "_________________________________________________________________\n",
            "flatten_78 (Flatten)         (None, 512)               0         \n",
            "_________________________________________________________________\n",
            "dense_106 (Dense)            (None, 200)               102600    \n",
            "=================================================================\n",
            "Total params: 110,776\n",
            "Trainable params: 110,776\n",
            "Non-trainable params: 0\n",
            "_________________________________________________________________\n"
          ],
          "name": "stdout"
        }
      ]
    },
    {
      "cell_type": "code",
      "metadata": {
        "id": "9bw_cSNZ8WET",
        "colab": {
          "base_uri": "https://localhost:8080/",
          "height": 424
        },
        "outputId": "3e4025a4-82d3-4929-df53-38ac8d260183"
      },
      "source": [
        "CNN2=CNN(summary=True,version=2)"
      ],
      "execution_count": null,
      "outputs": [
        {
          "output_type": "stream",
          "text": [
            "Model: \"sequential_79\"\n",
            "_________________________________________________________________\n",
            "Layer (type)                 Output Shape              Param #   \n",
            "=================================================================\n",
            "conv2d_87 (Conv2D)           (None, 28, 28, 16)        1216      \n",
            "_________________________________________________________________\n",
            "max_pooling2d_66 (MaxPooling (None, 14, 14, 16)        0         \n",
            "_________________________________________________________________\n",
            "conv2d_88 (Conv2D)           (None, 12, 12, 16)        2320      \n",
            "_________________________________________________________________\n",
            "max_pooling2d_67 (MaxPooling (None, 6, 6, 16)          0         \n",
            "_________________________________________________________________\n",
            "conv2d_89 (Conv2D)           (None, 4, 4, 32)          4640      \n",
            "_________________________________________________________________\n",
            "flatten_79 (Flatten)         (None, 512)               0         \n",
            "_________________________________________________________________\n",
            "dense_107 (Dense)            (None, 200)               102600    \n",
            "=================================================================\n",
            "Total params: 110,776\n",
            "Trainable params: 110,776\n",
            "Non-trainable params: 0\n",
            "_________________________________________________________________\n"
          ],
          "name": "stdout"
        }
      ]
    },
    {
      "cell_type": "code",
      "metadata": {
        "id": "ZWY7f5nz9eaI"
      },
      "source": [
        "#MYCNN\n",
        "def MYCNN(summary,version):\n",
        "   model = models.Sequential()\n",
        "   model.add(layers.Conv2D(32, (3, 3), activation='relu', input_shape=(32, 32, 3)))\n",
        "   model.add(layers.MaxPooling2D((2, 2)))\n",
        "   model.add(layers.Conv2D(64, (3, 3), activation='relu',input_shape=(32, 32, 3)))\n",
        "   model.add(layers.MaxPooling2D((2, 2)))\n",
        "   model.add(layers.Conv2D(64, (3, 3), activation='relu',input_shape=(32, 32, 3)))\n",
        "   model.add(layers.Flatten())\n",
        "   model.add(layers.Dense(100,activation='relu'))\n",
        "   if version=='1':\n",
        "     model.compile(optimizer=tf.optimizers.Adam(), loss=tf.keras.losses.sparse_categorical_crossentropy, metrics=[\"accuracy\"])\n",
        "   else:\n",
        "    model.compile(optimizer=tf.optimizers.Adagrad(), loss=tf.keras.losses.sparse_categorical_crossentropy, metrics=[\"accuracy\"])    \n",
        "   if summary: \n",
        "    model.summary()\n",
        "   return model"
      ],
      "execution_count": null,
      "outputs": []
    },
    {
      "cell_type": "code",
      "metadata": {
        "id": "pg32D7tP_TnN",
        "colab": {
          "base_uri": "https://localhost:8080/",
          "height": 424
        },
        "outputId": "349118ec-6230-46cb-85bc-aa37d52a1a6a"
      },
      "source": [
        "MYCNN1=MYCNN(summary=True,version=1)"
      ],
      "execution_count": null,
      "outputs": [
        {
          "output_type": "stream",
          "text": [
            "Model: \"sequential_80\"\n",
            "_________________________________________________________________\n",
            "Layer (type)                 Output Shape              Param #   \n",
            "=================================================================\n",
            "conv2d_90 (Conv2D)           (None, 30, 30, 32)        896       \n",
            "_________________________________________________________________\n",
            "max_pooling2d_68 (MaxPooling (None, 15, 15, 32)        0         \n",
            "_________________________________________________________________\n",
            "conv2d_91 (Conv2D)           (None, 13, 13, 64)        18496     \n",
            "_________________________________________________________________\n",
            "max_pooling2d_69 (MaxPooling (None, 6, 6, 64)          0         \n",
            "_________________________________________________________________\n",
            "conv2d_92 (Conv2D)           (None, 4, 4, 64)          36928     \n",
            "_________________________________________________________________\n",
            "flatten_80 (Flatten)         (None, 1024)              0         \n",
            "_________________________________________________________________\n",
            "dense_108 (Dense)            (None, 100)               102500    \n",
            "=================================================================\n",
            "Total params: 158,820\n",
            "Trainable params: 158,820\n",
            "Non-trainable params: 0\n",
            "_________________________________________________________________\n"
          ],
          "name": "stdout"
        }
      ]
    },
    {
      "cell_type": "code",
      "metadata": {
        "id": "v-cD-Q89_zr7",
        "colab": {
          "base_uri": "https://localhost:8080/",
          "height": 424
        },
        "outputId": "fe271755-61f6-41c5-8392-f8ed70e73b45"
      },
      "source": [
        "MYCNN2=MYCNN(summary=True,version=2)"
      ],
      "execution_count": null,
      "outputs": [
        {
          "output_type": "stream",
          "text": [
            "Model: \"sequential_110\"\n",
            "_________________________________________________________________\n",
            "Layer (type)                 Output Shape              Param #   \n",
            "=================================================================\n",
            "conv2d_126 (Conv2D)          (None, 30, 30, 32)        896       \n",
            "_________________________________________________________________\n",
            "max_pooling2d_94 (MaxPooling (None, 15, 15, 32)        0         \n",
            "_________________________________________________________________\n",
            "conv2d_127 (Conv2D)          (None, 13, 13, 64)        18496     \n",
            "_________________________________________________________________\n",
            "max_pooling2d_95 (MaxPooling (None, 6, 6, 64)          0         \n",
            "_________________________________________________________________\n",
            "conv2d_128 (Conv2D)          (None, 4, 4, 64)          36928     \n",
            "_________________________________________________________________\n",
            "flatten_110 (Flatten)        (None, 1024)              0         \n",
            "_________________________________________________________________\n",
            "dense_143 (Dense)            (None, 100)               102500    \n",
            "=================================================================\n",
            "Total params: 158,820\n",
            "Trainable params: 158,820\n",
            "Non-trainable params: 0\n",
            "_________________________________________________________________\n"
          ],
          "name": "stdout"
        }
      ]
    },
    {
      "cell_type": "code",
      "metadata": {
        "id": "z9zmw2HaAbb3"
      },
      "source": [
        "# δημιουργία βοηθητικής συνάρτησης\n",
        "# για την εκπαίδευση των μοντέλων που δημιουργήσαμε\n",
        "def train_model(model, epochs , steps_per_epoch , validation_steps ):\n",
        "  \n",
        "  history = model.fit(train_ds, epochs=epochs, steps_per_epoch=steps_per_epoch, validation_data=validation_ds, validation_steps=validation_steps)\n",
        "  return(history)"
      ],
      "execution_count": null,
      "outputs": []
    },
    {
      "cell_type": "code",
      "metadata": {
        "id": "Rd5g4yPDaGgE",
        "colab": {
          "base_uri": "https://localhost:8080/",
          "height": 1000
        },
        "outputId": "fc702dd1-8fcc-4ed0-d3ad-99f800a42ae2"
      },
      "source": [
        "train_Softmax1=train_model(Softmax1,30,100,5)"
      ],
      "execution_count": null,
      "outputs": [
        {
          "output_type": "stream",
          "text": [
            "Epoch 1/30\n",
            "100/100 [==============================] - 1s 12ms/step - loss: 3.6460 - accuracy: 0.0870 - val_loss: 3.1047 - val_accuracy: 0.1187\n",
            "Epoch 2/30\n",
            "100/100 [==============================] - 1s 13ms/step - loss: 2.9895 - accuracy: 0.1545 - val_loss: 2.9154 - val_accuracy: 0.1828\n",
            "Epoch 3/30\n",
            "100/100 [==============================] - 1s 12ms/step - loss: 2.8419 - accuracy: 0.2008 - val_loss: 2.7774 - val_accuracy: 0.2016\n",
            "Epoch 4/30\n",
            "100/100 [==============================] - 1s 13ms/step - loss: 2.7572 - accuracy: 0.2304 - val_loss: 2.7032 - val_accuracy: 0.2328\n",
            "Epoch 5/30\n",
            "100/100 [==============================] - 1s 12ms/step - loss: 2.6944 - accuracy: 0.2409 - val_loss: 2.6850 - val_accuracy: 0.2266\n",
            "Epoch 6/30\n",
            "100/100 [==============================] - 1s 13ms/step - loss: 2.6420 - accuracy: 0.2571 - val_loss: 2.5933 - val_accuracy: 0.2844\n",
            "Epoch 7/30\n",
            "100/100 [==============================] - 1s 12ms/step - loss: 2.6031 - accuracy: 0.2697 - val_loss: 2.6084 - val_accuracy: 0.2594\n",
            "Epoch 8/30\n",
            "100/100 [==============================] - 1s 13ms/step - loss: 2.5762 - accuracy: 0.2776 - val_loss: 2.5764 - val_accuracy: 0.2766\n",
            "Epoch 9/30\n",
            "100/100 [==============================] - 1s 12ms/step - loss: 2.5467 - accuracy: 0.2798 - val_loss: 2.5554 - val_accuracy: 0.2516\n",
            "Epoch 10/30\n",
            "100/100 [==============================] - 1s 13ms/step - loss: 2.5229 - accuracy: 0.2896 - val_loss: 2.5317 - val_accuracy: 0.2656\n",
            "Epoch 11/30\n",
            "100/100 [==============================] - 1s 12ms/step - loss: 2.5086 - accuracy: 0.2935 - val_loss: 2.5169 - val_accuracy: 0.2984\n",
            "Epoch 12/30\n",
            "100/100 [==============================] - 1s 13ms/step - loss: 2.4839 - accuracy: 0.2998 - val_loss: 2.4528 - val_accuracy: 0.3078\n",
            "Epoch 13/30\n",
            "100/100 [==============================] - 1s 12ms/step - loss: 2.4744 - accuracy: 0.3038 - val_loss: 2.4698 - val_accuracy: 0.3141\n",
            "Epoch 14/30\n",
            "100/100 [==============================] - 1s 13ms/step - loss: 2.4552 - accuracy: 0.3062 - val_loss: 2.4943 - val_accuracy: 0.2812\n",
            "Epoch 15/30\n",
            "100/100 [==============================] - 1s 12ms/step - loss: 2.4405 - accuracy: 0.3097 - val_loss: 2.4556 - val_accuracy: 0.2969\n",
            "Epoch 16/30\n",
            "100/100 [==============================] - 1s 13ms/step - loss: 2.4369 - accuracy: 0.3116 - val_loss: 2.4459 - val_accuracy: 0.3031\n",
            "Epoch 17/30\n",
            "100/100 [==============================] - 1s 12ms/step - loss: 2.4215 - accuracy: 0.3187 - val_loss: 2.4699 - val_accuracy: 0.3063\n",
            "Epoch 18/30\n",
            "100/100 [==============================] - 1s 13ms/step - loss: 2.4125 - accuracy: 0.3184 - val_loss: 2.4567 - val_accuracy: 0.3125\n",
            "Epoch 19/30\n",
            "100/100 [==============================] - 1s 13ms/step - loss: 2.4084 - accuracy: 0.3202 - val_loss: 2.4270 - val_accuracy: 0.3187\n",
            "Epoch 20/30\n",
            "100/100 [==============================] - 1s 13ms/step - loss: 2.3928 - accuracy: 0.3232 - val_loss: 2.3695 - val_accuracy: 0.3266\n",
            "Epoch 21/30\n",
            "100/100 [==============================] - 1s 12ms/step - loss: 2.3879 - accuracy: 0.3248 - val_loss: 2.4239 - val_accuracy: 0.3203\n",
            "Epoch 22/30\n",
            "100/100 [==============================] - 1s 13ms/step - loss: 2.3793 - accuracy: 0.3269 - val_loss: 2.4347 - val_accuracy: 0.3047\n",
            "Epoch 23/30\n",
            "100/100 [==============================] - 1s 12ms/step - loss: 2.3725 - accuracy: 0.3302 - val_loss: 2.3970 - val_accuracy: 0.3281\n",
            "Epoch 24/30\n",
            "100/100 [==============================] - 1s 13ms/step - loss: 2.3713 - accuracy: 0.3275 - val_loss: 2.4228 - val_accuracy: 0.3172\n",
            "Epoch 25/30\n",
            "100/100 [==============================] - 1s 13ms/step - loss: 2.3511 - accuracy: 0.3332 - val_loss: 2.3969 - val_accuracy: 0.3141\n",
            "Epoch 26/30\n",
            "100/100 [==============================] - 1s 13ms/step - loss: 2.3539 - accuracy: 0.3316 - val_loss: 2.3905 - val_accuracy: 0.3234\n",
            "Epoch 27/30\n",
            "100/100 [==============================] - 1s 13ms/step - loss: 2.3436 - accuracy: 0.3363 - val_loss: 2.3789 - val_accuracy: 0.3328\n",
            "Epoch 28/30\n",
            "100/100 [==============================] - 1s 13ms/step - loss: 2.3529 - accuracy: 0.3316 - val_loss: 2.3968 - val_accuracy: 0.3031\n",
            "Epoch 29/30\n",
            "100/100 [==============================] - 1s 12ms/step - loss: 2.3339 - accuracy: 0.3381 - val_loss: 2.3984 - val_accuracy: 0.3172\n",
            "Epoch 30/30\n",
            "100/100 [==============================] - 1s 13ms/step - loss: 2.3321 - accuracy: 0.3361 - val_loss: 2.3530 - val_accuracy: 0.3453\n"
          ],
          "name": "stdout"
        }
      ]
    },
    {
      "cell_type": "code",
      "metadata": {
        "id": "ZWMmjVoIDvlJ",
        "colab": {
          "base_uri": "https://localhost:8080/",
          "height": 1000
        },
        "outputId": "446b60fc-2528-44be-aac8-dc55b4abf0bf"
      },
      "source": [
        "train_Softmax2=train_model(Softmax2,30,100,5)"
      ],
      "execution_count": null,
      "outputs": [
        {
          "output_type": "stream",
          "text": [
            "Epoch 1/30\n",
            "100/100 [==============================] - 1s 13ms/step - loss: 2.2188 - accuracy: 0.3693 - val_loss: 2.2714 - val_accuracy: 0.3562\n",
            "Epoch 2/30\n",
            "100/100 [==============================] - 1s 13ms/step - loss: 2.2036 - accuracy: 0.3713 - val_loss: 2.2800 - val_accuracy: 0.3359\n",
            "Epoch 3/30\n",
            "100/100 [==============================] - 1s 13ms/step - loss: 2.2101 - accuracy: 0.3695 - val_loss: 2.3306 - val_accuracy: 0.3328\n",
            "Epoch 4/30\n",
            "100/100 [==============================] - 1s 13ms/step - loss: 2.2113 - accuracy: 0.3695 - val_loss: 2.3014 - val_accuracy: 0.3375\n",
            "Epoch 5/30\n",
            "100/100 [==============================] - 1s 13ms/step - loss: 2.2059 - accuracy: 0.3736 - val_loss: 2.2612 - val_accuracy: 0.3594\n",
            "Epoch 6/30\n",
            "100/100 [==============================] - 1s 13ms/step - loss: 2.2020 - accuracy: 0.3698 - val_loss: 2.2328 - val_accuracy: 0.3531\n",
            "Epoch 7/30\n",
            "100/100 [==============================] - 1s 13ms/step - loss: 2.2035 - accuracy: 0.3729 - val_loss: 2.3306 - val_accuracy: 0.3313\n",
            "Epoch 8/30\n",
            "100/100 [==============================] - 1s 13ms/step - loss: 2.2055 - accuracy: 0.3729 - val_loss: 2.3285 - val_accuracy: 0.3391\n",
            "Epoch 9/30\n",
            "100/100 [==============================] - 1s 13ms/step - loss: 2.2047 - accuracy: 0.3722 - val_loss: 2.2417 - val_accuracy: 0.3656\n",
            "Epoch 10/30\n",
            "100/100 [==============================] - 1s 13ms/step - loss: 2.1995 - accuracy: 0.3717 - val_loss: 2.2583 - val_accuracy: 0.3734\n",
            "Epoch 11/30\n",
            "100/100 [==============================] - 1s 12ms/step - loss: 2.1954 - accuracy: 0.3753 - val_loss: 2.2899 - val_accuracy: 0.3438\n",
            "Epoch 12/30\n",
            "100/100 [==============================] - 1s 13ms/step - loss: 2.2066 - accuracy: 0.3677 - val_loss: 2.2701 - val_accuracy: 0.3438\n",
            "Epoch 13/30\n",
            "100/100 [==============================] - 1s 12ms/step - loss: 2.1964 - accuracy: 0.3748 - val_loss: 2.3083 - val_accuracy: 0.3406\n",
            "Epoch 14/30\n",
            "100/100 [==============================] - 1s 13ms/step - loss: 2.1948 - accuracy: 0.3726 - val_loss: 2.3052 - val_accuracy: 0.3547\n",
            "Epoch 15/30\n",
            "100/100 [==============================] - 1s 13ms/step - loss: 2.1968 - accuracy: 0.3727 - val_loss: 2.3320 - val_accuracy: 0.3250\n",
            "Epoch 16/30\n",
            "100/100 [==============================] - 1s 13ms/step - loss: 2.1973 - accuracy: 0.3741 - val_loss: 2.2697 - val_accuracy: 0.3547\n",
            "Epoch 17/30\n",
            "100/100 [==============================] - 1s 13ms/step - loss: 2.1915 - accuracy: 0.3746 - val_loss: 2.3162 - val_accuracy: 0.3313\n",
            "Epoch 18/30\n",
            "100/100 [==============================] - 1s 13ms/step - loss: 2.1908 - accuracy: 0.3734 - val_loss: 2.3491 - val_accuracy: 0.3219\n",
            "Epoch 19/30\n",
            "100/100 [==============================] - 1s 13ms/step - loss: 2.1890 - accuracy: 0.3761 - val_loss: 2.3131 - val_accuracy: 0.3297\n",
            "Epoch 20/30\n",
            "100/100 [==============================] - 1s 13ms/step - loss: 2.1898 - accuracy: 0.3748 - val_loss: 2.2446 - val_accuracy: 0.3500\n",
            "Epoch 21/30\n",
            "100/100 [==============================] - 1s 12ms/step - loss: 2.1948 - accuracy: 0.3724 - val_loss: 2.2896 - val_accuracy: 0.3344\n",
            "Epoch 22/30\n",
            "100/100 [==============================] - 1s 13ms/step - loss: 2.1865 - accuracy: 0.3743 - val_loss: 2.2769 - val_accuracy: 0.3344\n",
            "Epoch 23/30\n",
            "100/100 [==============================] - 1s 12ms/step - loss: 2.1822 - accuracy: 0.3774 - val_loss: 2.2299 - val_accuracy: 0.3625\n",
            "Epoch 24/30\n",
            "100/100 [==============================] - 1s 13ms/step - loss: 2.1921 - accuracy: 0.3764 - val_loss: 2.2761 - val_accuracy: 0.3578\n",
            "Epoch 25/30\n",
            "100/100 [==============================] - 1s 13ms/step - loss: 2.1825 - accuracy: 0.3740 - val_loss: 2.2842 - val_accuracy: 0.3484\n",
            "Epoch 26/30\n",
            "100/100 [==============================] - 1s 13ms/step - loss: 2.1868 - accuracy: 0.3777 - val_loss: 2.3017 - val_accuracy: 0.3375\n",
            "Epoch 27/30\n",
            "100/100 [==============================] - 1s 12ms/step - loss: 2.1776 - accuracy: 0.3777 - val_loss: 2.2620 - val_accuracy: 0.3562\n",
            "Epoch 28/30\n",
            "100/100 [==============================] - 1s 13ms/step - loss: 2.1876 - accuracy: 0.3749 - val_loss: 2.3134 - val_accuracy: 0.3453\n",
            "Epoch 29/30\n",
            "100/100 [==============================] - 1s 13ms/step - loss: 2.1817 - accuracy: 0.3772 - val_loss: 2.2666 - val_accuracy: 0.3531\n",
            "Epoch 30/30\n",
            "100/100 [==============================] - 1s 13ms/step - loss: 2.1766 - accuracy: 0.3789 - val_loss: 2.2517 - val_accuracy: 0.3531\n"
          ],
          "name": "stdout"
        }
      ]
    },
    {
      "cell_type": "code",
      "metadata": {
        "id": "p-NLuCHcbTXH",
        "colab": {
          "base_uri": "https://localhost:8080/",
          "height": 1000
        },
        "outputId": "389533fd-0570-48fb-f9f3-73382797430d"
      },
      "source": [
        "train_MLP1=train_model(MLP1,30,100,5)"
      ],
      "execution_count": null,
      "outputs": [
        {
          "output_type": "stream",
          "text": [
            "Epoch 1/30\n",
            "100/100 [==============================] - 3s 26ms/step - loss: 3.8207 - accuracy: 0.0872 - val_loss: 3.1417 - val_accuracy: 0.1453\n",
            "Epoch 2/30\n",
            "100/100 [==============================] - 3s 26ms/step - loss: 2.9668 - accuracy: 0.1758 - val_loss: 2.8715 - val_accuracy: 0.2000\n",
            "Epoch 3/30\n",
            "100/100 [==============================] - 3s 25ms/step - loss: 2.8045 - accuracy: 0.2166 - val_loss: 2.7678 - val_accuracy: 0.2094\n",
            "Epoch 4/30\n",
            "100/100 [==============================] - 3s 26ms/step - loss: 2.7140 - accuracy: 0.2370 - val_loss: 2.6941 - val_accuracy: 0.2219\n",
            "Epoch 5/30\n",
            "100/100 [==============================] - 3s 25ms/step - loss: 2.6456 - accuracy: 0.2518 - val_loss: 2.6207 - val_accuracy: 0.2734\n",
            "Epoch 6/30\n",
            "100/100 [==============================] - 3s 25ms/step - loss: 2.5967 - accuracy: 0.2673 - val_loss: 2.5749 - val_accuracy: 0.2641\n",
            "Epoch 7/30\n",
            "100/100 [==============================] - 3s 25ms/step - loss: 2.5493 - accuracy: 0.2812 - val_loss: 2.5407 - val_accuracy: 0.2688\n",
            "Epoch 8/30\n",
            "100/100 [==============================] - 3s 25ms/step - loss: 2.5212 - accuracy: 0.2827 - val_loss: 2.5123 - val_accuracy: 0.2734\n",
            "Epoch 9/30\n",
            "100/100 [==============================] - 2s 25ms/step - loss: 2.4900 - accuracy: 0.2878 - val_loss: 2.5128 - val_accuracy: 0.2641\n",
            "Epoch 10/30\n",
            "100/100 [==============================] - 3s 25ms/step - loss: 2.4559 - accuracy: 0.2991 - val_loss: 2.4700 - val_accuracy: 0.2891\n",
            "Epoch 11/30\n",
            "100/100 [==============================] - 2s 25ms/step - loss: 2.4391 - accuracy: 0.3027 - val_loss: 2.4710 - val_accuracy: 0.2766\n",
            "Epoch 12/30\n",
            "100/100 [==============================] - 3s 25ms/step - loss: 2.4127 - accuracy: 0.3122 - val_loss: 2.4028 - val_accuracy: 0.2937\n",
            "Epoch 13/30\n",
            "100/100 [==============================] - 3s 25ms/step - loss: 2.3906 - accuracy: 0.3201 - val_loss: 2.4162 - val_accuracy: 0.3109\n",
            "Epoch 14/30\n",
            "100/100 [==============================] - 3s 26ms/step - loss: 2.3819 - accuracy: 0.3174 - val_loss: 2.3890 - val_accuracy: 0.3016\n",
            "Epoch 15/30\n",
            "100/100 [==============================] - 2s 25ms/step - loss: 2.3616 - accuracy: 0.3259 - val_loss: 2.3728 - val_accuracy: 0.3016\n",
            "Epoch 16/30\n",
            "100/100 [==============================] - 3s 25ms/step - loss: 2.3465 - accuracy: 0.3297 - val_loss: 2.3225 - val_accuracy: 0.3406\n",
            "Epoch 17/30\n",
            "100/100 [==============================] - 2s 25ms/step - loss: 2.3303 - accuracy: 0.3363 - val_loss: 2.4319 - val_accuracy: 0.2984\n",
            "Epoch 18/30\n",
            "100/100 [==============================] - 3s 25ms/step - loss: 2.3230 - accuracy: 0.3361 - val_loss: 2.3571 - val_accuracy: 0.3422\n",
            "Epoch 19/30\n",
            "100/100 [==============================] - 2s 25ms/step - loss: 2.3141 - accuracy: 0.3373 - val_loss: 2.3172 - val_accuracy: 0.3328\n",
            "Epoch 20/30\n",
            "100/100 [==============================] - 3s 25ms/step - loss: 2.2916 - accuracy: 0.3461 - val_loss: 2.2890 - val_accuracy: 0.3234\n",
            "Epoch 21/30\n",
            "100/100 [==============================] - 2s 25ms/step - loss: 2.2845 - accuracy: 0.3477 - val_loss: 2.3373 - val_accuracy: 0.3219\n",
            "Epoch 22/30\n",
            "100/100 [==============================] - 3s 25ms/step - loss: 2.2688 - accuracy: 0.3494 - val_loss: 2.3063 - val_accuracy: 0.3281\n",
            "Epoch 23/30\n",
            "100/100 [==============================] - 2s 25ms/step - loss: 2.2753 - accuracy: 0.3461 - val_loss: 2.3600 - val_accuracy: 0.2937\n",
            "Epoch 24/30\n",
            "100/100 [==============================] - 3s 25ms/step - loss: 2.2559 - accuracy: 0.3543 - val_loss: 2.3174 - val_accuracy: 0.3359\n",
            "Epoch 25/30\n",
            "100/100 [==============================] - 2s 25ms/step - loss: 2.2486 - accuracy: 0.3566 - val_loss: 2.2923 - val_accuracy: 0.3203\n",
            "Epoch 26/30\n",
            "100/100 [==============================] - 3s 25ms/step - loss: 2.2384 - accuracy: 0.3598 - val_loss: 2.3053 - val_accuracy: 0.3250\n",
            "Epoch 27/30\n",
            "100/100 [==============================] - 3s 25ms/step - loss: 2.2298 - accuracy: 0.3593 - val_loss: 2.2534 - val_accuracy: 0.3313\n",
            "Epoch 28/30\n",
            "100/100 [==============================] - 3s 25ms/step - loss: 2.2197 - accuracy: 0.3644 - val_loss: 2.2375 - val_accuracy: 0.3578\n",
            "Epoch 29/30\n",
            "100/100 [==============================] - 2s 25ms/step - loss: 2.2179 - accuracy: 0.3628 - val_loss: 2.3091 - val_accuracy: 0.3078\n",
            "Epoch 30/30\n",
            "100/100 [==============================] - 3s 25ms/step - loss: 2.2077 - accuracy: 0.3647 - val_loss: 2.2484 - val_accuracy: 0.3375\n"
          ],
          "name": "stdout"
        }
      ]
    },
    {
      "cell_type": "code",
      "metadata": {
        "id": "UIkX9uJeabnY",
        "colab": {
          "base_uri": "https://localhost:8080/",
          "height": 1000
        },
        "outputId": "5a26fe9e-47fe-4de7-a775-7d663cfe05cf"
      },
      "source": [
        "train_MLP2=train_model(MLP2,30,100,10)"
      ],
      "execution_count": null,
      "outputs": [
        {
          "output_type": "stream",
          "text": [
            "Epoch 1/30\n",
            "100/100 [==============================] - 3s 32ms/step - loss: 3.6796 - accuracy: 0.0759 - val_loss: 3.0800 - val_accuracy: 0.1172\n",
            "Epoch 2/30\n",
            "100/100 [==============================] - 3s 27ms/step - loss: 2.9521 - accuracy: 0.1713 - val_loss: 2.8573 - val_accuracy: 0.1992\n",
            "Epoch 3/30\n",
            "100/100 [==============================] - 3s 25ms/step - loss: 2.7921 - accuracy: 0.2145 - val_loss: 2.7401 - val_accuracy: 0.2313\n",
            "Epoch 4/30\n",
            "100/100 [==============================] - 3s 25ms/step - loss: 2.7022 - accuracy: 0.2301 - val_loss: 2.6747 - val_accuracy: 0.2500\n",
            "Epoch 5/30\n",
            "100/100 [==============================] - 2s 25ms/step - loss: 2.6350 - accuracy: 0.2501 - val_loss: 2.6086 - val_accuracy: 0.2602\n",
            "Epoch 6/30\n",
            "100/100 [==============================] - 3s 26ms/step - loss: 2.5849 - accuracy: 0.2573 - val_loss: 2.5714 - val_accuracy: 0.2562\n",
            "Epoch 7/30\n",
            "100/100 [==============================] - 3s 26ms/step - loss: 2.5420 - accuracy: 0.2693 - val_loss: 2.5347 - val_accuracy: 0.2742\n",
            "Epoch 8/30\n",
            "100/100 [==============================] - 3s 26ms/step - loss: 2.5082 - accuracy: 0.2825 - val_loss: 2.5128 - val_accuracy: 0.2688\n",
            "Epoch 9/30\n",
            "100/100 [==============================] - 3s 25ms/step - loss: 2.4782 - accuracy: 0.2902 - val_loss: 2.4851 - val_accuracy: 0.2930\n",
            "Epoch 10/30\n",
            "100/100 [==============================] - 3s 26ms/step - loss: 2.4485 - accuracy: 0.2956 - val_loss: 2.4718 - val_accuracy: 0.2781\n",
            "Epoch 11/30\n",
            "100/100 [==============================] - 3s 25ms/step - loss: 2.4350 - accuracy: 0.2996 - val_loss: 2.4258 - val_accuracy: 0.2977\n",
            "Epoch 12/30\n",
            "100/100 [==============================] - 3s 25ms/step - loss: 2.4000 - accuracy: 0.3135 - val_loss: 2.4372 - val_accuracy: 0.2898\n",
            "Epoch 13/30\n",
            "100/100 [==============================] - 2s 25ms/step - loss: 2.3877 - accuracy: 0.3129 - val_loss: 2.4147 - val_accuracy: 0.2961\n",
            "Epoch 14/30\n",
            "100/100 [==============================] - 3s 25ms/step - loss: 2.3685 - accuracy: 0.3206 - val_loss: 2.4201 - val_accuracy: 0.2984\n",
            "Epoch 15/30\n",
            "100/100 [==============================] - 3s 25ms/step - loss: 2.3602 - accuracy: 0.3230 - val_loss: 2.3832 - val_accuracy: 0.3133\n",
            "Epoch 16/30\n",
            "100/100 [==============================] - 3s 26ms/step - loss: 2.3393 - accuracy: 0.3291 - val_loss: 2.3854 - val_accuracy: 0.3133\n",
            "Epoch 17/30\n",
            "100/100 [==============================] - 3s 25ms/step - loss: 2.3265 - accuracy: 0.3315 - val_loss: 2.3548 - val_accuracy: 0.3195\n",
            "Epoch 18/30\n",
            "100/100 [==============================] - 3s 26ms/step - loss: 2.3094 - accuracy: 0.3375 - val_loss: 2.3373 - val_accuracy: 0.3266\n",
            "Epoch 19/30\n",
            "100/100 [==============================] - 2s 25ms/step - loss: 2.3008 - accuracy: 0.3399 - val_loss: 2.3247 - val_accuracy: 0.3219\n",
            "Epoch 20/30\n",
            "100/100 [==============================] - 3s 26ms/step - loss: 2.2902 - accuracy: 0.3430 - val_loss: 2.3360 - val_accuracy: 0.3195\n",
            "Epoch 21/30\n",
            "100/100 [==============================] - 3s 26ms/step - loss: 2.2713 - accuracy: 0.3495 - val_loss: 2.3228 - val_accuracy: 0.3344\n",
            "Epoch 22/30\n",
            "100/100 [==============================] - 3s 26ms/step - loss: 2.2727 - accuracy: 0.3452 - val_loss: 2.3117 - val_accuracy: 0.3422\n",
            "Epoch 23/30\n",
            "100/100 [==============================] - 3s 25ms/step - loss: 2.2623 - accuracy: 0.3491 - val_loss: 2.3010 - val_accuracy: 0.3375\n",
            "Epoch 24/30\n",
            "100/100 [==============================] - 3s 25ms/step - loss: 2.2443 - accuracy: 0.3541 - val_loss: 2.3049 - val_accuracy: 0.3461\n",
            "Epoch 25/30\n",
            "100/100 [==============================] - 2s 25ms/step - loss: 2.2405 - accuracy: 0.3578 - val_loss: 2.2914 - val_accuracy: 0.3383\n",
            "Epoch 26/30\n",
            "100/100 [==============================] - 3s 25ms/step - loss: 2.2294 - accuracy: 0.3577 - val_loss: 2.2967 - val_accuracy: 0.3344\n",
            "Epoch 27/30\n",
            "100/100 [==============================] - 2s 25ms/step - loss: 2.2244 - accuracy: 0.3619 - val_loss: 2.2723 - val_accuracy: 0.3453\n",
            "Epoch 28/30\n",
            "100/100 [==============================] - 3s 26ms/step - loss: 2.2121 - accuracy: 0.3674 - val_loss: 2.2785 - val_accuracy: 0.3352\n",
            "Epoch 29/30\n",
            "100/100 [==============================] - 3s 25ms/step - loss: 2.1999 - accuracy: 0.3627 - val_loss: 2.2672 - val_accuracy: 0.3406\n",
            "Epoch 30/30\n",
            "100/100 [==============================] - 3s 26ms/step - loss: 2.2063 - accuracy: 0.3664 - val_loss: 2.2590 - val_accuracy: 0.3516\n"
          ],
          "name": "stdout"
        }
      ]
    },
    {
      "cell_type": "code",
      "metadata": {
        "id": "TP2un2KrbBcH",
        "colab": {
          "base_uri": "https://localhost:8080/",
          "height": 1000
        },
        "outputId": "a6464bed-b743-4549-9b21-74d9a731b40c"
      },
      "source": [
        "train_LeNet2=train_model(LeNet2,30,50,10)"
      ],
      "execution_count": null,
      "outputs": [
        {
          "output_type": "stream",
          "text": [
            "Epoch 1/30\n",
            "50/50 [==============================] - 6s 123ms/step - loss: 5.2424 - accuracy: 0.0273 - val_loss: 5.1719 - val_accuracy: 0.0484\n",
            "Epoch 2/30\n",
            "50/50 [==============================] - 6s 122ms/step - loss: 5.0566 - accuracy: 0.0492 - val_loss: 4.8705 - val_accuracy: 0.0617\n",
            "Epoch 3/30\n",
            "50/50 [==============================] - 6s 122ms/step - loss: 4.5318 - accuracy: 0.0542 - val_loss: 4.0770 - val_accuracy: 0.0688\n",
            "Epoch 4/30\n",
            "50/50 [==============================] - 6s 121ms/step - loss: 3.6638 - accuracy: 0.0550 - val_loss: 3.3234 - val_accuracy: 0.0641\n",
            "Epoch 5/30\n",
            "50/50 [==============================] - 6s 122ms/step - loss: 3.1866 - accuracy: 0.0764 - val_loss: 3.0777 - val_accuracy: 0.0898\n",
            "Epoch 6/30\n",
            "50/50 [==============================] - 6s 122ms/step - loss: 3.0429 - accuracy: 0.0913 - val_loss: 3.0072 - val_accuracy: 0.1055\n",
            "Epoch 7/30\n",
            "50/50 [==============================] - 6s 121ms/step - loss: 2.9965 - accuracy: 0.1000 - val_loss: 2.9682 - val_accuracy: 0.1086\n",
            "Epoch 8/30\n",
            "50/50 [==============================] - 6s 121ms/step - loss: 2.9591 - accuracy: 0.1086 - val_loss: 2.9495 - val_accuracy: 0.1156\n",
            "Epoch 9/30\n",
            "50/50 [==============================] - 6s 120ms/step - loss: 2.9361 - accuracy: 0.1159 - val_loss: 2.9219 - val_accuracy: 0.1391\n",
            "Epoch 10/30\n",
            "50/50 [==============================] - 6s 121ms/step - loss: 2.9148 - accuracy: 0.1256 - val_loss: 2.8980 - val_accuracy: 0.1344\n",
            "Epoch 11/30\n",
            "50/50 [==============================] - 6s 121ms/step - loss: 2.8996 - accuracy: 0.1300 - val_loss: 2.8919 - val_accuracy: 0.1352\n",
            "Epoch 12/30\n",
            "50/50 [==============================] - 6s 121ms/step - loss: 2.8861 - accuracy: 0.1312 - val_loss: 2.8788 - val_accuracy: 0.1258\n",
            "Epoch 13/30\n",
            "50/50 [==============================] - 6s 120ms/step - loss: 2.8695 - accuracy: 0.1384 - val_loss: 2.8684 - val_accuracy: 0.1211\n",
            "Epoch 14/30\n",
            "50/50 [==============================] - 6s 122ms/step - loss: 2.8483 - accuracy: 0.1381 - val_loss: 2.8399 - val_accuracy: 0.1633\n",
            "Epoch 15/30\n",
            "50/50 [==============================] - 6s 123ms/step - loss: 2.8505 - accuracy: 0.1441 - val_loss: 2.8402 - val_accuracy: 0.1406\n",
            "Epoch 16/30\n",
            "50/50 [==============================] - 6s 123ms/step - loss: 2.8382 - accuracy: 0.1502 - val_loss: 2.8332 - val_accuracy: 0.1547\n",
            "Epoch 17/30\n",
            "50/50 [==============================] - 6s 121ms/step - loss: 2.8243 - accuracy: 0.1523 - val_loss: 2.8292 - val_accuracy: 0.1633\n",
            "Epoch 18/30\n",
            "50/50 [==============================] - 6s 123ms/step - loss: 2.8092 - accuracy: 0.1553 - val_loss: 2.8218 - val_accuracy: 0.1648\n",
            "Epoch 19/30\n",
            "50/50 [==============================] - 6s 124ms/step - loss: 2.8103 - accuracy: 0.1583 - val_loss: 2.8061 - val_accuracy: 0.1602\n",
            "Epoch 20/30\n",
            "50/50 [==============================] - 6s 123ms/step - loss: 2.7954 - accuracy: 0.1667 - val_loss: 2.7968 - val_accuracy: 0.1641\n",
            "Epoch 21/30\n",
            "50/50 [==============================] - 6s 123ms/step - loss: 2.7859 - accuracy: 0.1655 - val_loss: 2.7966 - val_accuracy: 0.1688\n",
            "Epoch 22/30\n",
            "50/50 [==============================] - 6s 123ms/step - loss: 2.7778 - accuracy: 0.1717 - val_loss: 2.7943 - val_accuracy: 0.1773\n",
            "Epoch 23/30\n",
            "50/50 [==============================] - 6s 123ms/step - loss: 2.7788 - accuracy: 0.1734 - val_loss: 2.7720 - val_accuracy: 0.1727\n",
            "Epoch 24/30\n",
            "50/50 [==============================] - 6s 127ms/step - loss: 2.7591 - accuracy: 0.1783 - val_loss: 2.7731 - val_accuracy: 0.1695\n",
            "Epoch 25/30\n",
            "50/50 [==============================] - 6s 122ms/step - loss: 2.7630 - accuracy: 0.1731 - val_loss: 2.7614 - val_accuracy: 0.1656\n",
            "Epoch 26/30\n",
            "50/50 [==============================] - 6s 123ms/step - loss: 2.7518 - accuracy: 0.1847 - val_loss: 2.7530 - val_accuracy: 0.1961\n",
            "Epoch 27/30\n",
            "50/50 [==============================] - 6s 123ms/step - loss: 2.7422 - accuracy: 0.1797 - val_loss: 2.7476 - val_accuracy: 0.1859\n",
            "Epoch 28/30\n",
            "50/50 [==============================] - 6s 123ms/step - loss: 2.7429 - accuracy: 0.1939 - val_loss: 2.7387 - val_accuracy: 0.1961\n",
            "Epoch 29/30\n",
            "50/50 [==============================] - 6s 122ms/step - loss: 2.7252 - accuracy: 0.1973 - val_loss: 2.7392 - val_accuracy: 0.2023\n",
            "Epoch 30/30\n",
            "50/50 [==============================] - 6s 123ms/step - loss: 2.7292 - accuracy: 0.1972 - val_loss: 2.7366 - val_accuracy: 0.2000\n"
          ],
          "name": "stdout"
        }
      ]
    },
    {
      "cell_type": "code",
      "metadata": {
        "id": "fHQX4nVpubMK",
        "colab": {
          "base_uri": "https://localhost:8080/",
          "height": 1000
        },
        "outputId": "a8d8a26f-4c96-4093-b52d-e0aad25c6bc6"
      },
      "source": [
        "train_Lenet1=train_model(Lenet1,30,50,10)"
      ],
      "execution_count": null,
      "outputs": [
        {
          "output_type": "stream",
          "text": [
            "Epoch 1/30\n",
            "50/50 [==============================] - 6s 124ms/step - loss: 5.2392 - accuracy: 0.0141 - val_loss: 5.1458 - val_accuracy: 0.0430\n",
            "Epoch 2/30\n",
            "50/50 [==============================] - 6s 124ms/step - loss: 4.9628 - accuracy: 0.0516 - val_loss: 4.6429 - val_accuracy: 0.0789\n",
            "Epoch 3/30\n",
            "50/50 [==============================] - 6s 123ms/step - loss: 4.1253 - accuracy: 0.0769 - val_loss: 3.5808 - val_accuracy: 0.0727\n",
            "Epoch 4/30\n",
            "50/50 [==============================] - 6s 123ms/step - loss: 3.2970 - accuracy: 0.0705 - val_loss: 3.1258 - val_accuracy: 0.0773\n",
            "Epoch 5/30\n",
            "50/50 [==============================] - 6s 123ms/step - loss: 3.0560 - accuracy: 0.0866 - val_loss: 3.0169 - val_accuracy: 0.1117\n",
            "Epoch 6/30\n",
            "50/50 [==============================] - 6s 124ms/step - loss: 2.9876 - accuracy: 0.1103 - val_loss: 2.9651 - val_accuracy: 0.1109\n",
            "Epoch 7/30\n",
            "50/50 [==============================] - 6s 124ms/step - loss: 2.9452 - accuracy: 0.1238 - val_loss: 2.9312 - val_accuracy: 0.1242\n",
            "Epoch 8/30\n",
            "50/50 [==============================] - 6s 123ms/step - loss: 2.9162 - accuracy: 0.1213 - val_loss: 2.9058 - val_accuracy: 0.1328\n",
            "Epoch 9/30\n",
            "50/50 [==============================] - 6s 121ms/step - loss: 2.8918 - accuracy: 0.1319 - val_loss: 2.8869 - val_accuracy: 0.1453\n",
            "Epoch 10/30\n",
            "50/50 [==============================] - 6s 123ms/step - loss: 2.8756 - accuracy: 0.1372 - val_loss: 2.8606 - val_accuracy: 0.1688\n",
            "Epoch 11/30\n",
            "50/50 [==============================] - 6s 124ms/step - loss: 2.8520 - accuracy: 0.1477 - val_loss: 2.8525 - val_accuracy: 0.1516\n",
            "Epoch 12/30\n",
            "50/50 [==============================] - 6s 123ms/step - loss: 2.8330 - accuracy: 0.1503 - val_loss: 2.8378 - val_accuracy: 0.1555\n",
            "Epoch 13/30\n",
            "50/50 [==============================] - 6s 121ms/step - loss: 2.8220 - accuracy: 0.1538 - val_loss: 2.8207 - val_accuracy: 0.1695\n",
            "Epoch 14/30\n",
            "50/50 [==============================] - 6s 121ms/step - loss: 2.8042 - accuracy: 0.1583 - val_loss: 2.8153 - val_accuracy: 0.1602\n",
            "Epoch 15/30\n",
            "50/50 [==============================] - 6s 121ms/step - loss: 2.7876 - accuracy: 0.1677 - val_loss: 2.7918 - val_accuracy: 0.1773\n",
            "Epoch 16/30\n",
            "50/50 [==============================] - 6s 121ms/step - loss: 2.7790 - accuracy: 0.1705 - val_loss: 2.7935 - val_accuracy: 0.1750\n",
            "Epoch 17/30\n",
            "50/50 [==============================] - 6s 121ms/step - loss: 2.7637 - accuracy: 0.1767 - val_loss: 2.7801 - val_accuracy: 0.1727\n",
            "Epoch 18/30\n",
            "50/50 [==============================] - 6s 123ms/step - loss: 2.7613 - accuracy: 0.1828 - val_loss: 2.7719 - val_accuracy: 0.1742\n",
            "Epoch 19/30\n",
            "50/50 [==============================] - 6s 123ms/step - loss: 2.7502 - accuracy: 0.1806 - val_loss: 2.7483 - val_accuracy: 0.1937\n",
            "Epoch 20/30\n",
            "50/50 [==============================] - 6s 123ms/step - loss: 2.7309 - accuracy: 0.1902 - val_loss: 2.7526 - val_accuracy: 0.1953\n",
            "Epoch 21/30\n",
            "50/50 [==============================] - 6s 121ms/step - loss: 2.7197 - accuracy: 0.1937 - val_loss: 2.7287 - val_accuracy: 0.1953\n",
            "Epoch 22/30\n",
            "50/50 [==============================] - 6s 123ms/step - loss: 2.7112 - accuracy: 0.1978 - val_loss: 2.7264 - val_accuracy: 0.2172\n",
            "Epoch 23/30\n",
            "50/50 [==============================] - 6s 122ms/step - loss: 2.7058 - accuracy: 0.2036 - val_loss: 2.7059 - val_accuracy: 0.2273\n",
            "Epoch 24/30\n",
            "50/50 [==============================] - 6s 122ms/step - loss: 2.6957 - accuracy: 0.2034 - val_loss: 2.6961 - val_accuracy: 0.2203\n",
            "Epoch 25/30\n",
            "50/50 [==============================] - 6s 120ms/step - loss: 2.6842 - accuracy: 0.2098 - val_loss: 2.6924 - val_accuracy: 0.2094\n",
            "Epoch 26/30\n",
            "50/50 [==============================] - 6s 122ms/step - loss: 2.6767 - accuracy: 0.2016 - val_loss: 2.6912 - val_accuracy: 0.2250\n",
            "Epoch 27/30\n",
            "50/50 [==============================] - 6s 123ms/step - loss: 2.6590 - accuracy: 0.2194 - val_loss: 2.6645 - val_accuracy: 0.2305\n",
            "Epoch 28/30\n",
            "50/50 [==============================] - 6s 122ms/step - loss: 2.6655 - accuracy: 0.2141 - val_loss: 2.6729 - val_accuracy: 0.2234\n",
            "Epoch 29/30\n",
            "50/50 [==============================] - 6s 121ms/step - loss: 2.6482 - accuracy: 0.2161 - val_loss: 2.6656 - val_accuracy: 0.2281\n",
            "Epoch 30/30\n",
            "50/50 [==============================] - 6s 122ms/step - loss: 2.6398 - accuracy: 0.2192 - val_loss: 2.6259 - val_accuracy: 0.2414\n"
          ],
          "name": "stdout"
        }
      ]
    },
    {
      "cell_type": "code",
      "metadata": {
        "id": "NmIXxP54bM5V",
        "colab": {
          "base_uri": "https://localhost:8080/",
          "height": 1000
        },
        "outputId": "fff5efce-fa9c-42de-9051-a34e0e7a15c7"
      },
      "source": [
        "train_CNN1=train_model(CNN1,30,50,10)"
      ],
      "execution_count": null,
      "outputs": [
        {
          "output_type": "stream",
          "text": [
            "Epoch 1/30\n",
            "50/50 [==============================] - 5s 91ms/step - loss: 3.1201 - accuracy: 0.0945 - val_loss: 2.8289 - val_accuracy: 0.1602\n",
            "Epoch 2/30\n",
            "50/50 [==============================] - 5s 91ms/step - loss: 2.6965 - accuracy: 0.1792 - val_loss: 2.5730 - val_accuracy: 0.2242\n",
            "Epoch 3/30\n",
            "50/50 [==============================] - 5s 92ms/step - loss: 2.5302 - accuracy: 0.2403 - val_loss: 2.4183 - val_accuracy: 0.2703\n",
            "Epoch 4/30\n",
            "50/50 [==============================] - 5s 91ms/step - loss: 2.4311 - accuracy: 0.2688 - val_loss: 2.3063 - val_accuracy: 0.3172\n",
            "Epoch 5/30\n",
            "50/50 [==============================] - 5s 91ms/step - loss: 2.3261 - accuracy: 0.3011 - val_loss: 2.5267 - val_accuracy: 0.2625\n",
            "Epoch 6/30\n",
            "50/50 [==============================] - 4s 90ms/step - loss: 2.2534 - accuracy: 0.3291 - val_loss: 2.2096 - val_accuracy: 0.3375\n",
            "Epoch 7/30\n",
            "50/50 [==============================] - 5s 90ms/step - loss: 2.1734 - accuracy: 0.3542 - val_loss: 2.1720 - val_accuracy: 0.3477\n",
            "Epoch 8/30\n",
            "50/50 [==============================] - 4s 90ms/step - loss: 2.1372 - accuracy: 0.3669 - val_loss: 2.1379 - val_accuracy: 0.3562\n",
            "Epoch 9/30\n",
            "50/50 [==============================] - 4s 89ms/step - loss: 2.0733 - accuracy: 0.3845 - val_loss: 2.0587 - val_accuracy: 0.3812\n",
            "Epoch 10/30\n",
            "50/50 [==============================] - 5s 92ms/step - loss: 2.0196 - accuracy: 0.4056 - val_loss: 2.0569 - val_accuracy: 0.3797\n",
            "Epoch 11/30\n",
            "50/50 [==============================] - 5s 91ms/step - loss: 1.9670 - accuracy: 0.4173 - val_loss: 1.9918 - val_accuracy: 0.3922\n",
            "Epoch 12/30\n",
            "50/50 [==============================] - 5s 91ms/step - loss: 1.9394 - accuracy: 0.4256 - val_loss: 1.9575 - val_accuracy: 0.4086\n",
            "Epoch 13/30\n",
            "50/50 [==============================] - 4s 89ms/step - loss: 1.8807 - accuracy: 0.4389 - val_loss: 1.9169 - val_accuracy: 0.4117\n",
            "Epoch 14/30\n",
            "50/50 [==============================] - 5s 91ms/step - loss: 1.8565 - accuracy: 0.4542 - val_loss: 1.8709 - val_accuracy: 0.4391\n",
            "Epoch 15/30\n",
            "50/50 [==============================] - 5s 91ms/step - loss: 1.8301 - accuracy: 0.4606 - val_loss: 1.9672 - val_accuracy: 0.4125\n",
            "Epoch 16/30\n",
            "50/50 [==============================] - 5s 92ms/step - loss: 1.7978 - accuracy: 0.4659 - val_loss: 1.8404 - val_accuracy: 0.4516\n",
            "Epoch 17/30\n",
            "50/50 [==============================] - 4s 90ms/step - loss: 1.7826 - accuracy: 0.4716 - val_loss: 1.8386 - val_accuracy: 0.4391\n",
            "Epoch 18/30\n",
            "50/50 [==============================] - 5s 91ms/step - loss: 1.7275 - accuracy: 0.4852 - val_loss: 1.8494 - val_accuracy: 0.4531\n",
            "Epoch 19/30\n",
            "50/50 [==============================] - 5s 90ms/step - loss: 1.7309 - accuracy: 0.4822 - val_loss: 1.7992 - val_accuracy: 0.4563\n",
            "Epoch 20/30\n",
            "50/50 [==============================] - 5s 90ms/step - loss: 1.7007 - accuracy: 0.4933 - val_loss: 1.8004 - val_accuracy: 0.4742\n",
            "Epoch 21/30\n",
            "50/50 [==============================] - 4s 90ms/step - loss: 1.6764 - accuracy: 0.5008 - val_loss: 1.7913 - val_accuracy: 0.4633\n",
            "Epoch 22/30\n",
            "50/50 [==============================] - 5s 91ms/step - loss: 1.6469 - accuracy: 0.5106 - val_loss: 1.7461 - val_accuracy: 0.4883\n",
            "Epoch 23/30\n",
            "50/50 [==============================] - 5s 91ms/step - loss: 1.6391 - accuracy: 0.5100 - val_loss: 1.6923 - val_accuracy: 0.4914\n",
            "Epoch 24/30\n",
            "50/50 [==============================] - 4s 90ms/step - loss: 1.6082 - accuracy: 0.5220 - val_loss: 1.7291 - val_accuracy: 0.4820\n",
            "Epoch 25/30\n",
            "50/50 [==============================] - 5s 90ms/step - loss: 1.5869 - accuracy: 0.5225 - val_loss: 1.6684 - val_accuracy: 0.5016\n",
            "Epoch 26/30\n",
            "50/50 [==============================] - 4s 90ms/step - loss: 1.5805 - accuracy: 0.5198 - val_loss: 1.7761 - val_accuracy: 0.4570\n",
            "Epoch 27/30\n",
            "50/50 [==============================] - 4s 89ms/step - loss: 1.5232 - accuracy: 0.5411 - val_loss: 1.7277 - val_accuracy: 0.4859\n",
            "Epoch 28/30\n",
            "50/50 [==============================] - 4s 89ms/step - loss: 1.5560 - accuracy: 0.5319 - val_loss: 1.6826 - val_accuracy: 0.5125\n",
            "Epoch 29/30\n",
            "50/50 [==============================] - 4s 89ms/step - loss: 1.5120 - accuracy: 0.5484 - val_loss: 1.7062 - val_accuracy: 0.4859\n",
            "Epoch 30/30\n",
            "50/50 [==============================] - 5s 91ms/step - loss: 1.5248 - accuracy: 0.5406 - val_loss: 1.7506 - val_accuracy: 0.4766\n"
          ],
          "name": "stdout"
        }
      ]
    },
    {
      "cell_type": "code",
      "metadata": {
        "id": "xdaok8tZbct0",
        "colab": {
          "base_uri": "https://localhost:8080/",
          "height": 1000
        },
        "outputId": "c7809c48-ddfb-4ccd-a31a-9008dc7bb1e6"
      },
      "source": [
        "train_CNN2=train_model(CNN2,30,50,10)"
      ],
      "execution_count": null,
      "outputs": [
        {
          "output_type": "stream",
          "text": [
            "Epoch 1/30\n",
            "50/50 [==============================] - 5s 90ms/step - loss: 3.1218 - accuracy: 0.0833 - val_loss: 2.8032 - val_accuracy: 0.1641\n",
            "Epoch 2/30\n",
            "50/50 [==============================] - 4s 90ms/step - loss: 2.7289 - accuracy: 0.1803 - val_loss: 2.5831 - val_accuracy: 0.2203\n",
            "Epoch 3/30\n",
            "50/50 [==============================] - 4s 88ms/step - loss: 2.5571 - accuracy: 0.2289 - val_loss: 2.4642 - val_accuracy: 0.2641\n",
            "Epoch 4/30\n",
            "50/50 [==============================] - 4s 90ms/step - loss: 2.4486 - accuracy: 0.2612 - val_loss: 2.3920 - val_accuracy: 0.2719\n",
            "Epoch 5/30\n",
            "50/50 [==============================] - 4s 88ms/step - loss: 2.3616 - accuracy: 0.3050 - val_loss: 2.3376 - val_accuracy: 0.2898\n",
            "Epoch 6/30\n",
            "50/50 [==============================] - 4s 89ms/step - loss: 2.2628 - accuracy: 0.3323 - val_loss: 2.2292 - val_accuracy: 0.3391\n",
            "Epoch 7/30\n",
            "50/50 [==============================] - 4s 89ms/step - loss: 2.2164 - accuracy: 0.3444 - val_loss: 2.0977 - val_accuracy: 0.3750\n",
            "Epoch 8/30\n",
            "50/50 [==============================] - 4s 89ms/step - loss: 2.1318 - accuracy: 0.3778 - val_loss: 2.1788 - val_accuracy: 0.3469\n",
            "Epoch 9/30\n",
            "50/50 [==============================] - 4s 88ms/step - loss: 2.0732 - accuracy: 0.3742 - val_loss: 2.0157 - val_accuracy: 0.4031\n",
            "Epoch 10/30\n",
            "50/50 [==============================] - 4s 89ms/step - loss: 2.0352 - accuracy: 0.3908 - val_loss: 2.0054 - val_accuracy: 0.3938\n",
            "Epoch 11/30\n",
            "50/50 [==============================] - 5s 92ms/step - loss: 1.9928 - accuracy: 0.4066 - val_loss: 2.0393 - val_accuracy: 0.3719\n",
            "Epoch 12/30\n",
            "50/50 [==============================] - 5s 91ms/step - loss: 1.9336 - accuracy: 0.4239 - val_loss: 1.9616 - val_accuracy: 0.4125\n",
            "Epoch 13/30\n",
            "50/50 [==============================] - 4s 89ms/step - loss: 1.9052 - accuracy: 0.4269 - val_loss: 2.1370 - val_accuracy: 0.3750\n",
            "Epoch 14/30\n",
            "50/50 [==============================] - 4s 89ms/step - loss: 1.8651 - accuracy: 0.4433 - val_loss: 1.9860 - val_accuracy: 0.4023\n",
            "Epoch 15/30\n",
            "50/50 [==============================] - 5s 90ms/step - loss: 1.8318 - accuracy: 0.4483 - val_loss: 1.8776 - val_accuracy: 0.4391\n",
            "Epoch 16/30\n",
            "50/50 [==============================] - 4s 90ms/step - loss: 1.8140 - accuracy: 0.4528 - val_loss: 1.8210 - val_accuracy: 0.4609\n",
            "Epoch 17/30\n",
            "50/50 [==============================] - 4s 90ms/step - loss: 1.7749 - accuracy: 0.4775 - val_loss: 1.8714 - val_accuracy: 0.4344\n",
            "Epoch 18/30\n",
            "50/50 [==============================] - 5s 91ms/step - loss: 1.7424 - accuracy: 0.4816 - val_loss: 1.8279 - val_accuracy: 0.4500\n",
            "Epoch 19/30\n",
            "50/50 [==============================] - 5s 90ms/step - loss: 1.7434 - accuracy: 0.4731 - val_loss: 1.7746 - val_accuracy: 0.4625\n",
            "Epoch 20/30\n",
            "50/50 [==============================] - 4s 89ms/step - loss: 1.7019 - accuracy: 0.4787 - val_loss: 1.7345 - val_accuracy: 0.4789\n",
            "Epoch 21/30\n",
            "50/50 [==============================] - 4s 89ms/step - loss: 1.6615 - accuracy: 0.5023 - val_loss: 1.7910 - val_accuracy: 0.4727\n",
            "Epoch 22/30\n",
            "50/50 [==============================] - 4s 89ms/step - loss: 1.6511 - accuracy: 0.5105 - val_loss: 1.8167 - val_accuracy: 0.4641\n",
            "Epoch 23/30\n",
            "50/50 [==============================] - 4s 88ms/step - loss: 1.6494 - accuracy: 0.5092 - val_loss: 1.7254 - val_accuracy: 0.4883\n",
            "Epoch 24/30\n",
            "50/50 [==============================] - 4s 90ms/step - loss: 1.5987 - accuracy: 0.5170 - val_loss: 1.8397 - val_accuracy: 0.4477\n",
            "Epoch 25/30\n",
            "50/50 [==============================] - 4s 88ms/step - loss: 1.5806 - accuracy: 0.5203 - val_loss: 1.7567 - val_accuracy: 0.4750\n",
            "Epoch 26/30\n",
            "50/50 [==============================] - 5s 90ms/step - loss: 1.5585 - accuracy: 0.5266 - val_loss: 1.8343 - val_accuracy: 0.4648\n",
            "Epoch 27/30\n",
            "50/50 [==============================] - 4s 89ms/step - loss: 1.5447 - accuracy: 0.5344 - val_loss: 1.7202 - val_accuracy: 0.4875\n",
            "Epoch 28/30\n",
            "50/50 [==============================] - 4s 89ms/step - loss: 1.5302 - accuracy: 0.5358 - val_loss: 1.6548 - val_accuracy: 0.5078\n",
            "Epoch 29/30\n",
            "50/50 [==============================] - 4s 88ms/step - loss: 1.5031 - accuracy: 0.5437 - val_loss: 1.6211 - val_accuracy: 0.5164\n",
            "Epoch 30/30\n",
            "50/50 [==============================] - 4s 88ms/step - loss: 1.4989 - accuracy: 0.5469 - val_loss: 1.6652 - val_accuracy: 0.5008\n"
          ],
          "name": "stdout"
        }
      ]
    },
    {
      "cell_type": "code",
      "metadata": {
        "id": "iDBqeeYjbkQI",
        "colab": {
          "base_uri": "https://localhost:8080/",
          "height": 1000
        },
        "outputId": "18b2bd94-377b-4cf6-e2f1-f5f41f34e563"
      },
      "source": [
        "train_MYCNN1=train_model(MYCNN1,30,50,10)"
      ],
      "execution_count": null,
      "outputs": [
        {
          "output_type": "stream",
          "text": [
            "Epoch 1/30\n",
            "50/50 [==============================] - 7s 146ms/step - loss: 6.4643 - accuracy: 0.0489 - val_loss: 5.1832 - val_accuracy: 0.0555\n",
            "Epoch 2/30\n",
            "50/50 [==============================] - 7s 145ms/step - loss: 4.6334 - accuracy: 0.0636 - val_loss: 4.0117 - val_accuracy: 0.1008\n",
            "Epoch 3/30\n",
            "50/50 [==============================] - 7s 147ms/step - loss: 4.3626 - accuracy: 0.0697 - val_loss: 4.1301 - val_accuracy: 0.0516\n",
            "Epoch 4/30\n",
            "50/50 [==============================] - 7s 144ms/step - loss: 4.3352 - accuracy: 0.0592 - val_loss: 4.0972 - val_accuracy: 0.0609\n",
            "Epoch 5/30\n",
            "50/50 [==============================] - 7s 144ms/step - loss: 4.2054 - accuracy: 0.0667 - val_loss: 3.9830 - val_accuracy: 0.0766\n",
            "Epoch 6/30\n",
            "50/50 [==============================] - 7s 144ms/step - loss: 4.1844 - accuracy: 0.0745 - val_loss: 4.0437 - val_accuracy: 0.0906\n",
            "Epoch 7/30\n",
            "50/50 [==============================] - 7s 143ms/step - loss: 4.1801 - accuracy: 0.1028 - val_loss: 3.9033 - val_accuracy: 0.1094\n",
            "Epoch 8/30\n",
            "50/50 [==============================] - 7s 142ms/step - loss: 4.1154 - accuracy: 0.1217 - val_loss: 3.9788 - val_accuracy: 0.1469\n",
            "Epoch 9/30\n",
            "50/50 [==============================] - 7s 142ms/step - loss: 4.0588 - accuracy: 0.1514 - val_loss: 4.0190 - val_accuracy: 0.1602\n",
            "Epoch 10/30\n",
            "50/50 [==============================] - 7s 144ms/step - loss: 4.1198 - accuracy: 0.1611 - val_loss: 4.0203 - val_accuracy: 0.1719\n",
            "Epoch 11/30\n",
            "50/50 [==============================] - 7s 143ms/step - loss: 4.0860 - accuracy: 0.1789 - val_loss: 3.9617 - val_accuracy: 0.1883\n",
            "Epoch 12/30\n",
            "50/50 [==============================] - 7s 144ms/step - loss: 4.0623 - accuracy: 0.1819 - val_loss: 3.9333 - val_accuracy: 0.1914\n",
            "Epoch 13/30\n",
            "50/50 [==============================] - 7s 143ms/step - loss: 4.0759 - accuracy: 0.1869 - val_loss: 3.9320 - val_accuracy: 0.2078\n",
            "Epoch 14/30\n",
            "50/50 [==============================] - 7s 147ms/step - loss: 3.9991 - accuracy: 0.1963 - val_loss: 3.8715 - val_accuracy: 0.1922\n",
            "Epoch 15/30\n",
            "50/50 [==============================] - 7s 149ms/step - loss: 3.9901 - accuracy: 0.2000 - val_loss: 3.9346 - val_accuracy: 0.2203\n",
            "Epoch 16/30\n",
            "50/50 [==============================] - 7s 145ms/step - loss: 4.0165 - accuracy: 0.2163 - val_loss: 3.9300 - val_accuracy: 0.2227\n",
            "Epoch 17/30\n",
            "50/50 [==============================] - 7s 145ms/step - loss: 3.9853 - accuracy: 0.2022 - val_loss: 3.9343 - val_accuracy: 0.1734\n",
            "Epoch 18/30\n",
            "50/50 [==============================] - 7s 146ms/step - loss: 3.9940 - accuracy: 0.2000 - val_loss: 3.8559 - val_accuracy: 0.2273\n",
            "Epoch 19/30\n",
            "50/50 [==============================] - 7s 147ms/step - loss: 3.9482 - accuracy: 0.2163 - val_loss: 3.8422 - val_accuracy: 0.2211\n",
            "Epoch 20/30\n",
            "50/50 [==============================] - 7s 146ms/step - loss: 3.9630 - accuracy: 0.2202 - val_loss: 3.9367 - val_accuracy: 0.2398\n",
            "Epoch 21/30\n",
            "50/50 [==============================] - 7s 145ms/step - loss: 3.9147 - accuracy: 0.2212 - val_loss: 3.8166 - val_accuracy: 0.2195\n",
            "Epoch 22/30\n",
            "50/50 [==============================] - 7s 146ms/step - loss: 3.9082 - accuracy: 0.2014 - val_loss: 3.7709 - val_accuracy: 0.2336\n",
            "Epoch 23/30\n",
            "50/50 [==============================] - 7s 145ms/step - loss: 3.9343 - accuracy: 0.2313 - val_loss: 3.8974 - val_accuracy: 0.2242\n",
            "Epoch 24/30\n",
            "50/50 [==============================] - 7s 145ms/step - loss: 3.9341 - accuracy: 0.2409 - val_loss: 3.8360 - val_accuracy: 0.1820\n",
            "Epoch 25/30\n",
            "50/50 [==============================] - 7s 144ms/step - loss: 3.9062 - accuracy: 0.1916 - val_loss: 3.8338 - val_accuracy: 0.2297\n",
            "Epoch 26/30\n",
            "50/50 [==============================] - 7s 145ms/step - loss: 3.8200 - accuracy: 0.2134 - val_loss: 3.8518 - val_accuracy: 0.2266\n",
            "Epoch 27/30\n",
            "50/50 [==============================] - 7s 145ms/step - loss: 3.9075 - accuracy: 0.2223 - val_loss: 3.8863 - val_accuracy: 0.2203\n",
            "Epoch 28/30\n",
            "50/50 [==============================] - 7s 144ms/step - loss: 3.9558 - accuracy: 0.2172 - val_loss: 3.8018 - val_accuracy: 0.2219\n",
            "Epoch 29/30\n",
            "50/50 [==============================] - 7s 145ms/step - loss: 3.8178 - accuracy: 0.2409 - val_loss: 3.7987 - val_accuracy: 0.2422\n",
            "Epoch 30/30\n",
            "50/50 [==============================] - 7s 150ms/step - loss: 3.8711 - accuracy: 0.2316 - val_loss: 3.8708 - val_accuracy: 0.2219\n"
          ],
          "name": "stdout"
        }
      ]
    },
    {
      "cell_type": "code",
      "metadata": {
        "id": "hN7djSJKbsIi",
        "colab": {
          "base_uri": "https://localhost:8080/",
          "height": 1000
        },
        "outputId": "7d3b3278-79df-4c00-ff80-a7eedb1c916a"
      },
      "source": [
        "train_MYCNN2=train_model(MYCNN2,30,50,10)"
      ],
      "execution_count": null,
      "outputs": [
        {
          "output_type": "stream",
          "text": [
            "Epoch 1/30\n",
            "50/50 [==============================] - 7s 148ms/step - loss: 6.5438 - accuracy: 0.0516 - val_loss: 4.6040 - val_accuracy: 0.0523\n",
            "Epoch 2/30\n",
            "50/50 [==============================] - 7s 147ms/step - loss: 4.7072 - accuracy: 0.0592 - val_loss: 4.0376 - val_accuracy: 0.0812\n",
            "Epoch 3/30\n",
            "50/50 [==============================] - 7s 147ms/step - loss: 3.6512 - accuracy: 0.0864 - val_loss: 3.4521 - val_accuracy: 0.0562\n",
            "Epoch 4/30\n",
            "50/50 [==============================] - 7s 148ms/step - loss: 3.6007 - accuracy: 0.0639 - val_loss: 3.4084 - val_accuracy: 0.0711\n",
            "Epoch 5/30\n",
            "50/50 [==============================] - 7s 147ms/step - loss: 3.5189 - accuracy: 0.0689 - val_loss: 3.4025 - val_accuracy: 0.0750\n",
            "Epoch 6/30\n",
            "50/50 [==============================] - 7s 147ms/step - loss: 3.5050 - accuracy: 0.0855 - val_loss: 3.3107 - val_accuracy: 0.0906\n",
            "Epoch 7/30\n",
            "50/50 [==============================] - 7s 147ms/step - loss: 3.4450 - accuracy: 0.1119 - val_loss: 3.3482 - val_accuracy: 0.1172\n",
            "Epoch 8/30\n",
            "50/50 [==============================] - 7s 148ms/step - loss: 3.4114 - accuracy: 0.1380 - val_loss: 3.2488 - val_accuracy: 0.1492\n",
            "Epoch 9/30\n",
            "50/50 [==============================] - 7s 146ms/step - loss: 3.4657 - accuracy: 0.0950 - val_loss: 3.3790 - val_accuracy: 0.0625\n",
            "Epoch 10/30\n",
            "50/50 [==============================] - 7s 148ms/step - loss: 3.4651 - accuracy: 0.0759 - val_loss: 3.2814 - val_accuracy: 0.1063\n",
            "Epoch 11/30\n",
            "50/50 [==============================] - 7s 148ms/step - loss: 3.4120 - accuracy: 0.1266 - val_loss: 3.2562 - val_accuracy: 0.1625\n",
            "Epoch 12/30\n",
            "50/50 [==============================] - 7s 147ms/step - loss: 3.4334 - accuracy: 0.1489 - val_loss: 3.5562 - val_accuracy: 0.0719\n",
            "Epoch 13/30\n",
            "50/50 [==============================] - 7s 146ms/step - loss: 3.5513 - accuracy: 0.0711 - val_loss: 3.3654 - val_accuracy: 0.0766\n",
            "Epoch 14/30\n",
            "50/50 [==============================] - 7s 147ms/step - loss: 3.3901 - accuracy: 0.0764 - val_loss: 3.3498 - val_accuracy: 0.0773\n",
            "Epoch 15/30\n",
            "50/50 [==============================] - 7s 148ms/step - loss: 3.4019 - accuracy: 0.0772 - val_loss: 3.2590 - val_accuracy: 0.0844\n",
            "Epoch 16/30\n",
            "50/50 [==============================] - 7s 148ms/step - loss: 3.3959 - accuracy: 0.0836 - val_loss: 3.2958 - val_accuracy: 0.0852\n",
            "Epoch 17/30\n",
            "50/50 [==============================] - 7s 147ms/step - loss: 3.3657 - accuracy: 0.0872 - val_loss: 3.3141 - val_accuracy: 0.0945\n",
            "Epoch 18/30\n",
            "50/50 [==============================] - 7s 147ms/step - loss: 3.3335 - accuracy: 0.0936 - val_loss: 3.2945 - val_accuracy: 0.1016\n",
            "Epoch 19/30\n",
            "50/50 [==============================] - 7s 148ms/step - loss: 3.3475 - accuracy: 0.1069 - val_loss: 3.2871 - val_accuracy: 0.1164\n",
            "Epoch 20/30\n",
            "50/50 [==============================] - 7s 148ms/step - loss: 3.3451 - accuracy: 0.1136 - val_loss: 3.2464 - val_accuracy: 0.1227\n",
            "Epoch 21/30\n",
            "50/50 [==============================] - 7s 147ms/step - loss: 3.2992 - accuracy: 0.1323 - val_loss: 3.2811 - val_accuracy: 0.1469\n",
            "Epoch 22/30\n",
            "50/50 [==============================] - 7s 148ms/step - loss: 3.2908 - accuracy: 0.1477 - val_loss: 3.1975 - val_accuracy: 0.1641\n",
            "Epoch 23/30\n",
            "50/50 [==============================] - 7s 149ms/step - loss: 3.3008 - accuracy: 0.1647 - val_loss: 3.2623 - val_accuracy: 0.1422\n",
            "Epoch 24/30\n",
            "50/50 [==============================] - 7s 148ms/step - loss: 3.3574 - accuracy: 0.1305 - val_loss: 3.2447 - val_accuracy: 0.1477\n",
            "Epoch 25/30\n",
            "50/50 [==============================] - 7s 146ms/step - loss: 3.3100 - accuracy: 0.1486 - val_loss: 3.2477 - val_accuracy: 0.1719\n",
            "Epoch 26/30\n",
            "50/50 [==============================] - 7s 147ms/step - loss: 3.3163 - accuracy: 0.1716 - val_loss: 3.2123 - val_accuracy: 0.1977\n",
            "Epoch 27/30\n",
            "50/50 [==============================] - 7s 148ms/step - loss: 3.2934 - accuracy: 0.1942 - val_loss: 3.1699 - val_accuracy: 0.2133\n",
            "Epoch 28/30\n",
            "50/50 [==============================] - 7s 146ms/step - loss: 3.2404 - accuracy: 0.2102 - val_loss: 3.1933 - val_accuracy: 0.2367\n",
            "Epoch 29/30\n",
            "50/50 [==============================] - 7s 146ms/step - loss: 3.2097 - accuracy: 0.2186 - val_loss: 3.1449 - val_accuracy: 0.2414\n",
            "Epoch 30/30\n",
            "50/50 [==============================] - 7s 147ms/step - loss: 3.2346 - accuracy: 0.2241 - val_loss: 3.1545 - val_accuracy: 0.2289\n"
          ],
          "name": "stdout"
        }
      ]
    },
    {
      "cell_type": "code",
      "metadata": {
        "id": "cuXoyM9XmjUU"
      },
      "source": [
        "# Βήμα 2\n",
        "\n",
        "# 2.1 Για κάθε ένα από τα μοντέλα που εκπαιδεύσαμε, θα απεικονίσουμε σε κοινό διάγραμμα την ακρίβεια\n",
        "# εκπαίδευσης και την ακρίβεια επικύρωσης στο σύνολο των εποχών, για κάθε διαφορετικό συνδυασμό του βήματος 1.2 \n",
        "#  2.2 Για κάθε ένα από τα μοντέλα με την καλύτερη ακρίβεια(συνολικά 5)\n",
        "#  απεικονίστε σε κοινό διάγραμμα την ακρίβεια εκπαίδευσης και την ακρίβεια επικύρωσης στο σύνολο των εποχών.\n",
        "\n",
        "# βοηθητική συνάρτηση για κατασκευή των διαγραμμάτων\n",
        "\n",
        "def plots(history):\n",
        "\tplt.figure(figsize=(8, 8))\n",
        "\tplt.suptitle('Training Curves')\n",
        "\tplt.subplot(211)\n",
        "\tplt.title('Classification Accuracy')\n",
        "\tplt.plot(history.history['accuracy'], color='blue', label='train')\n",
        "\tplt.plot(history.history['val_accuracy'], color='orange', label='val')\n",
        "\tplt.legend(loc='best', bbox_to_anchor=(1, 0.5))\n",
        "\treturn plt\n",
        "\n",
        "def model_evaluation(model, evaluation_steps):\n",
        "\tprint('\\nTest set evaluation metrics')\n",
        "\tloss0,accuracy0 = model.evaluate(test_ds, steps = evaluation_steps)\n",
        "\tprint(\"loss: {:.2f}\".format(loss0))\n",
        "\tprint(\"accuracy: {:.2f}\".format(accuracy0))\n",
        "\n",
        "def model_report(model, history, evaluation_steps = 10):\n",
        "\tplt = plots(history)\n",
        "\tplt.show()\n",
        "\tmodel_evaluation(model, evaluation_steps)  "
      ],
      "execution_count": null,
      "outputs": []
    },
    {
      "cell_type": "code",
      "metadata": {
        "id": "rKqObzKpQ1I6",
        "colab": {
          "base_uri": "https://localhost:8080/",
          "height": 774
        },
        "outputId": "b96cf89c-d312-4523-f70b-b8d79c857b6c"
      },
      "source": [
        "# SOFTMAX\n",
        "model_report(Softmax1, train_Softmax1, 10)\n",
        "model_report(Softmax2, train_Softmax2, 10)"
      ],
      "execution_count": null,
      "outputs": [
        {
          "output_type": "display_data",
          "data": {
            "image/png": "[encoded data removed]",
            "text/plain": [
              "<Figure size 576x576 with 1 Axes>"
            ]
          },
          "metadata": {
            "tags": [],
            "needs_background": "light"
          }
        },
        {
          "output_type": "stream",
          "text": [
            "\n",
            "Test set evaluation metrics\n",
            "10/10 [==============================] - 0s 7ms/step - loss: 2.3995 - accuracy: 0.3203\n",
            "loss: 2.40\n",
            "accuracy: 0.32\n"
          ],
          "name": "stdout"
        },
        {
          "output_type": "display_data",
          "data": {
            "image/png": "[encoded data removed]",
            "text/plain": [
              "<Figure size 576x576 with 1 Axes>"
            ]
          },
          "metadata": {
            "tags": [],
            "needs_background": "light"
          }
        },
        {
          "output_type": "stream",
          "text": [
            "\n",
            "Test set evaluation metrics\n",
            "10/10 [==============================] - 0s 6ms/step - loss: 2.2795 - accuracy: 0.3617\n",
            "loss: 2.28\n",
            "accuracy: 0.36\n"
          ],
          "name": "stdout"
        }
      ]
    },
    {
      "cell_type": "code",
      "metadata": {
        "id": "IxI49EXKRxfW",
        "colab": {
          "base_uri": "https://localhost:8080/",
          "height": 774
        },
        "outputId": "62a251ad-aae3-4004-9ce8-36775fd5b890"
      },
      "source": [
        "model_report(MLP1,train_MLP1,100)\n",
        "model_report(MLP2,train_MLP2,100)"
      ],
      "execution_count": null,
      "outputs": [
        {
          "output_type": "display_data",
          "data": {
            "image/png": "[encoded data removed]",
            "text/plain": [
              "<Figure size 576x576 with 1 Axes>"
            ]
          },
          "metadata": {
            "tags": [],
            "needs_background": "light"
          }
        },
        {
          "output_type": "stream",
          "text": [
            "\n",
            "Test set evaluation metrics\n",
            "100/100 [==============================] - 1s 13ms/step - loss: 2.2792 - accuracy: 0.3520\n",
            "loss: 2.28\n",
            "accuracy: 0.35\n"
          ],
          "name": "stdout"
        },
        {
          "output_type": "display_data",
          "data": {
            "image/png": "[encoded data removed]",
            "text/plain": [
              "<Figure size 576x576 with 1 Axes>"
            ]
          },
          "metadata": {
            "tags": [],
            "needs_background": "light"
          }
        },
        {
          "output_type": "stream",
          "text": [
            "\n",
            "Test set evaluation metrics\n",
            "100/100 [==============================] - 1s 13ms/step - loss: 2.2705 - accuracy: 0.3459\n",
            "loss: 2.27\n",
            "accuracy: 0.35\n"
          ],
          "name": "stdout"
        }
      ]
    },
    {
      "cell_type": "code",
      "metadata": {
        "id": "xEWhz511e-x2",
        "colab": {
          "base_uri": "https://localhost:8080/",
          "height": 774
        },
        "outputId": "e8f53a66-604c-42ff-c63c-f2d9f58d89f3"
      },
      "source": [
        "model_report(Lenet1,train_Lenet1,100)\n",
        "model_report(LeNet2,train_LeNet2,100)"
      ],
      "execution_count": null,
      "outputs": [
        {
          "output_type": "display_data",
          "data": {
            "image/png": "[encoded data removed]",
            "text/plain": [
              "<Figure size 576x576 with 1 Axes>"
            ]
          },
          "metadata": {
            "tags": [],
            "needs_background": "light"
          }
        },
        {
          "output_type": "stream",
          "text": [
            "\n",
            "Test set evaluation metrics\n",
            "100/100 [==============================] - 4s 38ms/step - loss: 2.6509 - accuracy: 0.2223\n",
            "loss: 2.65\n",
            "accuracy: 0.22\n"
          ],
          "name": "stdout"
        },
        {
          "output_type": "display_data",
          "data": {
            "image/png": "[encoded data removed]",
            "text/plain": [
              "<Figure size 576x576 with 1 Axes>"
            ]
          },
          "metadata": {
            "tags": [],
            "needs_background": "light"
          }
        },
        {
          "output_type": "stream",
          "text": [
            "\n",
            "Test set evaluation metrics\n",
            "100/100 [==============================] - 4s 38ms/step - loss: 2.7437 - accuracy: 0.1864\n",
            "loss: 2.74\n",
            "accuracy: 0.19\n"
          ],
          "name": "stdout"
        }
      ]
    },
    {
      "cell_type": "code",
      "metadata": {
        "id": "0EHVf79kfL-s",
        "colab": {
          "base_uri": "https://localhost:8080/",
          "height": 774
        },
        "outputId": "d76f4989-da6d-4b26-9842-0bf5fccb61d5"
      },
      "source": [
        "model_report(CNN1,train_CNN1,100)\n",
        "model_report(CNN2,train_CNN2,100)"
      ],
      "execution_count": null,
      "outputs": [
        {
          "output_type": "display_data",
          "data": {
            "image/png": "[encoded data removed]",
            "text/plain": [
              "<Figure size 576x576 with 1 Axes>"
            ]
          },
          "metadata": {
            "tags": [],
            "needs_background": "light"
          }
        },
        {
          "output_type": "stream",
          "text": [
            "\n",
            "Test set evaluation metrics\n",
            "100/100 [==============================] - 3s 30ms/step - loss: 1.7923 - accuracy: 0.4682\n",
            "loss: 1.79\n",
            "accuracy: 0.47\n"
          ],
          "name": "stdout"
        },
        {
          "output_type": "display_data",
          "data": {
            "image/png": "[encoded data removed]",
            "text/plain": [
              "<Figure size 576x576 with 1 Axes>"
            ]
          },
          "metadata": {
            "tags": [],
            "needs_background": "light"
          }
        },
        {
          "output_type": "stream",
          "text": [
            "\n",
            "Test set evaluation metrics\n",
            "100/100 [==============================] - 3s 30ms/step - loss: 1.7153 - accuracy: 0.4891\n",
            "loss: 1.72\n",
            "accuracy: 0.49\n"
          ],
          "name": "stdout"
        }
      ]
    },
    {
      "cell_type": "code",
      "metadata": {
        "id": "IX-bg1VyyfRr",
        "colab": {
          "base_uri": "https://localhost:8080/",
          "height": 774
        },
        "outputId": "aecf1b18-c5b6-411d-cd33-d48a16efaf68"
      },
      "source": [
        "model_report(MYCNN1,train_MYCNN1,100)\n",
        "model_report(MYCNN2,train_MYCNN2,100)"
      ],
      "execution_count": null,
      "outputs": [
        {
          "output_type": "display_data",
          "data": {
            "image/png": "[encoded data removed]",
            "text/plain": [
              "<Figure size 576x576 with 1 Axes>"
            ]
          },
          "metadata": {
            "tags": [],
            "needs_background": "light"
          }
        },
        {
          "output_type": "stream",
          "text": [
            "\n",
            "Test set evaluation metrics\n",
            "100/100 [==============================] - 4s 45ms/step - loss: 4.0185 - accuracy: 0.2205\n",
            "loss: 4.02\n",
            "accuracy: 0.22\n"
          ],
          "name": "stdout"
        },
        {
          "output_type": "display_data",
          "data": {
            "image/png": "[encoded data removed]",
            "text/plain": [
              "<Figure size 576x576 with 1 Axes>"
            ]
          },
          "metadata": {
            "tags": [],
            "needs_background": "light"
          }
        },
        {
          "output_type": "stream",
          "text": [
            "\n",
            "Test set evaluation metrics\n",
            "100/100 [==============================] - 4s 45ms/step - loss: 3.3326 - accuracy: 0.2236\n",
            "loss: 3.33\n",
            "accuracy: 0.22\n"
          ],
          "name": "stdout"
        }
      ]
    },
    {
      "cell_type": "code",
      "metadata": {
        "id": "0kqUCiyAmMw3"
      },
      "source": [
        "# παρατηρούμε με βάση το accuracy ότι τα 5 καλύτερα μοντέλα είναι \n",
        "# τα εξής\n",
        "\n",
        "Softamax=train_Softmax2\n",
        "MLP=train_MLP1\n",
        "Lenet=train_Lenet1\n",
        "CNN1=train_CNN2\n",
        "CNN2=train_MYCNN1"
      ],
      "execution_count": null,
      "outputs": []
    },
    {
      "cell_type": "markdown",
      "metadata": {
        "id": "UcGGHANjm7lb"
      },
      "source": [
        "**Αξιολόγηση αποτελεσμάτων που προέκυψαν ως προς:**\n",
        "\n",
        "\n",
        "**Επίδραση του πλήθους των δεδομένων/κλάσεων στην απόδοση του μοντέλου:** Για να επιτύχουμε βέλτιστο accuracy  σε καθένα απο τα παραπάνω μοντέλα πρέπει να έχουμε 1000 εικόνες ανά κλάση. Επειδή στα δικάς μοντέλα δεν ισχύει κατι τέτοιο είναι λογικό να υπάρχουν αστοχίες\n",
        "\n",
        "**Επίδραση του αλγόριθμου βελτιστοποίησης (optimizer).** Με εξάιρεση κάποιων μοντέλων (στα οποία η διαφορά δεν ήταν και ιδιαίτερα αισθητή) o optimizer Adam μας έδωσε καλύτερα αποτελέσματα από τον  Adagrad.\n",
        "(εξάλλου ο Adam συνδιάζει στοιχεία του RMSProp και του Adagrad)\n",
        "\n",
        "**Επίδραση του μεγέθους δέσμης (batch size).** Επιλέξαμε σχετικά μικρό batch size για καλύτερα αποτελέσματα"
      ]
    },
    {
      "cell_type": "markdown",
      "metadata": {
        "id": "v8rhgSGOV5pm"
      },
      "source": [
        "**Προσοχή** \n",
        "\n",
        "Για τα επόμενα ερωτήματα κρατήσαμε το μοντέλο που αντιστοιχεί στον καλύτερο συνδυασμό ( optimizer, loss, metrics και epoch) από τα μοντέλα που εκπαιδεύσαμε (και για τα 5 μοντέλα - όπως στο Ερώτημα 1, βήμα 2.2).\n",
        "\n",
        "## Ερώτημα 2\n",
        "\n",
        "### Βήμα 1: Έλεγχος υπερεκπαίδευσης\n",
        "\n",
        "Δοκιμάζουμε διάφορους τρόπους για τον έλεγχο της υπερεκπαίδευσης (overfitting), όπως:\n",
        "\n",
        "- Πρόωρος τερματισμός (early stopping). Μια μέθοδος που τερματίζει την εκπαίδευση αν δεν υπάρχει βελτίωση ως προς τη μετρική απόδοσης που παρακολουθούμε. [tf.keras.callbacks.EarlyStopping](https://www.tensorflow.org/api_docs/python/tf/keras/callbacks/EarlyStoppinghttps://)\n",
        "\n",
        "- Dropout. Μια άλλη τεχνική για τη μείωση της υπερεκπαίδευσης είναι το Dropout. Είναι ένα είδος ομαλοποίησης (regularization) που επιβάλλει στα βάρη του δικτύου να παίρνουν μόνο μικρές τιμές. Εάν εφαρμόσουε dropout σε ένα επίπεδο του δικτύου, τότε ένα ποσοστό των βαρών του γίνεται τυχαία μηδενικό κατά την εκπαίδευση. [Dropout](https://www.tensorflow.org/tutorials/images/classification#dropout)\n",
        "\n",
        "- Επαύξηση δεδομένων. Η υπερεκπαίδευση συνήθως συμβαίνει όταν έχουμε λίγα ή/και πολύ όμοια δεδομένα εκπαίδευσης. Ένας τρόπος να διορθωθεί αυτό το πρόβλημα είναι να αυξήσουμε τα δεδομένα (data augmentation). Το data augmentation δημιουργεί νέα δεδομένα εκπαίδευσης με βάση τα υπάρχοντα εφαρμόζοντας τυχαίους μετασχηματισμούς ώστε να προκύπτουν αληθοφανείς εικόνες. [Data augmentation](https://www.tensorflow.org/tutorials/images/classification#data_augmentation), [ImageDataGenerator](https://www.tensorflow.org/api_docs/python/tf/keras/preprocessing/image/ImageDataGenerator#class_imagedatagenerator)\n",
        "\n",
        "### Βήμα 2\n",
        "Αξιολογήστε την ακρίβεια για το validation και το test set σας."
      ]
    },
    {
      "cell_type": "code",
      "metadata": {
        "id": "WYzkAtBSpo2k"
      },
      "source": [
        "#Ερώτημα 2\n",
        "#Βήμα 1: Έλεγχος υπερεκπαίδευσης\n",
        "#1.1 Δοκιμή τεχνικών για την αντιμετώπιση του προβλήματος της υπερεκπαίδευσης\n",
        "\n",
        "#Early stopping\n",
        "#Softmax\n",
        "#Καλύτερα αποτελέσματα στο Ερώτημα 1 είχε η Version 2\n",
        "from tensorflow.keras.callbacks import EarlyStopping\n",
        "#Ορισμός εκ νέου της συνάρτησης με την προσθήκη του Early Stopping\n",
        "def Softmax_es(summary):\n",
        "  model = models.Sequential()\n",
        "  model.add(layers.Flatten(input_shape=(32, 32, 3)))\n",
        "  model.add(layers.Dense(200,activation='softmax'))\n",
        "  model.compile(optimizer=tf.optimizers.Adagrad(), loss=tf.keras.losses.sparse_categorical_crossentropy, metrics=[\"accuracy\"])  \n",
        "  if summary: \n",
        "    model.summary()\n",
        "  #Καθορισμός παραμέτρων Early Stopping\n",
        "  es = EarlyStopping(monitor='val_loss', min_delta=0.0001, mode='auto', verbose=1, patience=4, restore_best_weights=True)\n",
        "  #Eκπαίσευση του μοντέλου\n",
        "  model.fit(train_ds, callbacks=[es], epochs=30, steps_per_epoch=100, validation_data=validation_ds, validation_steps=5)\n",
        "  return model"
      ],
      "execution_count": null,
      "outputs": []
    },
    {
      "cell_type": "code",
      "metadata": {
        "id": "V9P0jUxQ5Hfi",
        "colab": {
          "base_uri": "https://localhost:8080/",
          "height": 1000
        },
        "outputId": "892bbfb8-82c1-4aa1-b026-ca450cfda4ac"
      },
      "source": [
        "Softmaxes=Softmax_es(True)"
      ],
      "execution_count": null,
      "outputs": [
        {
          "output_type": "stream",
          "text": [
            "Model: \"sequential_96\"\n",
            "_________________________________________________________________\n",
            "Layer (type)                 Output Shape              Param #   \n",
            "=================================================================\n",
            "flatten_96 (Flatten)         (None, 3072)              0         \n",
            "_________________________________________________________________\n",
            "dense_124 (Dense)            (None, 200)               614600    \n",
            "=================================================================\n",
            "Total params: 614,600\n",
            "Trainable params: 614,600\n",
            "Non-trainable params: 0\n",
            "_________________________________________________________________\n",
            "Epoch 1/30\n",
            "100/100 [==============================] - 1s 13ms/step - loss: 3.6171 - accuracy: 0.0747 - val_loss: 3.1003 - val_accuracy: 0.1281\n",
            "Epoch 2/30\n",
            "100/100 [==============================] - 1s 13ms/step - loss: 2.9807 - accuracy: 0.1534 - val_loss: 2.8928 - val_accuracy: 0.2000\n",
            "Epoch 3/30\n",
            "100/100 [==============================] - 1s 12ms/step - loss: 2.8309 - accuracy: 0.1966 - val_loss: 2.7911 - val_accuracy: 0.2250\n",
            "Epoch 4/30\n",
            "100/100 [==============================] - 1s 13ms/step - loss: 2.7488 - accuracy: 0.2202 - val_loss: 2.6945 - val_accuracy: 0.2594\n",
            "Epoch 5/30\n",
            "100/100 [==============================] - 1s 12ms/step - loss: 2.6802 - accuracy: 0.2384 - val_loss: 2.6871 - val_accuracy: 0.2281\n",
            "Epoch 6/30\n",
            "100/100 [==============================] - 1s 13ms/step - loss: 2.6341 - accuracy: 0.2493 - val_loss: 2.6405 - val_accuracy: 0.2375\n",
            "Epoch 7/30\n",
            "100/100 [==============================] - 1s 13ms/step - loss: 2.5912 - accuracy: 0.2624 - val_loss: 2.5564 - val_accuracy: 0.3000\n",
            "Epoch 8/30\n",
            "100/100 [==============================] - 1s 13ms/step - loss: 2.5669 - accuracy: 0.2704 - val_loss: 2.5454 - val_accuracy: 0.2656\n",
            "Epoch 9/30\n",
            "100/100 [==============================] - 1s 12ms/step - loss: 2.5428 - accuracy: 0.2773 - val_loss: 2.5414 - val_accuracy: 0.2828\n",
            "Epoch 10/30\n",
            "100/100 [==============================] - 1s 13ms/step - loss: 2.5125 - accuracy: 0.2843 - val_loss: 2.4850 - val_accuracy: 0.2937\n",
            "Epoch 11/30\n",
            "100/100 [==============================] - 1s 12ms/step - loss: 2.4967 - accuracy: 0.2922 - val_loss: 2.5076 - val_accuracy: 0.2719\n",
            "Epoch 12/30\n",
            "100/100 [==============================] - 1s 14ms/step - loss: 2.4746 - accuracy: 0.2989 - val_loss: 2.4987 - val_accuracy: 0.3000\n",
            "Epoch 13/30\n",
            "100/100 [==============================] - 1s 12ms/step - loss: 2.4654 - accuracy: 0.3030 - val_loss: 2.4784 - val_accuracy: 0.2937\n",
            "Epoch 14/30\n",
            "100/100 [==============================] - 1s 13ms/step - loss: 2.4479 - accuracy: 0.3090 - val_loss: 2.4903 - val_accuracy: 0.2781\n",
            "Epoch 15/30\n",
            "100/100 [==============================] - 1s 12ms/step - loss: 2.4352 - accuracy: 0.3098 - val_loss: 2.4721 - val_accuracy: 0.3094\n",
            "Epoch 16/30\n",
            "100/100 [==============================] - 1s 13ms/step - loss: 2.4323 - accuracy: 0.3132 - val_loss: 2.4703 - val_accuracy: 0.2937\n",
            "Epoch 17/30\n",
            "100/100 [==============================] - 1s 12ms/step - loss: 2.4116 - accuracy: 0.3192 - val_loss: 2.4147 - val_accuracy: 0.2953\n",
            "Epoch 18/30\n",
            "100/100 [==============================] - 1s 13ms/step - loss: 2.4057 - accuracy: 0.3192 - val_loss: 2.4094 - val_accuracy: 0.3141\n",
            "Epoch 19/30\n",
            "100/100 [==============================] - 1s 12ms/step - loss: 2.3979 - accuracy: 0.3216 - val_loss: 2.4386 - val_accuracy: 0.3063\n",
            "Epoch 20/30\n",
            "100/100 [==============================] - 1s 13ms/step - loss: 2.3864 - accuracy: 0.3270 - val_loss: 2.4633 - val_accuracy: 0.3063\n",
            "Epoch 21/30\n",
            "100/100 [==============================] - 1s 13ms/step - loss: 2.3823 - accuracy: 0.3270 - val_loss: 2.4314 - val_accuracy: 0.2922\n",
            "Epoch 22/30\n",
            " 98/100 [============================>.] - ETA: 0s - loss: 2.3698 - accuracy: 0.3325Restoring model weights from the end of the best epoch.\n",
            "100/100 [==============================] - 1s 13ms/step - loss: 2.3708 - accuracy: 0.3330 - val_loss: 2.4099 - val_accuracy: 0.3156\n",
            "Epoch 00022: early stopping\n"
          ],
          "name": "stdout"
        }
      ]
    },
    {
      "cell_type": "code",
      "metadata": {
        "id": "rl4SFG8irqX_"
      },
      "source": [
        "#MLP\n",
        "#Version1\n",
        "def MLP_es(summary):\n",
        "  model = models.Sequential()\n",
        "  model.add(layers.Flatten(input_shape=(32, 32, 3)))\n",
        "  model.add(layers.Dense(512,activation='relu'))\n",
        "  model.add(layers.Dense(200,activation='softmax'))\n",
        "  model.compile(optimizer=tf.optimizers.Adam(), loss=tf.keras.losses.sparse_categorical_crossentropy, metrics=[\"accuracy\"])  \n",
        "  if summary: \n",
        "    model.summary()\n",
        "  es = EarlyStopping(monitor='val_loss', min_delta=0.0001, mode='auto', verbose=1, patience=4, restore_best_weights=True)\n",
        "  model.fit(train_ds, callbacks=[es], epochs=30, steps_per_epoch=100, validation_data=validation_ds, validation_steps=5)\n",
        "  return model"
      ],
      "execution_count": null,
      "outputs": []
    },
    {
      "cell_type": "code",
      "metadata": {
        "id": "aw-ZO5ZgT4Ku",
        "colab": {
          "base_uri": "https://localhost:8080/",
          "height": 830
        },
        "outputId": "bdde2303-bb40-4cda-aa25-29b665a57d4c"
      },
      "source": [
        "MLPes=MLP_es(True)"
      ],
      "execution_count": null,
      "outputs": [
        {
          "output_type": "stream",
          "text": [
            "Model: \"sequential_98\"\n",
            "_________________________________________________________________\n",
            "Layer (type)                 Output Shape              Param #   \n",
            "=================================================================\n",
            "flatten_98 (Flatten)         (None, 3072)              0         \n",
            "_________________________________________________________________\n",
            "dense_127 (Dense)            (None, 512)               1573376   \n",
            "_________________________________________________________________\n",
            "dense_128 (Dense)            (None, 200)               102600    \n",
            "=================================================================\n",
            "Total params: 1,675,976\n",
            "Trainable params: 1,675,976\n",
            "Non-trainable params: 0\n",
            "_________________________________________________________________\n",
            "Epoch 1/30\n",
            "100/100 [==============================] - 3s 28ms/step - loss: 2.7470 - accuracy: 0.2280 - val_loss: 2.3778 - val_accuracy: 0.3141\n",
            "Epoch 2/30\n",
            "100/100 [==============================] - 3s 28ms/step - loss: 2.3113 - accuracy: 0.3169 - val_loss: 2.3780 - val_accuracy: 0.3063\n",
            "Epoch 3/30\n",
            "100/100 [==============================] - 3s 27ms/step - loss: 2.1800 - accuracy: 0.3557 - val_loss: 2.0960 - val_accuracy: 0.3953\n",
            "Epoch 4/30\n",
            "100/100 [==============================] - 3s 27ms/step - loss: 2.1203 - accuracy: 0.3725 - val_loss: 2.1824 - val_accuracy: 0.3531\n",
            "Epoch 5/30\n",
            "100/100 [==============================] - 3s 27ms/step - loss: 2.0235 - accuracy: 0.4026 - val_loss: 2.0593 - val_accuracy: 0.3984\n",
            "Epoch 6/30\n",
            "100/100 [==============================] - 3s 27ms/step - loss: 1.9332 - accuracy: 0.4232 - val_loss: 1.9833 - val_accuracy: 0.4000\n",
            "Epoch 7/30\n",
            "100/100 [==============================] - 3s 26ms/step - loss: 1.8854 - accuracy: 0.4378 - val_loss: 2.0473 - val_accuracy: 0.4109\n",
            "Epoch 8/30\n",
            "100/100 [==============================] - 3s 27ms/step - loss: 1.8197 - accuracy: 0.4576 - val_loss: 1.9591 - val_accuracy: 0.4328\n",
            "Epoch 9/30\n",
            "100/100 [==============================] - 3s 26ms/step - loss: 1.7771 - accuracy: 0.4691 - val_loss: 2.1080 - val_accuracy: 0.3922\n",
            "Epoch 10/30\n",
            "100/100 [==============================] - 3s 26ms/step - loss: 1.7484 - accuracy: 0.4763 - val_loss: 1.9122 - val_accuracy: 0.4531\n",
            "Epoch 11/30\n",
            "100/100 [==============================] - 3s 26ms/step - loss: 1.6879 - accuracy: 0.4954 - val_loss: 2.0253 - val_accuracy: 0.4047\n",
            "Epoch 12/30\n",
            "100/100 [==============================] - 3s 27ms/step - loss: 1.6467 - accuracy: 0.5071 - val_loss: 1.9434 - val_accuracy: 0.4422\n",
            "Epoch 13/30\n",
            "100/100 [==============================] - 3s 26ms/step - loss: 1.6095 - accuracy: 0.5135 - val_loss: 2.0451 - val_accuracy: 0.4156\n",
            "Epoch 14/30\n",
            " 99/100 [============================>.] - ETA: 0s - loss: 1.5932 - accuracy: 0.5206Restoring model weights from the end of the best epoch.\n",
            "100/100 [==============================] - 3s 26ms/step - loss: 1.5927 - accuracy: 0.5204 - val_loss: 1.9453 - val_accuracy: 0.4281\n",
            "Epoch 00014: early stopping\n"
          ],
          "name": "stdout"
        }
      ]
    },
    {
      "cell_type": "code",
      "metadata": {
        "id": "mQgaZNSJXcTp"
      },
      "source": [
        "#LeNet\n",
        "#Version1\n",
        "\n",
        "def LeNet_es(summary):\n",
        "  model = models.Sequential()\n",
        "  model.add(layers.Conv2D(32, kernel_size=(3, 3), activation='relu', input_shape=(32, 32, 3)))\n",
        "  model.add(layers.MaxPooling2D(pool_size=(2, 2)))\n",
        "  model.add(layers.Conv2D(32, kernel_size=(3, 3), activation='relu'))\n",
        "  model.add(layers.MaxPooling2D(pool_size=(2, 2)))\n",
        "  model.add(layers.Flatten())\n",
        "  model.add(layers.Dense(512, activation='relu'))\n",
        "  model.add(layers.Dense(200,activation='softmax'))\n",
        "  model.compile(optimizer=tf.optimizers.Adam(), loss=tf.keras.losses.sparse_categorical_crossentropy, metrics=[\"accuracy\"])\n",
        "  if summary: \n",
        "    model.summary()\n",
        "  es = EarlyStopping(monitor='val_loss', min_delta=0.0001, mode='auto', verbose=1, patience=3, restore_best_weights=True)\n",
        "  model.fit(train_ds, callbacks=[es], epochs=30, steps_per_epoch=50, validation_data=validation_ds, validation_steps=10)\n",
        "  return model\n",
        "\n"
      ],
      "execution_count": null,
      "outputs": []
    },
    {
      "cell_type": "code",
      "metadata": {
        "id": "Vf4lplLVYTd-",
        "colab": {
          "base_uri": "https://localhost:8080/",
          "height": 1000
        },
        "outputId": "edacbcb3-154f-40f7-d30c-3417b45f7ca8"
      },
      "source": [
        "LeNetes=LeNet_es(True)"
      ],
      "execution_count": null,
      "outputs": [
        {
          "output_type": "stream",
          "text": [
            "Model: \"sequential_105\"\n",
            "_________________________________________________________________\n",
            "Layer (type)                 Output Shape              Param #   \n",
            "=================================================================\n",
            "conv2d_112 (Conv2D)          (None, 30, 30, 32)        896       \n",
            "_________________________________________________________________\n",
            "max_pooling2d_84 (MaxPooling (None, 15, 15, 32)        0         \n",
            "_________________________________________________________________\n",
            "conv2d_113 (Conv2D)          (None, 13, 13, 32)        9248      \n",
            "_________________________________________________________________\n",
            "max_pooling2d_85 (MaxPooling (None, 6, 6, 32)          0         \n",
            "_________________________________________________________________\n",
            "flatten_105 (Flatten)        (None, 1152)              0         \n",
            "_________________________________________________________________\n",
            "dense_137 (Dense)            (None, 512)               590336    \n",
            "_________________________________________________________________\n",
            "dense_138 (Dense)            (None, 200)               102600    \n",
            "=================================================================\n",
            "Total params: 703,080\n",
            "Trainable params: 703,080\n",
            "Non-trainable params: 0\n",
            "_________________________________________________________________\n",
            "Epoch 1/30\n",
            "50/50 [==============================] - 6s 126ms/step - loss: 3.0010 - accuracy: 0.1506 - val_loss: 2.4840 - val_accuracy: 0.2586\n",
            "Epoch 2/30\n",
            "50/50 [==============================] - 6s 128ms/step - loss: 2.2818 - accuracy: 0.3253 - val_loss: 2.1517 - val_accuracy: 0.3695\n",
            "Epoch 3/30\n",
            "50/50 [==============================] - 6s 128ms/step - loss: 2.0707 - accuracy: 0.3850 - val_loss: 2.0187 - val_accuracy: 0.3922\n",
            "Epoch 4/30\n",
            "50/50 [==============================] - 6s 127ms/step - loss: 1.9206 - accuracy: 0.4430 - val_loss: 1.9553 - val_accuracy: 0.4180\n",
            "Epoch 5/30\n",
            "50/50 [==============================] - 6s 128ms/step - loss: 1.7981 - accuracy: 0.4611 - val_loss: 1.8348 - val_accuracy: 0.4484\n",
            "Epoch 6/30\n",
            "50/50 [==============================] - 6s 127ms/step - loss: 1.6423 - accuracy: 0.5063 - val_loss: 1.7523 - val_accuracy: 0.4812\n",
            "Epoch 7/30\n",
            "50/50 [==============================] - 6s 128ms/step - loss: 1.6422 - accuracy: 0.5097 - val_loss: 1.7665 - val_accuracy: 0.4672\n",
            "Epoch 8/30\n",
            "50/50 [==============================] - 6s 128ms/step - loss: 1.5369 - accuracy: 0.5478 - val_loss: 1.6218 - val_accuracy: 0.5117\n",
            "Epoch 9/30\n",
            "50/50 [==============================] - 6s 127ms/step - loss: 1.4524 - accuracy: 0.5602 - val_loss: 1.6381 - val_accuracy: 0.5063\n",
            "Epoch 10/30\n",
            "50/50 [==============================] - 6s 127ms/step - loss: 1.4025 - accuracy: 0.5759 - val_loss: 1.6347 - val_accuracy: 0.5188\n",
            "Epoch 11/30\n",
            "50/50 [==============================] - 6s 128ms/step - loss: 1.3422 - accuracy: 0.5903 - val_loss: 1.5717 - val_accuracy: 0.5266\n",
            "Epoch 12/30\n",
            "50/50 [==============================] - 6s 128ms/step - loss: 1.3288 - accuracy: 0.5980 - val_loss: 1.5793 - val_accuracy: 0.5227\n",
            "Epoch 13/30\n",
            "50/50 [==============================] - 6s 127ms/step - loss: 1.2486 - accuracy: 0.6164 - val_loss: 1.5171 - val_accuracy: 0.5391\n",
            "Epoch 14/30\n",
            "50/50 [==============================] - 6s 129ms/step - loss: 1.1672 - accuracy: 0.6441 - val_loss: 1.5479 - val_accuracy: 0.5445\n",
            "Epoch 15/30\n",
            "50/50 [==============================] - 6s 127ms/step - loss: 1.1502 - accuracy: 0.6567 - val_loss: 1.4675 - val_accuracy: 0.5617\n",
            "Epoch 16/30\n",
            "50/50 [==============================] - 6s 128ms/step - loss: 1.1282 - accuracy: 0.6531 - val_loss: 1.4594 - val_accuracy: 0.5703\n",
            "Epoch 17/30\n",
            "50/50 [==============================] - 6s 128ms/step - loss: 1.0303 - accuracy: 0.6920 - val_loss: 1.4914 - val_accuracy: 0.5523\n",
            "Epoch 18/30\n",
            "50/50 [==============================] - 6s 129ms/step - loss: 0.9735 - accuracy: 0.7025 - val_loss: 1.5658 - val_accuracy: 0.5414\n",
            "Epoch 19/30\n",
            "50/50 [==============================] - ETA: 0s - loss: 0.9125 - accuracy: 0.7181Restoring model weights from the end of the best epoch.\n",
            "50/50 [==============================] - 6s 130ms/step - loss: 0.9125 - accuracy: 0.7181 - val_loss: 1.5295 - val_accuracy: 0.5445\n",
            "Epoch 00019: early stopping\n"
          ],
          "name": "stdout"
        }
      ]
    },
    {
      "cell_type": "code",
      "metadata": {
        "id": "OmftddUldm5t"
      },
      "source": [
        "#CNN\n",
        "#Version2\n",
        "def CNN_es(summary):\n",
        "    \n",
        "  model = models.Sequential()\n",
        "  model.add(layers.Conv2D(16, kernel_size=(5, 5), activation='relu', input_shape=(32, 32, 3)))\n",
        "  model.add(layers.MaxPooling2D(pool_size=(2, 2)))\n",
        "  model.add(layers.Conv2D(16, kernel_size=(3, 3), activation='relu', input_shape=(32, 32, 3)))\n",
        "  model.add(layers.MaxPooling2D(pool_size=(2, 2)))\n",
        "  model.add(layers.Conv2D(32, kernel_size=(3, 3), activation='relu', input_shape=(32, 32, 3)))\n",
        "  model.add(layers.Flatten())\n",
        "  model.add(layers.Dense(200,activation='softmax'))\n",
        "  model.compile(optimizer=tf.optimizers.RMSprop(), loss=tf.keras.losses.sparse_categorical_crossentropy, metrics=[\"accuracy\"])\n",
        "  if summary: \n",
        "    model.summary()\n",
        "  es = EarlyStopping(monitor='val_loss', min_delta=0.0001, mode='auto', verbose=1, patience=4, restore_best_weights=True)\n",
        "  model.fit(train_ds, callbacks=[es], epochs=30, steps_per_epoch=50, validation_data=validation_ds, validation_steps=10)    \n",
        "  return model"
      ],
      "execution_count": null,
      "outputs": []
    },
    {
      "cell_type": "code",
      "metadata": {
        "id": "uUSikzDdeQ-L",
        "colab": {
          "base_uri": "https://localhost:8080/",
          "height": 1000
        },
        "outputId": "25175e85-4378-4d41-b4af-303c8852de77"
      },
      "source": [
        "CNNes=CNN_es(True)"
      ],
      "execution_count": null,
      "outputs": [
        {
          "output_type": "stream",
          "text": [
            "Model: \"sequential_108\"\n",
            "_________________________________________________________________\n",
            "Layer (type)                 Output Shape              Param #   \n",
            "=================================================================\n",
            "conv2d_120 (Conv2D)          (None, 28, 28, 16)        1216      \n",
            "_________________________________________________________________\n",
            "max_pooling2d_90 (MaxPooling (None, 14, 14, 16)        0         \n",
            "_________________________________________________________________\n",
            "conv2d_121 (Conv2D)          (None, 12, 12, 16)        2320      \n",
            "_________________________________________________________________\n",
            "max_pooling2d_91 (MaxPooling (None, 6, 6, 16)          0         \n",
            "_________________________________________________________________\n",
            "conv2d_122 (Conv2D)          (None, 4, 4, 32)          4640      \n",
            "_________________________________________________________________\n",
            "flatten_108 (Flatten)        (None, 512)               0         \n",
            "_________________________________________________________________\n",
            "dense_141 (Dense)            (None, 200)               102600    \n",
            "=================================================================\n",
            "Total params: 110,776\n",
            "Trainable params: 110,776\n",
            "Non-trainable params: 0\n",
            "_________________________________________________________________\n",
            "Epoch 1/30\n",
            "50/50 [==============================] - 5s 93ms/step - loss: 3.0809 - accuracy: 0.0991 - val_loss: 2.8278 - val_accuracy: 0.1508\n",
            "Epoch 2/30\n",
            "50/50 [==============================] - 5s 93ms/step - loss: 2.7474 - accuracy: 0.1692 - val_loss: 2.6366 - val_accuracy: 0.2086\n",
            "Epoch 3/30\n",
            "50/50 [==============================] - 5s 92ms/step - loss: 2.5735 - accuracy: 0.2341 - val_loss: 2.5286 - val_accuracy: 0.2313\n",
            "Epoch 4/30\n",
            "50/50 [==============================] - 5s 92ms/step - loss: 2.4609 - accuracy: 0.2614 - val_loss: 2.3292 - val_accuracy: 0.2992\n",
            "Epoch 5/30\n",
            "50/50 [==============================] - 5s 91ms/step - loss: 2.3718 - accuracy: 0.2862 - val_loss: 2.4980 - val_accuracy: 0.2570\n",
            "Epoch 6/30\n",
            "50/50 [==============================] - 5s 92ms/step - loss: 2.2859 - accuracy: 0.3158 - val_loss: 2.2858 - val_accuracy: 0.3219\n",
            "Epoch 7/30\n",
            "50/50 [==============================] - 5s 92ms/step - loss: 2.2296 - accuracy: 0.3291 - val_loss: 2.4615 - val_accuracy: 0.2750\n",
            "Epoch 8/30\n",
            "50/50 [==============================] - 5s 92ms/step - loss: 2.1815 - accuracy: 0.3492 - val_loss: 2.1342 - val_accuracy: 0.3633\n",
            "Epoch 9/30\n",
            "50/50 [==============================] - 5s 91ms/step - loss: 2.1160 - accuracy: 0.3688 - val_loss: 2.2274 - val_accuracy: 0.3367\n",
            "Epoch 10/30\n",
            "50/50 [==============================] - 5s 92ms/step - loss: 2.0542 - accuracy: 0.3931 - val_loss: 2.0775 - val_accuracy: 0.3734\n",
            "Epoch 11/30\n",
            "50/50 [==============================] - 5s 91ms/step - loss: 2.0152 - accuracy: 0.3973 - val_loss: 1.9887 - val_accuracy: 0.4047\n",
            "Epoch 12/30\n",
            "50/50 [==============================] - 5s 92ms/step - loss: 1.9937 - accuracy: 0.4056 - val_loss: 2.0981 - val_accuracy: 0.3703\n",
            "Epoch 13/30\n",
            "50/50 [==============================] - 5s 92ms/step - loss: 1.9457 - accuracy: 0.4197 - val_loss: 1.9365 - val_accuracy: 0.4211\n",
            "Epoch 14/30\n",
            "50/50 [==============================] - 5s 92ms/step - loss: 1.8921 - accuracy: 0.4450 - val_loss: 1.9805 - val_accuracy: 0.3953\n",
            "Epoch 15/30\n",
            "50/50 [==============================] - 5s 92ms/step - loss: 1.8601 - accuracy: 0.4356 - val_loss: 1.9409 - val_accuracy: 0.4133\n",
            "Epoch 16/30\n",
            "50/50 [==============================] - 5s 92ms/step - loss: 1.8293 - accuracy: 0.4528 - val_loss: 1.9985 - val_accuracy: 0.3938\n",
            "Epoch 17/30\n",
            "50/50 [==============================] - 5s 91ms/step - loss: 1.7797 - accuracy: 0.4695 - val_loss: 1.9246 - val_accuracy: 0.4141\n",
            "Epoch 18/30\n",
            "50/50 [==============================] - 5s 92ms/step - loss: 1.7870 - accuracy: 0.4634 - val_loss: 1.9430 - val_accuracy: 0.4242\n",
            "Epoch 19/30\n",
            "50/50 [==============================] - 5s 92ms/step - loss: 1.7324 - accuracy: 0.4747 - val_loss: 1.8586 - val_accuracy: 0.4336\n",
            "Epoch 20/30\n",
            "50/50 [==============================] - 5s 92ms/step - loss: 1.7057 - accuracy: 0.4900 - val_loss: 1.7894 - val_accuracy: 0.4563\n",
            "Epoch 21/30\n",
            "50/50 [==============================] - 5s 91ms/step - loss: 1.6792 - accuracy: 0.5020 - val_loss: 1.9698 - val_accuracy: 0.4172\n",
            "Epoch 22/30\n",
            "50/50 [==============================] - 5s 93ms/step - loss: 1.6601 - accuracy: 0.5056 - val_loss: 1.7252 - val_accuracy: 0.4875\n",
            "Epoch 23/30\n",
            "50/50 [==============================] - 5s 91ms/step - loss: 1.6513 - accuracy: 0.4986 - val_loss: 1.8144 - val_accuracy: 0.4461\n",
            "Epoch 24/30\n",
            "50/50 [==============================] - 5s 92ms/step - loss: 1.6261 - accuracy: 0.5091 - val_loss: 1.8377 - val_accuracy: 0.4469\n",
            "Epoch 25/30\n",
            "50/50 [==============================] - 5s 91ms/step - loss: 1.5945 - accuracy: 0.5245 - val_loss: 1.7070 - val_accuracy: 0.4836\n",
            "Epoch 26/30\n",
            "50/50 [==============================] - 5s 92ms/step - loss: 1.5943 - accuracy: 0.5202 - val_loss: 1.6977 - val_accuracy: 0.4836\n",
            "Epoch 27/30\n",
            "50/50 [==============================] - 5s 92ms/step - loss: 1.5485 - accuracy: 0.5334 - val_loss: 1.7344 - val_accuracy: 0.4727\n",
            "Epoch 28/30\n",
            "50/50 [==============================] - 5s 93ms/step - loss: 1.5768 - accuracy: 0.5223 - val_loss: 1.7285 - val_accuracy: 0.4859\n",
            "Epoch 29/30\n",
            "50/50 [==============================] - 5s 91ms/step - loss: 1.5289 - accuracy: 0.5383 - val_loss: 1.7128 - val_accuracy: 0.4977\n",
            "Epoch 30/30\n",
            "50/50 [==============================] - 5s 93ms/step - loss: 1.5135 - accuracy: 0.5442 - val_loss: 1.6711 - val_accuracy: 0.4984\n"
          ],
          "name": "stdout"
        }
      ]
    },
    {
      "cell_type": "code",
      "metadata": {
        "id": "FP-5IwOXgLlO"
      },
      "source": [
        "#MYCNN\n",
        "#Version1\n",
        "\n",
        "def MYCNN_es(summary):\n",
        "   model = models.Sequential()\n",
        "   model.add(layers.Conv2D(32, (3, 3), activation='relu', input_shape=(32, 32, 3)))\n",
        "   model.add(layers.MaxPooling2D((2, 2)))\n",
        "   model.add(layers.Conv2D(64, (3, 3), activation='relu',input_shape=(32, 32, 3)))\n",
        "   model.add(layers.MaxPooling2D((2, 2)))\n",
        "   model.add(layers.Conv2D(64, (3, 3), activation='relu',input_shape=(32, 32, 3)))\n",
        "   model.add(layers.Flatten())\n",
        "   model.add(layers.Dense(100,activation='relu'))\n",
        "   model.compile(optimizer=tf.optimizers.Adam(), loss=tf.keras.losses.sparse_categorical_crossentropy, metrics=[\"accuracy\"])    \n",
        "   if summary: \n",
        "    model.summary()\n",
        "   es = EarlyStopping(monitor='val_loss', min_delta=0.0001, mode='auto', verbose=1, patience=2, restore_best_weights=True)\n",
        "   model.fit(train_ds, callbacks=[es], epochs=30, steps_per_epoch=50, validation_data=validation_ds, validation_steps=10) \n",
        "   return model\n"
      ],
      "execution_count": null,
      "outputs": []
    },
    {
      "cell_type": "code",
      "metadata": {
        "id": "MN_TUxqVg427",
        "colab": {
          "base_uri": "https://localhost:8080/",
          "height": 645
        },
        "outputId": "0e7b1ca1-7392-472f-c47f-33dfd49673d7"
      },
      "source": [
        "MYCNNes = MYCNN_es(True)"
      ],
      "execution_count": null,
      "outputs": [
        {
          "output_type": "stream",
          "text": [
            "Model: \"sequential_155\"\n",
            "_________________________________________________________________\n",
            "Layer (type)                 Output Shape              Param #   \n",
            "=================================================================\n",
            "conv2d_243 (Conv2D)          (None, 30, 30, 32)        896       \n",
            "_________________________________________________________________\n",
            "max_pooling2d_174 (MaxPoolin (None, 15, 15, 32)        0         \n",
            "_________________________________________________________________\n",
            "conv2d_244 (Conv2D)          (None, 13, 13, 64)        18496     \n",
            "_________________________________________________________________\n",
            "max_pooling2d_175 (MaxPoolin (None, 6, 6, 64)          0         \n",
            "_________________________________________________________________\n",
            "conv2d_245 (Conv2D)          (None, 4, 4, 64)          36928     \n",
            "_________________________________________________________________\n",
            "flatten_155 (Flatten)        (None, 1024)              0         \n",
            "_________________________________________________________________\n",
            "dense_193 (Dense)            (None, 100)               102500    \n",
            "=================================================================\n",
            "Total params: 158,820\n",
            "Trainable params: 158,820\n",
            "Non-trainable params: 0\n",
            "_________________________________________________________________\n",
            "Epoch 1/30\n",
            "50/50 [==============================] - 7s 149ms/step - loss: 5.8064 - accuracy: 0.0778 - val_loss: 5.3105 - val_accuracy: 0.1070\n",
            "Epoch 2/30\n",
            "50/50 [==============================] - 7s 147ms/step - loss: 5.3127 - accuracy: 0.0906 - val_loss: 5.0368 - val_accuracy: 0.1523\n",
            "Epoch 3/30\n",
            "50/50 [==============================] - 7s 146ms/step - loss: 5.4873 - accuracy: 0.1341 - val_loss: 5.7013 - val_accuracy: 0.1656\n",
            "Epoch 4/30\n",
            "50/50 [==============================] - 7s 145ms/step - loss: 5.9531 - accuracy: 0.0978 - val_loss: 6.6287 - val_accuracy: 0.0500\n",
            "Epoch 5/30\n",
            "50/50 [==============================] - ETA: 0s - loss: 6.2592 - accuracy: 0.0641Restoring model weights from the end of the best epoch.\n",
            "50/50 [==============================] - 7s 145ms/step - loss: 6.2592 - accuracy: 0.0641 - val_loss: 6.5213 - val_accuracy: 0.0516\n",
            "Epoch 00005: early stopping\n"
          ],
          "name": "stdout"
        }
      ]
    },
    {
      "cell_type": "code",
      "metadata": {
        "id": "Ec8rLlLtlvFp"
      },
      "source": [
        "#Dropout\n",
        "from tensorflow.keras.layers import Dropout\n",
        "#Softmax\n",
        "#Version2\n",
        "#Ορισμός της συνάρτησης εκ νέου με την προσθήκη του Dropout Layer\n",
        "def Softmax_d(summary):\n",
        "  model = models.Sequential()\n",
        "  model.add(layers.Flatten(input_shape=(32, 32, 3)))\n",
        "  model.add(layers.Dense(200,activation='softmax'))\n",
        "  #Προσθήκη του Dropout Layer\n",
        "  model.add(Dropout(0.1))\n",
        "  model.compile(optimizer=tf.optimizers.Adagrad(), loss=tf.keras.losses.sparse_categorical_crossentropy, metrics=[\"accuracy\"])  \n",
        "  if summary: \n",
        "    model.summary()\n",
        "  model.fit(train_ds, epochs=30, steps_per_epoch=100, validation_data=validation_ds, validation_steps=5)\n",
        "  return model\n"
      ],
      "execution_count": null,
      "outputs": []
    },
    {
      "cell_type": "code",
      "metadata": {
        "id": "eBbN1d_4mUbz",
        "colab": {
          "base_uri": "https://localhost:8080/",
          "height": 1000
        },
        "outputId": "2168da35-7d08-4263-bb02-5aa7fa344e06"
      },
      "source": [
        "Softmaxd=Softmax_d(True)"
      ],
      "execution_count": null,
      "outputs": [
        {
          "output_type": "stream",
          "text": [
            "Model: \"sequential_112\"\n",
            "_________________________________________________________________\n",
            "Layer (type)                 Output Shape              Param #   \n",
            "=================================================================\n",
            "flatten_112 (Flatten)        (None, 3072)              0         \n",
            "_________________________________________________________________\n",
            "dense_145 (Dense)            (None, 200)               614600    \n",
            "_________________________________________________________________\n",
            "dropout_28 (Dropout)         (None, 200)               0         \n",
            "=================================================================\n",
            "Total params: 614,600\n",
            "Trainable params: 614,600\n",
            "Non-trainable params: 0\n",
            "_________________________________________________________________\n",
            "Epoch 1/30\n",
            "100/100 [==============================] - 1s 15ms/step - loss: 4.8245 - accuracy: 0.0680 - val_loss: 3.1417 - val_accuracy: 0.1156\n",
            "Epoch 2/30\n",
            "100/100 [==============================] - 1s 15ms/step - loss: 4.2746 - accuracy: 0.1436 - val_loss: 2.9045 - val_accuracy: 0.1922\n",
            "Epoch 3/30\n",
            "100/100 [==============================] - 1s 14ms/step - loss: 4.0725 - accuracy: 0.1892 - val_loss: 2.8029 - val_accuracy: 0.2281\n",
            "Epoch 4/30\n",
            "100/100 [==============================] - 1s 14ms/step - loss: 4.0235 - accuracy: 0.2089 - val_loss: 2.7554 - val_accuracy: 0.1984\n",
            "Epoch 5/30\n",
            "100/100 [==============================] - 1s 14ms/step - loss: 3.9929 - accuracy: 0.2235 - val_loss: 2.7057 - val_accuracy: 0.2328\n",
            "Epoch 6/30\n",
            "100/100 [==============================] - 1s 15ms/step - loss: 3.8772 - accuracy: 0.2365 - val_loss: 2.6376 - val_accuracy: 0.2531\n",
            "Epoch 7/30\n",
            "100/100 [==============================] - 1s 14ms/step - loss: 3.8852 - accuracy: 0.2484 - val_loss: 2.6204 - val_accuracy: 0.2484\n",
            "Epoch 8/30\n",
            "100/100 [==============================] - 1s 15ms/step - loss: 3.8277 - accuracy: 0.2532 - val_loss: 2.5988 - val_accuracy: 0.2266\n",
            "Epoch 9/30\n",
            "100/100 [==============================] - 1s 14ms/step - loss: 3.8151 - accuracy: 0.2571 - val_loss: 2.5578 - val_accuracy: 0.2656\n",
            "Epoch 10/30\n",
            "100/100 [==============================] - 1s 14ms/step - loss: 3.7989 - accuracy: 0.2638 - val_loss: 2.5749 - val_accuracy: 0.2469\n",
            "Epoch 11/30\n",
            "100/100 [==============================] - 1s 14ms/step - loss: 3.7715 - accuracy: 0.2690 - val_loss: 2.4966 - val_accuracy: 0.2672\n",
            "Epoch 12/30\n",
            "100/100 [==============================] - 1s 14ms/step - loss: 3.7828 - accuracy: 0.2738 - val_loss: 2.5183 - val_accuracy: 0.2781\n",
            "Epoch 13/30\n",
            "100/100 [==============================] - 1s 13ms/step - loss: 3.7738 - accuracy: 0.2726 - val_loss: 2.4962 - val_accuracy: 0.2953\n",
            "Epoch 14/30\n",
            "100/100 [==============================] - 1s 14ms/step - loss: 3.6687 - accuracy: 0.2854 - val_loss: 2.5473 - val_accuracy: 0.2391\n",
            "Epoch 15/30\n",
            "100/100 [==============================] - 1s 14ms/step - loss: 3.7480 - accuracy: 0.2812 - val_loss: 2.5009 - val_accuracy: 0.2641\n",
            "Epoch 16/30\n",
            "100/100 [==============================] - 1s 14ms/step - loss: 3.6636 - accuracy: 0.2888 - val_loss: 2.4512 - val_accuracy: 0.2969\n",
            "Epoch 17/30\n",
            "100/100 [==============================] - 1s 14ms/step - loss: 3.7586 - accuracy: 0.2916 - val_loss: 2.4591 - val_accuracy: 0.2922\n",
            "Epoch 18/30\n",
            "100/100 [==============================] - 1s 15ms/step - loss: 3.6593 - accuracy: 0.2899 - val_loss: 2.4510 - val_accuracy: 0.3047\n",
            "Epoch 19/30\n",
            "100/100 [==============================] - 1s 14ms/step - loss: 3.6548 - accuracy: 0.2939 - val_loss: 2.4765 - val_accuracy: 0.2766\n",
            "Epoch 20/30\n",
            "100/100 [==============================] - 1s 14ms/step - loss: 3.6876 - accuracy: 0.2991 - val_loss: 2.3948 - val_accuracy: 0.3016\n",
            "Epoch 21/30\n",
            "100/100 [==============================] - 1s 14ms/step - loss: 3.6606 - accuracy: 0.3013 - val_loss: 2.4300 - val_accuracy: 0.2875\n",
            "Epoch 22/30\n",
            "100/100 [==============================] - 1s 14ms/step - loss: 3.7057 - accuracy: 0.2998 - val_loss: 2.4329 - val_accuracy: 0.2875\n",
            "Epoch 23/30\n",
            "100/100 [==============================] - 1s 14ms/step - loss: 3.6747 - accuracy: 0.3021 - val_loss: 2.4218 - val_accuracy: 0.3063\n",
            "Epoch 24/30\n",
            "100/100 [==============================] - 1s 14ms/step - loss: 3.6811 - accuracy: 0.3023 - val_loss: 2.3787 - val_accuracy: 0.3063\n",
            "Epoch 25/30\n",
            "100/100 [==============================] - 1s 14ms/step - loss: 3.6904 - accuracy: 0.3062 - val_loss: 2.4052 - val_accuracy: 0.3109\n",
            "Epoch 26/30\n",
            "100/100 [==============================] - 1s 14ms/step - loss: 3.6385 - accuracy: 0.3052 - val_loss: 2.4163 - val_accuracy: 0.3031\n",
            "Epoch 27/30\n",
            "100/100 [==============================] - 1s 14ms/step - loss: 3.5885 - accuracy: 0.3121 - val_loss: 2.3523 - val_accuracy: 0.3250\n",
            "Epoch 28/30\n",
            "100/100 [==============================] - 1s 14ms/step - loss: 3.6891 - accuracy: 0.3063 - val_loss: 2.3541 - val_accuracy: 0.3172\n",
            "Epoch 29/30\n",
            "100/100 [==============================] - 1s 14ms/step - loss: 3.6590 - accuracy: 0.3079 - val_loss: 2.3721 - val_accuracy: 0.3250\n",
            "Epoch 30/30\n",
            "100/100 [==============================] - 1s 14ms/step - loss: 3.6158 - accuracy: 0.3175 - val_loss: 2.3368 - val_accuracy: 0.3219\n"
          ],
          "name": "stdout"
        }
      ]
    },
    {
      "cell_type": "code",
      "metadata": {
        "id": "YgVaLh2ToyFF"
      },
      "source": [
        "#MLP\n",
        "#Version1\n",
        "def MLP_d(summary):\n",
        "  model = models.Sequential()\n",
        "  model.add(layers.Flatten(input_shape=(32, 32, 3)))\n",
        "  model.add(layers.Dense(512,activation='relu'))\n",
        "  model.add(Dropout(0.2))\n",
        "  model.add(layers.Dense(200,activation='softmax'))\n",
        "  model.compile(optimizer=tf.optimizers.Adam(), loss=tf.keras.losses.sparse_categorical_crossentropy, metrics=[\"accuracy\"])  \n",
        "  if summary: \n",
        "    model.summary()\n",
        "  model.fit(train_ds, epochs=30, steps_per_epoch=100, validation_data=validation_ds, validation_steps=5)\n",
        "  return model"
      ],
      "execution_count": null,
      "outputs": []
    },
    {
      "cell_type": "code",
      "metadata": {
        "id": "2khxf0Q9p6dq",
        "colab": {
          "base_uri": "https://localhost:8080/",
          "height": 1000
        },
        "outputId": "e92c3846-154e-457c-9e0a-eb9af8dbf57c"
      },
      "source": [
        "MLPd=MLP_d(True)"
      ],
      "execution_count": null,
      "outputs": [
        {
          "output_type": "stream",
          "text": [
            "Model: \"sequential_113\"\n",
            "_________________________________________________________________\n",
            "Layer (type)                 Output Shape              Param #   \n",
            "=================================================================\n",
            "flatten_113 (Flatten)        (None, 3072)              0         \n",
            "_________________________________________________________________\n",
            "dense_146 (Dense)            (None, 512)               1573376   \n",
            "_________________________________________________________________\n",
            "dropout_29 (Dropout)         (None, 512)               0         \n",
            "_________________________________________________________________\n",
            "dense_147 (Dense)            (None, 200)               102600    \n",
            "=================================================================\n",
            "Total params: 1,675,976\n",
            "Trainable params: 1,675,976\n",
            "Non-trainable params: 0\n",
            "_________________________________________________________________\n",
            "Epoch 1/30\n",
            "100/100 [==============================] - 3s 29ms/step - loss: 2.8879 - accuracy: 0.1843 - val_loss: 2.4855 - val_accuracy: 0.2484\n",
            "Epoch 2/30\n",
            "100/100 [==============================] - 3s 29ms/step - loss: 2.3896 - accuracy: 0.2905 - val_loss: 2.2628 - val_accuracy: 0.3391\n",
            "Epoch 3/30\n",
            "100/100 [==============================] - 3s 28ms/step - loss: 2.2718 - accuracy: 0.3241 - val_loss: 2.2269 - val_accuracy: 0.3328\n",
            "Epoch 4/30\n",
            "100/100 [==============================] - 3s 29ms/step - loss: 2.1902 - accuracy: 0.3509 - val_loss: 2.1205 - val_accuracy: 0.3906\n",
            "Epoch 5/30\n",
            "100/100 [==============================] - 3s 28ms/step - loss: 2.1150 - accuracy: 0.3716 - val_loss: 2.2373 - val_accuracy: 0.3219\n",
            "Epoch 6/30\n",
            "100/100 [==============================] - 3s 28ms/step - loss: 2.0641 - accuracy: 0.3809 - val_loss: 2.1233 - val_accuracy: 0.3797\n",
            "Epoch 7/30\n",
            "100/100 [==============================] - 3s 28ms/step - loss: 2.0069 - accuracy: 0.4010 - val_loss: 1.9879 - val_accuracy: 0.4172\n",
            "Epoch 8/30\n",
            "100/100 [==============================] - 3s 29ms/step - loss: 1.9695 - accuracy: 0.4119 - val_loss: 1.9474 - val_accuracy: 0.4500\n",
            "Epoch 9/30\n",
            "100/100 [==============================] - 3s 29ms/step - loss: 1.9432 - accuracy: 0.4209 - val_loss: 2.0618 - val_accuracy: 0.3969\n",
            "Epoch 10/30\n",
            "100/100 [==============================] - 3s 29ms/step - loss: 1.8930 - accuracy: 0.4321 - val_loss: 1.9620 - val_accuracy: 0.4500\n",
            "Epoch 11/30\n",
            "100/100 [==============================] - 3s 29ms/step - loss: 1.8508 - accuracy: 0.4408 - val_loss: 1.9905 - val_accuracy: 0.4234\n",
            "Epoch 12/30\n",
            "100/100 [==============================] - 3s 29ms/step - loss: 1.8410 - accuracy: 0.4446 - val_loss: 1.9705 - val_accuracy: 0.4141\n",
            "Epoch 13/30\n",
            "100/100 [==============================] - 3s 29ms/step - loss: 1.8105 - accuracy: 0.4575 - val_loss: 1.8839 - val_accuracy: 0.4297\n",
            "Epoch 14/30\n",
            "100/100 [==============================] - 3s 29ms/step - loss: 1.7864 - accuracy: 0.4643 - val_loss: 1.9424 - val_accuracy: 0.4062\n",
            "Epoch 15/30\n",
            "100/100 [==============================] - 3s 29ms/step - loss: 1.7610 - accuracy: 0.4641 - val_loss: 1.8705 - val_accuracy: 0.4609\n",
            "Epoch 16/30\n",
            "100/100 [==============================] - 3s 29ms/step - loss: 1.7251 - accuracy: 0.4749 - val_loss: 1.8787 - val_accuracy: 0.4469\n",
            "Epoch 17/30\n",
            "100/100 [==============================] - 3s 29ms/step - loss: 1.6825 - accuracy: 0.4855 - val_loss: 1.9098 - val_accuracy: 0.4453\n",
            "Epoch 18/30\n",
            "100/100 [==============================] - 3s 29ms/step - loss: 1.6563 - accuracy: 0.4988 - val_loss: 1.8720 - val_accuracy: 0.4469\n",
            "Epoch 19/30\n",
            "100/100 [==============================] - 3s 29ms/step - loss: 1.6240 - accuracy: 0.5048 - val_loss: 1.9727 - val_accuracy: 0.4094\n",
            "Epoch 20/30\n",
            "100/100 [==============================] - 3s 29ms/step - loss: 1.6232 - accuracy: 0.5093 - val_loss: 1.9390 - val_accuracy: 0.4313\n",
            "Epoch 21/30\n",
            "100/100 [==============================] - 3s 28ms/step - loss: 1.5890 - accuracy: 0.5170 - val_loss: 1.9514 - val_accuracy: 0.4344\n",
            "Epoch 22/30\n",
            "100/100 [==============================] - 3s 29ms/step - loss: 1.5993 - accuracy: 0.5102 - val_loss: 1.9478 - val_accuracy: 0.4328\n",
            "Epoch 23/30\n",
            "100/100 [==============================] - 3s 29ms/step - loss: 1.5725 - accuracy: 0.5252 - val_loss: 2.0111 - val_accuracy: 0.4172\n",
            "Epoch 24/30\n",
            "100/100 [==============================] - 3s 29ms/step - loss: 1.5350 - accuracy: 0.5288 - val_loss: 1.9082 - val_accuracy: 0.4437\n",
            "Epoch 25/30\n",
            "100/100 [==============================] - 3s 28ms/step - loss: 1.5476 - accuracy: 0.5235 - val_loss: 2.0153 - val_accuracy: 0.4172\n",
            "Epoch 26/30\n",
            "100/100 [==============================] - 3s 29ms/step - loss: 1.5079 - accuracy: 0.5363 - val_loss: 1.9616 - val_accuracy: 0.4437\n",
            "Epoch 27/30\n",
            "100/100 [==============================] - 3s 28ms/step - loss: 1.4841 - accuracy: 0.5369 - val_loss: 1.8272 - val_accuracy: 0.4516\n",
            "Epoch 28/30\n",
            "100/100 [==============================] - 3s 28ms/step - loss: 1.4537 - accuracy: 0.5506 - val_loss: 1.9300 - val_accuracy: 0.4266\n",
            "Epoch 29/30\n",
            "100/100 [==============================] - 3s 28ms/step - loss: 1.4591 - accuracy: 0.5466 - val_loss: 1.9771 - val_accuracy: 0.4406\n",
            "Epoch 30/30\n",
            "100/100 [==============================] - 3s 29ms/step - loss: 1.4165 - accuracy: 0.5659 - val_loss: 1.9597 - val_accuracy: 0.4281\n"
          ],
          "name": "stdout"
        }
      ]
    },
    {
      "cell_type": "code",
      "metadata": {
        "id": "0L1Y7MF1zyBe"
      },
      "source": [
        "#LeNet\n",
        "#Version1\n",
        "\n",
        "def LeNet_d(summary):\n",
        "  model = models.Sequential()\n",
        "  model.add(layers.Conv2D(32, kernel_size=(3, 3), activation='relu', input_shape=(32, 32, 3)))\n",
        "  model.add(layers.MaxPooling2D(pool_size=(2, 2)))\n",
        "  model.add(Dropout(0.1))\n",
        "  model.add(layers.Conv2D(32, kernel_size=(3, 3), activation='relu'))\n",
        "  model.add(layers.MaxPooling2D(pool_size=(2, 2)))\n",
        "  model.add(Dropout(0.1))\n",
        "  model.add(layers.Flatten())\n",
        "  model.add(layers.Dense(512, activation='relu'))\n",
        "  model.add(layers.Dense(200,activation='softmax'))\n",
        "  model.compile(optimizer=tf.optimizers.Adam(), loss=tf.keras.losses.sparse_categorical_crossentropy, metrics=[\"accuracy\"])\n",
        "  if summary: \n",
        "    model.summary()\n",
        "  model.fit(train_ds, epochs=30, steps_per_epoch=50, validation_data=validation_ds, validation_steps=10)\n",
        "  return model\n"
      ],
      "execution_count": null,
      "outputs": []
    },
    {
      "cell_type": "code",
      "metadata": {
        "id": "LkZL9aDL0qDg",
        "colab": {
          "base_uri": "https://localhost:8080/",
          "height": 1000
        },
        "outputId": "f89b09d0-5376-4749-c1dc-699e11878559"
      },
      "source": [
        "LeNetd=LeNet_d(True)"
      ],
      "execution_count": null,
      "outputs": [
        {
          "output_type": "stream",
          "text": [
            "Model: \"sequential_114\"\n",
            "_________________________________________________________________\n",
            "Layer (type)                 Output Shape              Param #   \n",
            "=================================================================\n",
            "conv2d_129 (Conv2D)          (None, 30, 30, 32)        896       \n",
            "_________________________________________________________________\n",
            "max_pooling2d_96 (MaxPooling (None, 15, 15, 32)        0         \n",
            "_________________________________________________________________\n",
            "dropout_30 (Dropout)         (None, 15, 15, 32)        0         \n",
            "_________________________________________________________________\n",
            "conv2d_130 (Conv2D)          (None, 13, 13, 32)        9248      \n",
            "_________________________________________________________________\n",
            "max_pooling2d_97 (MaxPooling (None, 6, 6, 32)          0         \n",
            "_________________________________________________________________\n",
            "dropout_31 (Dropout)         (None, 6, 6, 32)          0         \n",
            "_________________________________________________________________\n",
            "flatten_114 (Flatten)        (None, 1152)              0         \n",
            "_________________________________________________________________\n",
            "dense_148 (Dense)            (None, 512)               590336    \n",
            "_________________________________________________________________\n",
            "dense_149 (Dense)            (None, 200)               102600    \n",
            "=================================================================\n",
            "Total params: 703,080\n",
            "Trainable params: 703,080\n",
            "Non-trainable params: 0\n",
            "_________________________________________________________________\n",
            "Epoch 1/30\n",
            "50/50 [==============================] - 7s 138ms/step - loss: 3.0899 - accuracy: 0.1217 - val_loss: 2.5897 - val_accuracy: 0.2313\n",
            "Epoch 2/30\n",
            "50/50 [==============================] - 7s 137ms/step - loss: 2.3969 - accuracy: 0.2808 - val_loss: 2.2152 - val_accuracy: 0.3531\n",
            "Epoch 3/30\n",
            "50/50 [==============================] - 7s 139ms/step - loss: 2.1600 - accuracy: 0.3486 - val_loss: 2.0801 - val_accuracy: 0.4039\n",
            "Epoch 4/30\n",
            "50/50 [==============================] - 7s 139ms/step - loss: 1.9875 - accuracy: 0.4137 - val_loss: 1.9512 - val_accuracy: 0.4258\n",
            "Epoch 5/30\n",
            "50/50 [==============================] - 7s 138ms/step - loss: 1.8735 - accuracy: 0.4434 - val_loss: 1.8764 - val_accuracy: 0.4305\n",
            "Epoch 6/30\n",
            "50/50 [==============================] - 7s 138ms/step - loss: 1.7834 - accuracy: 0.4633 - val_loss: 1.7290 - val_accuracy: 0.4938\n",
            "Epoch 7/30\n",
            "50/50 [==============================] - 7s 138ms/step - loss: 1.6869 - accuracy: 0.4927 - val_loss: 1.6907 - val_accuracy: 0.4961\n",
            "Epoch 8/30\n",
            "50/50 [==============================] - 7s 139ms/step - loss: 1.6246 - accuracy: 0.5155 - val_loss: 1.6378 - val_accuracy: 0.5250\n",
            "Epoch 9/30\n",
            "50/50 [==============================] - 7s 137ms/step - loss: 1.5538 - accuracy: 0.5369 - val_loss: 1.6170 - val_accuracy: 0.5266\n",
            "Epoch 10/30\n",
            "50/50 [==============================] - 7s 138ms/step - loss: 1.5145 - accuracy: 0.5473 - val_loss: 1.6329 - val_accuracy: 0.5078\n",
            "Epoch 11/30\n",
            "50/50 [==============================] - 7s 138ms/step - loss: 1.4441 - accuracy: 0.5683 - val_loss: 1.5029 - val_accuracy: 0.5625\n",
            "Epoch 12/30\n",
            "50/50 [==============================] - 7s 138ms/step - loss: 1.3992 - accuracy: 0.5747 - val_loss: 1.5187 - val_accuracy: 0.5437\n",
            "Epoch 13/30\n",
            "50/50 [==============================] - 7s 138ms/step - loss: 1.3332 - accuracy: 0.5900 - val_loss: 1.4882 - val_accuracy: 0.5578\n",
            "Epoch 14/30\n",
            "50/50 [==============================] - 7s 138ms/step - loss: 1.3099 - accuracy: 0.5997 - val_loss: 1.4666 - val_accuracy: 0.5641\n",
            "Epoch 15/30\n",
            "50/50 [==============================] - 7s 138ms/step - loss: 1.2479 - accuracy: 0.6214 - val_loss: 1.4316 - val_accuracy: 0.5680\n",
            "Epoch 16/30\n",
            "50/50 [==============================] - 7s 139ms/step - loss: 1.2292 - accuracy: 0.6131 - val_loss: 1.4182 - val_accuracy: 0.5742\n",
            "Epoch 17/30\n",
            "50/50 [==============================] - 7s 138ms/step - loss: 1.1505 - accuracy: 0.6395 - val_loss: 1.3746 - val_accuracy: 0.5844\n",
            "Epoch 18/30\n",
            "50/50 [==============================] - 7s 138ms/step - loss: 1.1135 - accuracy: 0.6581 - val_loss: 1.3832 - val_accuracy: 0.5883\n",
            "Epoch 19/30\n",
            "50/50 [==============================] - 7s 138ms/step - loss: 1.0744 - accuracy: 0.6681 - val_loss: 1.4399 - val_accuracy: 0.5594\n",
            "Epoch 20/30\n",
            "50/50 [==============================] - 7s 138ms/step - loss: 1.0618 - accuracy: 0.6773 - val_loss: 1.3585 - val_accuracy: 0.6000\n",
            "Epoch 21/30\n",
            "50/50 [==============================] - 7s 138ms/step - loss: 0.9962 - accuracy: 0.6927 - val_loss: 1.3288 - val_accuracy: 0.6016\n",
            "Epoch 22/30\n",
            "50/50 [==============================] - 7s 139ms/step - loss: 0.9463 - accuracy: 0.7106 - val_loss: 1.4021 - val_accuracy: 0.5875\n",
            "Epoch 23/30\n",
            "50/50 [==============================] - 7s 137ms/step - loss: 0.9020 - accuracy: 0.7178 - val_loss: 1.3986 - val_accuracy: 0.5906\n",
            "Epoch 24/30\n",
            "50/50 [==============================] - 7s 138ms/step - loss: 0.9122 - accuracy: 0.7134 - val_loss: 1.3851 - val_accuracy: 0.5953\n",
            "Epoch 25/30\n",
            "50/50 [==============================] - 7s 137ms/step - loss: 0.8352 - accuracy: 0.7389 - val_loss: 1.4174 - val_accuracy: 0.5938\n",
            "Epoch 26/30\n",
            "50/50 [==============================] - 7s 137ms/step - loss: 0.7876 - accuracy: 0.7503 - val_loss: 1.3675 - val_accuracy: 0.6016\n",
            "Epoch 27/30\n",
            "50/50 [==============================] - 7s 137ms/step - loss: 0.7553 - accuracy: 0.7609 - val_loss: 1.3888 - val_accuracy: 0.5914\n",
            "Epoch 28/30\n",
            "50/50 [==============================] - 7s 138ms/step - loss: 0.7122 - accuracy: 0.7841 - val_loss: 1.3918 - val_accuracy: 0.6047\n",
            "Epoch 29/30\n",
            "50/50 [==============================] - 7s 138ms/step - loss: 0.6713 - accuracy: 0.7952 - val_loss: 1.4606 - val_accuracy: 0.5984\n",
            "Epoch 30/30\n",
            "50/50 [==============================] - 7s 139ms/step - loss: 0.6260 - accuracy: 0.8044 - val_loss: 1.4068 - val_accuracy: 0.6164\n"
          ],
          "name": "stdout"
        }
      ]
    },
    {
      "cell_type": "code",
      "metadata": {
        "id": "XdK88Dn53h5A"
      },
      "source": [
        "#CNN1\n",
        "#Version2\n",
        "def CNN_d(summary):\n",
        "    \n",
        "  model = models.Sequential()\n",
        "  model.add(layers.Conv2D(16, kernel_size=(5, 5), activation='relu', input_shape=(32, 32, 3)))\n",
        "  model.add(layers.MaxPooling2D(pool_size=(2, 2)))\n",
        "  model.add(Dropout(0.1))\n",
        "  model.add(layers.Conv2D(16, kernel_size=(3, 3), activation='relu', input_shape=(32, 32, 3)))\n",
        "  model.add(layers.MaxPooling2D(pool_size=(2, 2)))\n",
        "  model.add(Dropout(0.1))\n",
        "  model.add(layers.Conv2D(32, kernel_size=(3, 3), activation='relu', input_shape=(32, 32, 3)))\n",
        "  model.add(layers.Flatten())\n",
        "  model.add(layers.Dense(200,activation='softmax'))\n",
        "  model.compile(optimizer=tf.optimizers.RMSprop(), loss=tf.keras.losses.sparse_categorical_crossentropy, metrics=[\"accuracy\"])\n",
        "  if summary: \n",
        "    model.summary()\n",
        "  model.fit(train_ds, epochs=30, steps_per_epoch=50, validation_data=validation_ds, validation_steps=10)    \n",
        "  return model"
      ],
      "execution_count": null,
      "outputs": []
    },
    {
      "cell_type": "code",
      "metadata": {
        "id": "QaJ1gYSD4Fe6",
        "colab": {
          "base_uri": "https://localhost:8080/",
          "height": 1000
        },
        "outputId": "d7ea585e-bb19-40be-a1b1-4066d00caaaf"
      },
      "source": [
        "CNNd=CNN_d(True)"
      ],
      "execution_count": null,
      "outputs": [
        {
          "output_type": "stream",
          "text": [
            "Model: \"sequential_115\"\n",
            "_________________________________________________________________\n",
            "Layer (type)                 Output Shape              Param #   \n",
            "=================================================================\n",
            "conv2d_131 (Conv2D)          (None, 28, 28, 16)        1216      \n",
            "_________________________________________________________________\n",
            "max_pooling2d_98 (MaxPooling (None, 14, 14, 16)        0         \n",
            "_________________________________________________________________\n",
            "dropout_32 (Dropout)         (None, 14, 14, 16)        0         \n",
            "_________________________________________________________________\n",
            "conv2d_132 (Conv2D)          (None, 12, 12, 16)        2320      \n",
            "_________________________________________________________________\n",
            "max_pooling2d_99 (MaxPooling (None, 6, 6, 16)          0         \n",
            "_________________________________________________________________\n",
            "dropout_33 (Dropout)         (None, 6, 6, 16)          0         \n",
            "_________________________________________________________________\n",
            "conv2d_133 (Conv2D)          (None, 4, 4, 32)          4640      \n",
            "_________________________________________________________________\n",
            "flatten_115 (Flatten)        (None, 512)               0         \n",
            "_________________________________________________________________\n",
            "dense_150 (Dense)            (None, 200)               102600    \n",
            "=================================================================\n",
            "Total params: 110,776\n",
            "Trainable params: 110,776\n",
            "Non-trainable params: 0\n",
            "_________________________________________________________________\n",
            "Epoch 1/30\n",
            "50/50 [==============================] - 5s 98ms/step - loss: 3.1107 - accuracy: 0.0781 - val_loss: 2.8462 - val_accuracy: 0.1453\n",
            "Epoch 2/30\n",
            "50/50 [==============================] - 5s 97ms/step - loss: 2.7702 - accuracy: 0.1616 - val_loss: 2.6467 - val_accuracy: 0.2234\n",
            "Epoch 3/30\n",
            "50/50 [==============================] - 5s 97ms/step - loss: 2.5874 - accuracy: 0.2153 - val_loss: 2.4716 - val_accuracy: 0.2688\n",
            "Epoch 4/30\n",
            "50/50 [==============================] - 5s 97ms/step - loss: 2.4825 - accuracy: 0.2494 - val_loss: 2.3657 - val_accuracy: 0.2812\n",
            "Epoch 5/30\n",
            "50/50 [==============================] - 5s 97ms/step - loss: 2.4033 - accuracy: 0.2842 - val_loss: 2.3400 - val_accuracy: 0.3047\n",
            "Epoch 6/30\n",
            "50/50 [==============================] - 5s 98ms/step - loss: 2.3218 - accuracy: 0.3022 - val_loss: 2.3025 - val_accuracy: 0.2984\n",
            "Epoch 7/30\n",
            "50/50 [==============================] - 5s 98ms/step - loss: 2.2644 - accuracy: 0.3281 - val_loss: 2.2499 - val_accuracy: 0.3266\n",
            "Epoch 8/30\n",
            "50/50 [==============================] - 5s 98ms/step - loss: 2.1840 - accuracy: 0.3497 - val_loss: 2.1248 - val_accuracy: 0.3586\n",
            "Epoch 9/30\n",
            "50/50 [==============================] - 5s 98ms/step - loss: 2.1506 - accuracy: 0.3555 - val_loss: 2.0757 - val_accuracy: 0.3648\n",
            "Epoch 10/30\n",
            "50/50 [==============================] - 5s 98ms/step - loss: 2.1069 - accuracy: 0.3695 - val_loss: 2.1267 - val_accuracy: 0.3586\n",
            "Epoch 11/30\n",
            "50/50 [==============================] - 5s 97ms/step - loss: 2.0687 - accuracy: 0.3809 - val_loss: 2.1042 - val_accuracy: 0.3633\n",
            "Epoch 12/30\n",
            "50/50 [==============================] - 5s 97ms/step - loss: 2.0312 - accuracy: 0.3950 - val_loss: 2.0905 - val_accuracy: 0.3672\n",
            "Epoch 13/30\n",
            "50/50 [==============================] - 5s 96ms/step - loss: 1.9856 - accuracy: 0.4059 - val_loss: 2.0296 - val_accuracy: 0.3969\n",
            "Epoch 14/30\n",
            "50/50 [==============================] - 5s 98ms/step - loss: 1.9735 - accuracy: 0.4123 - val_loss: 1.9510 - val_accuracy: 0.4266\n",
            "Epoch 15/30\n",
            "50/50 [==============================] - 5s 98ms/step - loss: 1.9214 - accuracy: 0.4331 - val_loss: 1.9712 - val_accuracy: 0.4109\n",
            "Epoch 16/30\n",
            "50/50 [==============================] - 5s 97ms/step - loss: 1.9051 - accuracy: 0.4284 - val_loss: 2.0029 - val_accuracy: 0.3781\n",
            "Epoch 17/30\n",
            "50/50 [==============================] - 5s 97ms/step - loss: 1.8743 - accuracy: 0.4366 - val_loss: 1.8868 - val_accuracy: 0.4516\n",
            "Epoch 18/30\n",
            "50/50 [==============================] - 5s 97ms/step - loss: 1.8275 - accuracy: 0.4489 - val_loss: 1.9069 - val_accuracy: 0.4320\n",
            "Epoch 19/30\n",
            "50/50 [==============================] - 5s 97ms/step - loss: 1.8109 - accuracy: 0.4623 - val_loss: 1.8203 - val_accuracy: 0.4469\n",
            "Epoch 20/30\n",
            "50/50 [==============================] - 5s 97ms/step - loss: 1.8312 - accuracy: 0.4508 - val_loss: 1.7822 - val_accuracy: 0.4727\n",
            "Epoch 21/30\n",
            "50/50 [==============================] - 5s 97ms/step - loss: 1.7881 - accuracy: 0.4664 - val_loss: 1.8422 - val_accuracy: 0.4500\n",
            "Epoch 22/30\n",
            "50/50 [==============================] - 5s 97ms/step - loss: 1.7395 - accuracy: 0.4745 - val_loss: 1.8031 - val_accuracy: 0.4656\n",
            "Epoch 23/30\n",
            "50/50 [==============================] - 5s 98ms/step - loss: 1.7615 - accuracy: 0.4706 - val_loss: 1.7856 - val_accuracy: 0.4742\n",
            "Epoch 24/30\n",
            "50/50 [==============================] - 5s 98ms/step - loss: 1.7268 - accuracy: 0.4756 - val_loss: 1.7924 - val_accuracy: 0.4617\n",
            "Epoch 25/30\n",
            "50/50 [==============================] - 5s 96ms/step - loss: 1.7081 - accuracy: 0.4873 - val_loss: 1.7540 - val_accuracy: 0.4586\n",
            "Epoch 26/30\n",
            "50/50 [==============================] - 5s 97ms/step - loss: 1.6945 - accuracy: 0.4856 - val_loss: 1.7974 - val_accuracy: 0.4586\n",
            "Epoch 27/30\n",
            "50/50 [==============================] - 5s 96ms/step - loss: 1.6371 - accuracy: 0.5098 - val_loss: 1.7264 - val_accuracy: 0.4891\n",
            "Epoch 28/30\n",
            "50/50 [==============================] - 5s 98ms/step - loss: 1.6787 - accuracy: 0.4920 - val_loss: 1.7455 - val_accuracy: 0.4695\n",
            "Epoch 29/30\n",
            "50/50 [==============================] - 5s 96ms/step - loss: 1.6259 - accuracy: 0.5031 - val_loss: 1.7133 - val_accuracy: 0.4875\n",
            "Epoch 30/30\n",
            "50/50 [==============================] - 5s 98ms/step - loss: 1.6147 - accuracy: 0.5230 - val_loss: 1.7113 - val_accuracy: 0.4797\n"
          ],
          "name": "stdout"
        }
      ]
    },
    {
      "cell_type": "code",
      "metadata": {
        "id": "4kkEdF7L4P4l"
      },
      "source": [
        "#MYCNN\n",
        "#Version2\n",
        "\n",
        "def MYCNN_d(summary):\n",
        "   model = models.Sequential()\n",
        "   model.add(layers.Conv2D(32, (3, 3), activation='relu', input_shape=(32, 32, 3)))\n",
        "   model.add(layers.MaxPooling2D((2, 2)))\n",
        "   model.add(layers.Conv2D(64, (3, 3), activation='relu',input_shape=(32, 32, 3)))\n",
        "   model.add(layers.MaxPooling2D((2, 2)))\n",
        "   model.add(Dropout(0.1))\n",
        "   model.add(layers.Conv2D(64, (3, 3), activation='relu',input_shape=(32, 32, 3)))\n",
        "   model.add(layers.Flatten())\n",
        "   model.add(layers.Dense(100,activation='relu'))\n",
        "   model.compile(optimizer=tf.optimizers.Adam(), loss=tf.keras.losses.sparse_categorical_crossentropy, metrics=[\"accuracy\"])    \n",
        "   if summary: \n",
        "    model.summary()\n",
        "   model.fit(train_ds, epochs=30, steps_per_epoch=50, validation_data=validation_ds, validation_steps=10) \n",
        "   return model"
      ],
      "execution_count": null,
      "outputs": []
    },
    {
      "cell_type": "code",
      "metadata": {
        "id": "dgnAm94C9bwb",
        "colab": {
          "base_uri": "https://localhost:8080/",
          "height": 1000
        },
        "outputId": "fd676e18-dea9-409a-c84c-ca804e2fdb94"
      },
      "source": [
        "MYCNNd=MYCNN_d(True)"
      ],
      "execution_count": null,
      "outputs": [
        {
          "output_type": "stream",
          "text": [
            "Model: \"sequential_143\"\n",
            "_________________________________________________________________\n",
            "Layer (type)                 Output Shape              Param #   \n",
            "=================================================================\n",
            "conv2d_207 (Conv2D)          (None, 30, 30, 32)        896       \n",
            "_________________________________________________________________\n",
            "max_pooling2d_150 (MaxPoolin (None, 15, 15, 32)        0         \n",
            "_________________________________________________________________\n",
            "conv2d_208 (Conv2D)          (None, 13, 13, 64)        18496     \n",
            "_________________________________________________________________\n",
            "max_pooling2d_151 (MaxPoolin (None, 6, 6, 64)          0         \n",
            "_________________________________________________________________\n",
            "dropout_50 (Dropout)         (None, 6, 6, 64)          0         \n",
            "_________________________________________________________________\n",
            "conv2d_209 (Conv2D)          (None, 4, 4, 64)          36928     \n",
            "_________________________________________________________________\n",
            "flatten_143 (Flatten)        (None, 1024)              0         \n",
            "_________________________________________________________________\n",
            "dense_181 (Dense)            (None, 100)               102500    \n",
            "=================================================================\n",
            "Total params: 158,820\n",
            "Trainable params: 158,820\n",
            "Non-trainable params: 0\n",
            "_________________________________________________________________\n",
            "Epoch 1/30\n",
            "50/50 [==============================] - 7s 150ms/step - loss: 5.2030 - accuracy: 0.0753 - val_loss: 5.1004 - val_accuracy: 0.0625\n",
            "Epoch 2/30\n",
            "50/50 [==============================] - 7s 145ms/step - loss: 4.9065 - accuracy: 0.1047 - val_loss: 4.7264 - val_accuracy: 0.1656\n",
            "Epoch 3/30\n",
            "50/50 [==============================] - 7s 144ms/step - loss: 4.8691 - accuracy: 0.1298 - val_loss: 4.9306 - val_accuracy: 0.0922\n",
            "Epoch 4/30\n",
            "50/50 [==============================] - 7s 144ms/step - loss: 4.8012 - accuracy: 0.1198 - val_loss: 4.8519 - val_accuracy: 0.0805\n",
            "Epoch 5/30\n",
            "50/50 [==============================] - 7s 144ms/step - loss: 4.6327 - accuracy: 0.1686 - val_loss: 5.0859 - val_accuracy: 0.2406\n",
            "Epoch 6/30\n",
            "50/50 [==============================] - 7s 143ms/step - loss: 4.8756 - accuracy: 0.1217 - val_loss: 4.7424 - val_accuracy: 0.1258\n",
            "Epoch 7/30\n",
            "50/50 [==============================] - 7s 143ms/step - loss: 4.9211 - accuracy: 0.0984 - val_loss: 4.9919 - val_accuracy: 0.0883\n",
            "Epoch 8/30\n",
            "50/50 [==============================] - 7s 143ms/step - loss: 4.8003 - accuracy: 0.1122 - val_loss: 4.9043 - val_accuracy: 0.0828\n",
            "Epoch 9/30\n",
            "50/50 [==============================] - 7s 146ms/step - loss: 4.8353 - accuracy: 0.1109 - val_loss: 4.6599 - val_accuracy: 0.1375\n",
            "Epoch 10/30\n",
            "50/50 [==============================] - 7s 146ms/step - loss: 4.6790 - accuracy: 0.1548 - val_loss: 4.7522 - val_accuracy: 0.2258\n",
            "Epoch 11/30\n",
            "50/50 [==============================] - 7s 145ms/step - loss: 4.6314 - accuracy: 0.1991 - val_loss: 4.5623 - val_accuracy: 0.2375\n",
            "Epoch 12/30\n",
            "50/50 [==============================] - 7s 144ms/step - loss: 4.5973 - accuracy: 0.2122 - val_loss: 4.5244 - val_accuracy: 0.2539\n",
            "Epoch 13/30\n",
            "50/50 [==============================] - 7s 143ms/step - loss: 4.5877 - accuracy: 0.2397 - val_loss: 4.7596 - val_accuracy: 0.2156\n",
            "Epoch 14/30\n",
            "50/50 [==============================] - 7s 146ms/step - loss: 6.0516 - accuracy: 0.0998 - val_loss: 4.9698 - val_accuracy: 0.1047\n",
            "Epoch 15/30\n",
            "50/50 [==============================] - 7s 148ms/step - loss: 4.8579 - accuracy: 0.1056 - val_loss: 4.8115 - val_accuracy: 0.1430\n",
            "Epoch 16/30\n",
            "50/50 [==============================] - 7s 146ms/step - loss: 5.0819 - accuracy: 0.0680 - val_loss: 5.1905 - val_accuracy: 0.0430\n",
            "Epoch 17/30\n",
            "50/50 [==============================] - 7s 145ms/step - loss: 5.0567 - accuracy: 0.0541 - val_loss: 5.2452 - val_accuracy: 0.0430\n",
            "Epoch 18/30\n",
            "50/50 [==============================] - 7s 147ms/step - loss: 5.1056 - accuracy: 0.0538 - val_loss: 5.1946 - val_accuracy: 0.0445\n",
            "Epoch 19/30\n",
            "50/50 [==============================] - 7s 146ms/step - loss: 5.1339 - accuracy: 0.0530 - val_loss: 5.0450 - val_accuracy: 0.0664\n",
            "Epoch 20/30\n",
            "50/50 [==============================] - 7s 143ms/step - loss: 5.0431 - accuracy: 0.0669 - val_loss: 5.0369 - val_accuracy: 0.0633\n",
            "Epoch 21/30\n",
            "50/50 [==============================] - 7s 144ms/step - loss: 4.9805 - accuracy: 0.0816 - val_loss: 5.0230 - val_accuracy: 0.0953\n",
            "Epoch 22/30\n",
            "50/50 [==============================] - 7s 147ms/step - loss: 5.0902 - accuracy: 0.0939 - val_loss: 5.1690 - val_accuracy: 0.0398\n",
            "Epoch 23/30\n",
            "50/50 [==============================] - 7s 146ms/step - loss: 5.1563 - accuracy: 0.0597 - val_loss: 5.1946 - val_accuracy: 0.0484\n",
            "Epoch 24/30\n",
            "50/50 [==============================] - 7s 145ms/step - loss: 5.2628 - accuracy: 0.0736 - val_loss: 5.3151 - val_accuracy: 0.0805\n",
            "Epoch 25/30\n",
            "50/50 [==============================] - 7s 146ms/step - loss: 5.1788 - accuracy: 0.0711 - val_loss: 5.1637 - val_accuracy: 0.1000\n",
            "Epoch 26/30\n",
            "50/50 [==============================] - 7s 149ms/step - loss: 4.9860 - accuracy: 0.1134 - val_loss: 5.1511 - val_accuracy: 0.1180\n",
            "Epoch 27/30\n",
            "50/50 [==============================] - 7s 146ms/step - loss: 4.9953 - accuracy: 0.1094 - val_loss: 5.0366 - val_accuracy: 0.1031\n",
            "Epoch 28/30\n",
            "50/50 [==============================] - 7s 146ms/step - loss: 5.0252 - accuracy: 0.1430 - val_loss: 4.9103 - val_accuracy: 0.1578\n",
            "Epoch 29/30\n",
            "50/50 [==============================] - 7s 146ms/step - loss: 5.0286 - accuracy: 0.1486 - val_loss: 5.0268 - val_accuracy: 0.0594\n",
            "Epoch 30/30\n",
            "50/50 [==============================] - 7s 146ms/step - loss: 4.8966 - accuracy: 0.0894 - val_loss: 4.9551 - val_accuracy: 0.0898\n"
          ],
          "name": "stdout"
        }
      ]
    },
    {
      "cell_type": "code",
      "metadata": {
        "id": "rvCQ6MV36JDs",
        "colab": {
          "base_uri": "https://localhost:8080/",
          "height": 299
        },
        "outputId": "6bcc9509-72ae-471f-a6b2-845fbdb396bd"
      },
      "source": [
        "#Data Augmentation\n",
        "#Λόγω των αλλαγών που πραγματοποιήσαμε στον βοηθητικό κώδικα στο κομμάτι των TFRecords, εμφανιζόταν ένα error κατα την εκτέλεση\n",
        "#του κώδικα το οποίο δεν μπορέσαμε να προσδιορίσουμε και να διορθώσουμε. Έτσι, γι' αυτό το υποερώτημα της εργασίας θα χρησιμοποιήσουμε\n",
        "#τον αρχικό κώδικα της εκφώνησης για TFRecords.\n",
        "BATCH_SIZE = 128\n",
        "AUTOTUNE = tf.data.experimental.AUTOTUNE # https://www.tensorflow.org/guide/data_performance\n",
        "train = tf.data.Dataset.from_tensor_slices((x_train,y_train))\n",
        "val = tf.data.Dataset.from_tensor_slices((x_val,y_val))\n",
        "test = tf.data.Dataset.from_tensor_slices((x_test,y_test))\n",
        "\n",
        "train_data = train.shuffle(data_size).repeat().batch(BATCH_SIZE).prefetch(tf.data.experimental.AUTOTUNE)\n",
        "val_data = train.shuffle(data_size).repeat().batch(BATCH_SIZE).prefetch(tf.data.experimental.AUTOTUNE)\n",
        "test_data = test.shuffle(data_size).repeat().batch(BATCH_SIZE).prefetch(tf.data.experimental.AUTOTUNE)\n",
        "\n",
        "from tensorflow.keras.preprocessing.image import ImageDataGenerator\n",
        "\n",
        "#Συνάρτηση εμφάνισης των εικόνων\n",
        "def plotImages(images_arr):\n",
        "    fig, axes = plt.subplots(1, 5, figsize=(20,30))\n",
        "    axes = axes.flatten()\n",
        "    for img, ax in zip( images_arr, axes):\n",
        "        ax.imshow(img)\n",
        "        ax.axis('off')\n",
        "    plt.tight_layout()\n",
        "    plt.show()\n",
        "#Καθορισμός παραμέτρων και τιμών για τις επιπλέον εικόνες που θα παραχθούν από τον generator\n",
        "image_gen = ImageDataGenerator(\n",
        "                  rotation_range=45,\n",
        "                  width_shift_range=.20,\n",
        "                  height_shift_range=.20,\n",
        "                  horizontal_flip=True,\n",
        "                  )\n",
        "#Καθορισμός παραμέτρων εκπαίδευσης με βάση τα νέα δεδομένα\n",
        "#Με βάση το train_image_gen θα γίνει αργότερα η εκπαίδευση των μοντέλων μας\n",
        "train_image_gen=image_gen.flow(\n",
        "    x=x_train.copy(), y=y_train.copy(), batch_size=BATCH_SIZE, shuffle=True\n",
        ")\n",
        "\n",
        "augmented_images = [train_image_gen[0][0][0] for i in range(5)]\n",
        "plotImages(augmented_images)\n",
        "\n",
        "train_image_gen = train.shuffle(data_size).repeat().batch(BATCH_SIZE).prefetch(tf.data.experimental.AUTOTUNE)\n"
      ],
      "execution_count": null,
      "outputs": [
        {
          "output_type": "display_data",
          "data": {
            "image/png": "[encoded data removed]",
            "text/plain": [
              "<Figure size 1440x2160 with 5 Axes>"
            ]
          },
          "metadata": {
            "tags": [],
            "needs_background": "light"
          }
        }
      ]
    },
    {
      "cell_type": "code",
      "metadata": {
        "id": "TTYbrsSpVi12"
      },
      "source": [
        "#Λόγω των αλλαγών στον κώδικα του TFRecords, δημιουργούμε μία δεύτερη συνάρτηση για την εκπαίδευση του μοντελου στην οποία\n",
        "#έχουν αλλάξει κάποια ονόματα μεταβλητών\n",
        "def train_model_2(model, epochs, steps_per_epoch, validation_steps, callback=[],train_d=train_data,val_d=val_data):\n",
        "  history = model.fit(train_d, epochs=epochs, steps_per_epoch=steps_per_epoch, validation_data=val_d, validation_steps=validation_steps)\n",
        "  return(history)"
      ],
      "execution_count": null,
      "outputs": []
    },
    {
      "cell_type": "code",
      "metadata": {
        "id": "_ffZu00CcOD6"
      },
      "source": [
        "#Softmax\n",
        "def Softmax_da(summary):\n",
        "  model = models.Sequential()\n",
        "  model.add(layers.Flatten(input_shape=(32, 32, 3)))\n",
        "  model.add(layers.Dense(200,activation='softmax'))\n",
        "  model.add(Dropout(0.1))\n",
        "  model.compile(optimizer=tf.optimizers.Adagrad(), loss=tf.keras.losses.sparse_categorical_crossentropy, metrics=[\"accuracy\"])  \n",
        "  if summary: \n",
        "    model.summary()\n",
        "  return model"
      ],
      "execution_count": null,
      "outputs": []
    },
    {
      "cell_type": "code",
      "metadata": {
        "id": "dE6TYC5Ccg-7",
        "colab": {
          "base_uri": "https://localhost:8080/",
          "height": 276
        },
        "outputId": "826e818f-e3f0-4df0-e042-5a8f590d85db"
      },
      "source": [
        "Softmaxda=Softmax_da(True)"
      ],
      "execution_count": null,
      "outputs": [
        {
          "output_type": "stream",
          "text": [
            "Model: \"sequential_123\"\n",
            "_________________________________________________________________\n",
            "Layer (type)                 Output Shape              Param #   \n",
            "=================================================================\n",
            "flatten_123 (Flatten)        (None, 3072)              0         \n",
            "_________________________________________________________________\n",
            "dense_158 (Dense)            (None, 200)               614600    \n",
            "_________________________________________________________________\n",
            "dropout_41 (Dropout)         (None, 200)               0         \n",
            "=================================================================\n",
            "Total params: 614,600\n",
            "Trainable params: 614,600\n",
            "Non-trainable params: 0\n",
            "_________________________________________________________________\n"
          ],
          "name": "stdout"
        }
      ]
    },
    {
      "cell_type": "code",
      "metadata": {
        "id": "28mOC8_0dCVq",
        "colab": {
          "base_uri": "https://localhost:8080/",
          "height": 1000
        },
        "outputId": "ed6cbc78-6db7-4292-c425-3eae34548d6c"
      },
      "source": [
        "#Εκπαίδευση με προσθήκη της παραμέτρου train_image_gen\n",
        "Softmax_da_train = train_model_2(Softmaxda, 30, 100, 5, train_image_gen)"
      ],
      "execution_count": null,
      "outputs": [
        {
          "output_type": "stream",
          "text": [
            "Epoch 1/30\n",
            "100/100 [==============================] - 2s 16ms/step - loss: 3.5805 - accuracy: 0.3109 - val_loss: 2.3036 - val_accuracy: 0.3578\n",
            "Epoch 2/30\n",
            "100/100 [==============================] - 2s 18ms/step - loss: 3.6050 - accuracy: 0.3138 - val_loss: 2.3058 - val_accuracy: 0.3391\n",
            "Epoch 3/30\n",
            "100/100 [==============================] - 2s 15ms/step - loss: 3.6408 - accuracy: 0.3073 - val_loss: 2.3561 - val_accuracy: 0.3172\n",
            "Epoch 4/30\n",
            "100/100 [==============================] - 2s 17ms/step - loss: 3.6081 - accuracy: 0.3149 - val_loss: 2.3903 - val_accuracy: 0.3406\n",
            "Epoch 5/30\n",
            "100/100 [==============================] - 2s 16ms/step - loss: 3.5861 - accuracy: 0.3127 - val_loss: 2.3255 - val_accuracy: 0.3516\n",
            "Epoch 6/30\n",
            "100/100 [==============================] - 2s 17ms/step - loss: 3.6199 - accuracy: 0.3164 - val_loss: 2.3375 - val_accuracy: 0.3313\n",
            "Epoch 7/30\n",
            "100/100 [==============================] - 2s 16ms/step - loss: 3.5127 - accuracy: 0.3161 - val_loss: 2.3102 - val_accuracy: 0.3375\n",
            "Epoch 8/30\n",
            "100/100 [==============================] - 2s 16ms/step - loss: 3.5847 - accuracy: 0.3220 - val_loss: 2.3282 - val_accuracy: 0.3438\n",
            "Epoch 9/30\n",
            "100/100 [==============================] - 2s 15ms/step - loss: 3.6295 - accuracy: 0.3207 - val_loss: 2.2780 - val_accuracy: 0.3438\n",
            "Epoch 10/30\n",
            "100/100 [==============================] - 2s 16ms/step - loss: 3.6739 - accuracy: 0.3141 - val_loss: 2.3217 - val_accuracy: 0.3516\n",
            "Epoch 11/30\n",
            "100/100 [==============================] - 2s 15ms/step - loss: 3.6191 - accuracy: 0.3159 - val_loss: 2.2788 - val_accuracy: 0.3547\n",
            "Epoch 12/30\n",
            "100/100 [==============================] - 2s 17ms/step - loss: 3.5932 - accuracy: 0.3171 - val_loss: 2.3434 - val_accuracy: 0.3250\n",
            "Epoch 13/30\n",
            "100/100 [==============================] - 2s 16ms/step - loss: 3.5856 - accuracy: 0.3237 - val_loss: 2.2978 - val_accuracy: 0.3328\n",
            "Epoch 14/30\n",
            "100/100 [==============================] - 2s 16ms/step - loss: 3.6098 - accuracy: 0.3200 - val_loss: 2.2849 - val_accuracy: 0.3828\n",
            "Epoch 15/30\n",
            "100/100 [==============================] - 2s 16ms/step - loss: 3.5614 - accuracy: 0.3186 - val_loss: 2.3494 - val_accuracy: 0.3297\n",
            "Epoch 16/30\n",
            "100/100 [==============================] - 2s 17ms/step - loss: 3.5624 - accuracy: 0.3230 - val_loss: 2.2974 - val_accuracy: 0.3422\n",
            "Epoch 17/30\n",
            "100/100 [==============================] - 2s 16ms/step - loss: 3.5941 - accuracy: 0.3230 - val_loss: 2.3151 - val_accuracy: 0.3469\n",
            "Epoch 18/30\n",
            "100/100 [==============================] - 2s 16ms/step - loss: 3.5168 - accuracy: 0.3273 - val_loss: 2.2732 - val_accuracy: 0.3641\n",
            "Epoch 19/30\n",
            "100/100 [==============================] - 2s 16ms/step - loss: 3.4638 - accuracy: 0.3320 - val_loss: 2.3314 - val_accuracy: 0.3469\n",
            "Epoch 20/30\n",
            "100/100 [==============================] - 2s 16ms/step - loss: 3.5294 - accuracy: 0.3233 - val_loss: 2.2432 - val_accuracy: 0.3578\n",
            "Epoch 21/30\n",
            "100/100 [==============================] - 2s 16ms/step - loss: 3.5795 - accuracy: 0.3260 - val_loss: 2.3152 - val_accuracy: 0.3406\n",
            "Epoch 22/30\n",
            "100/100 [==============================] - 2s 16ms/step - loss: 3.5014 - accuracy: 0.3297 - val_loss: 2.1784 - val_accuracy: 0.3922\n",
            "Epoch 23/30\n",
            "100/100 [==============================] - 2s 16ms/step - loss: 3.5431 - accuracy: 0.3266 - val_loss: 2.2881 - val_accuracy: 0.3344\n",
            "Epoch 24/30\n",
            "100/100 [==============================] - 2s 16ms/step - loss: 3.5003 - accuracy: 0.3305 - val_loss: 2.2197 - val_accuracy: 0.3656\n",
            "Epoch 25/30\n",
            "100/100 [==============================] - 2s 16ms/step - loss: 3.4821 - accuracy: 0.3313 - val_loss: 2.2748 - val_accuracy: 0.3375\n",
            "Epoch 26/30\n",
            "100/100 [==============================] - 2s 16ms/step - loss: 3.4961 - accuracy: 0.3334 - val_loss: 2.2639 - val_accuracy: 0.3641\n",
            "Epoch 27/30\n",
            "100/100 [==============================] - 2s 16ms/step - loss: 3.5786 - accuracy: 0.3291 - val_loss: 2.2170 - val_accuracy: 0.3516\n",
            "Epoch 28/30\n",
            "100/100 [==============================] - 2s 16ms/step - loss: 3.5623 - accuracy: 0.3252 - val_loss: 2.1831 - val_accuracy: 0.3797\n",
            "Epoch 29/30\n",
            "100/100 [==============================] - 2s 15ms/step - loss: 3.6014 - accuracy: 0.3306 - val_loss: 2.2909 - val_accuracy: 0.3250\n",
            "Epoch 30/30\n",
            "100/100 [==============================] - 2s 16ms/step - loss: 3.4685 - accuracy: 0.3373 - val_loss: 2.2633 - val_accuracy: 0.3469\n"
          ],
          "name": "stdout"
        }
      ]
    },
    {
      "cell_type": "code",
      "metadata": {
        "id": "8Vy7DD0iHkHs"
      },
      "source": [
        "#MLP\n",
        "def MLP_da(summary):\n",
        "  model = models.Sequential()\n",
        "  model.add(layers.Flatten(input_shape=(32, 32, 3)))\n",
        "  model.add(layers.Dense(512,activation='relu'))\n",
        "  model.add(layers.Dense(200,activation='softmax'))\n",
        "  model.compile(optimizer=tf.optimizers.Adam(), loss=tf.keras.losses.sparse_categorical_crossentropy, metrics=[\"accuracy\"])  \n",
        "  if summary: \n",
        "    model.summary()\n",
        "  return model"
      ],
      "execution_count": null,
      "outputs": []
    },
    {
      "cell_type": "code",
      "metadata": {
        "id": "YWPg_n9_H0lm",
        "colab": {
          "base_uri": "https://localhost:8080/",
          "height": 276
        },
        "outputId": "33b59687-65da-48ed-a60f-3571d570e52f"
      },
      "source": [
        "MLPda=MLP_da(True)"
      ],
      "execution_count": null,
      "outputs": [
        {
          "output_type": "stream",
          "text": [
            "Model: \"sequential_124\"\n",
            "_________________________________________________________________\n",
            "Layer (type)                 Output Shape              Param #   \n",
            "=================================================================\n",
            "flatten_124 (Flatten)        (None, 3072)              0         \n",
            "_________________________________________________________________\n",
            "dense_159 (Dense)            (None, 512)               1573376   \n",
            "_________________________________________________________________\n",
            "dense_160 (Dense)            (None, 200)               102600    \n",
            "=================================================================\n",
            "Total params: 1,675,976\n",
            "Trainable params: 1,675,976\n",
            "Non-trainable params: 0\n",
            "_________________________________________________________________\n"
          ],
          "name": "stdout"
        }
      ]
    },
    {
      "cell_type": "code",
      "metadata": {
        "id": "UoKxfetKH6cx",
        "colab": {
          "base_uri": "https://localhost:8080/",
          "height": 1000
        },
        "outputId": "6e0b69b5-e317-43a8-c6fa-874f02fc5eba"
      },
      "source": [
        "MLP_da_train = train_model_2(MLPda, 30, 100, 5, train_image_gen)"
      ],
      "execution_count": null,
      "outputs": [
        {
          "output_type": "stream",
          "text": [
            "Epoch 1/30\n",
            "100/100 [==============================] - 3s 29ms/step - loss: 2.7827 - accuracy: 0.2141 - val_loss: 2.4374 - val_accuracy: 0.2656\n",
            "Epoch 2/30\n",
            "100/100 [==============================] - 3s 29ms/step - loss: 2.3349 - accuracy: 0.3077 - val_loss: 2.1995 - val_accuracy: 0.3375\n",
            "Epoch 3/30\n",
            "100/100 [==============================] - 3s 28ms/step - loss: 2.2201 - accuracy: 0.3445 - val_loss: 2.0292 - val_accuracy: 0.3766\n",
            "Epoch 4/30\n",
            "100/100 [==============================] - 3s 29ms/step - loss: 2.1147 - accuracy: 0.3723 - val_loss: 2.0214 - val_accuracy: 0.3922\n",
            "Epoch 5/30\n",
            "100/100 [==============================] - 3s 28ms/step - loss: 2.0185 - accuracy: 0.4029 - val_loss: 1.9296 - val_accuracy: 0.4375\n",
            "Epoch 6/30\n",
            "100/100 [==============================] - 3s 29ms/step - loss: 1.9744 - accuracy: 0.4126 - val_loss: 1.9798 - val_accuracy: 0.3953\n",
            "Epoch 7/30\n",
            "100/100 [==============================] - 3s 28ms/step - loss: 1.8969 - accuracy: 0.4341 - val_loss: 1.8173 - val_accuracy: 0.4609\n",
            "Epoch 8/30\n",
            "100/100 [==============================] - 3s 29ms/step - loss: 1.8703 - accuracy: 0.4412 - val_loss: 1.8200 - val_accuracy: 0.4531\n",
            "Epoch 9/30\n",
            "100/100 [==============================] - 3s 28ms/step - loss: 1.8138 - accuracy: 0.4647 - val_loss: 1.8072 - val_accuracy: 0.4828\n",
            "Epoch 10/30\n",
            "100/100 [==============================] - 3s 29ms/step - loss: 1.7642 - accuracy: 0.4738 - val_loss: 1.7543 - val_accuracy: 0.4734\n",
            "Epoch 11/30\n",
            "100/100 [==============================] - 3s 29ms/step - loss: 1.7080 - accuracy: 0.4907 - val_loss: 1.6230 - val_accuracy: 0.5063\n",
            "Epoch 12/30\n",
            "100/100 [==============================] - 3s 29ms/step - loss: 1.6902 - accuracy: 0.4929 - val_loss: 1.6350 - val_accuracy: 0.5344\n",
            "Epoch 13/30\n",
            "100/100 [==============================] - 3s 28ms/step - loss: 1.6390 - accuracy: 0.5084 - val_loss: 1.6215 - val_accuracy: 0.5188\n",
            "Epoch 14/30\n",
            "100/100 [==============================] - 3s 29ms/step - loss: 1.6026 - accuracy: 0.5167 - val_loss: 1.4596 - val_accuracy: 0.5531\n",
            "Epoch 15/30\n",
            "100/100 [==============================] - 3s 28ms/step - loss: 1.5614 - accuracy: 0.5322 - val_loss: 1.3658 - val_accuracy: 0.6016\n",
            "Epoch 16/30\n",
            "100/100 [==============================] - 3s 29ms/step - loss: 1.4979 - accuracy: 0.5423 - val_loss: 1.5381 - val_accuracy: 0.5125\n",
            "Epoch 17/30\n",
            "100/100 [==============================] - 3s 28ms/step - loss: 1.4906 - accuracy: 0.5486 - val_loss: 1.4533 - val_accuracy: 0.5609\n",
            "Epoch 18/30\n",
            "100/100 [==============================] - 3s 29ms/step - loss: 1.4576 - accuracy: 0.5600 - val_loss: 1.4423 - val_accuracy: 0.5531\n",
            "Epoch 19/30\n",
            "100/100 [==============================] - 3s 29ms/step - loss: 1.4068 - accuracy: 0.5742 - val_loss: 1.2895 - val_accuracy: 0.6313\n",
            "Epoch 20/30\n",
            "100/100 [==============================] - 3s 29ms/step - loss: 1.3599 - accuracy: 0.5830 - val_loss: 1.3767 - val_accuracy: 0.5906\n",
            "Epoch 21/30\n",
            "100/100 [==============================] - 3s 29ms/step - loss: 1.3645 - accuracy: 0.5839 - val_loss: 1.3416 - val_accuracy: 0.5813\n",
            "Epoch 22/30\n",
            "100/100 [==============================] - 3s 29ms/step - loss: 1.3390 - accuracy: 0.5941 - val_loss: 1.3021 - val_accuracy: 0.6094\n",
            "Epoch 23/30\n",
            "100/100 [==============================] - 3s 28ms/step - loss: 1.2991 - accuracy: 0.6024 - val_loss: 1.3947 - val_accuracy: 0.5750\n",
            "Epoch 24/30\n",
            "100/100 [==============================] - 3s 29ms/step - loss: 1.2899 - accuracy: 0.6057 - val_loss: 1.2537 - val_accuracy: 0.6234\n",
            "Epoch 25/30\n",
            "100/100 [==============================] - 3s 29ms/step - loss: 1.2256 - accuracy: 0.6302 - val_loss: 1.2343 - val_accuracy: 0.6156\n",
            "Epoch 26/30\n",
            "100/100 [==============================] - 3s 29ms/step - loss: 1.1935 - accuracy: 0.6352 - val_loss: 1.1222 - val_accuracy: 0.6531\n",
            "Epoch 27/30\n",
            "100/100 [==============================] - 3s 28ms/step - loss: 1.1756 - accuracy: 0.6419 - val_loss: 1.1224 - val_accuracy: 0.6656\n",
            "Epoch 28/30\n",
            "100/100 [==============================] - 3s 29ms/step - loss: 1.1441 - accuracy: 0.6508 - val_loss: 1.1031 - val_accuracy: 0.6656\n",
            "Epoch 29/30\n",
            "100/100 [==============================] - 3s 29ms/step - loss: 1.1060 - accuracy: 0.6677 - val_loss: 1.0566 - val_accuracy: 0.6812\n",
            "Epoch 30/30\n",
            "100/100 [==============================] - 3s 29ms/step - loss: 1.0766 - accuracy: 0.6702 - val_loss: 1.0319 - val_accuracy: 0.6687\n"
          ],
          "name": "stdout"
        }
      ]
    },
    {
      "cell_type": "code",
      "metadata": {
        "id": "__uCWFzaI0A5"
      },
      "source": [
        "#LeNet\n",
        "def LeNet_da(summary):\n",
        "  model = models.Sequential()\n",
        "  model.add(layers.Conv2D(32, kernel_size=(3, 3), activation='relu', input_shape=(32, 32, 3)))\n",
        "  model.add(layers.MaxPooling2D(pool_size=(2, 2)))\n",
        "  model.add(layers.Conv2D(32, kernel_size=(3, 3), activation='relu'))\n",
        "  model.add(layers.MaxPooling2D(pool_size=(2, 2)))\n",
        "  model.add(layers.Flatten())\n",
        "  model.add(layers.Dense(512, activation='relu'))\n",
        "  model.add(layers.Dense(200,activation='softmax'))\n",
        "  model.compile(optimizer=tf.optimizers.Adam(), loss=tf.keras.losses.sparse_categorical_crossentropy, metrics=[\"accuracy\"])\n",
        "  if summary: \n",
        "    model.summary()\n",
        "  return model"
      ],
      "execution_count": null,
      "outputs": []
    },
    {
      "cell_type": "code",
      "metadata": {
        "id": "zSOh1p7XL8vw",
        "colab": {
          "base_uri": "https://localhost:8080/",
          "height": 424
        },
        "outputId": "7fe93190-01a9-42ac-87b7-6045770d8188"
      },
      "source": [
        "LeNetda=LeNet_da(True)"
      ],
      "execution_count": null,
      "outputs": [
        {
          "output_type": "stream",
          "text": [
            "Model: \"sequential_126\"\n",
            "_________________________________________________________________\n",
            "Layer (type)                 Output Shape              Param #   \n",
            "=================================================================\n",
            "conv2d_157 (Conv2D)          (None, 30, 30, 32)        896       \n",
            "_________________________________________________________________\n",
            "max_pooling2d_116 (MaxPoolin (None, 15, 15, 32)        0         \n",
            "_________________________________________________________________\n",
            "conv2d_158 (Conv2D)          (None, 13, 13, 32)        9248      \n",
            "_________________________________________________________________\n",
            "max_pooling2d_117 (MaxPoolin (None, 6, 6, 32)          0         \n",
            "_________________________________________________________________\n",
            "flatten_126 (Flatten)        (None, 1152)              0         \n",
            "_________________________________________________________________\n",
            "dense_163 (Dense)            (None, 512)               590336    \n",
            "_________________________________________________________________\n",
            "dense_164 (Dense)            (None, 200)               102600    \n",
            "=================================================================\n",
            "Total params: 703,080\n",
            "Trainable params: 703,080\n",
            "Non-trainable params: 0\n",
            "_________________________________________________________________\n"
          ],
          "name": "stdout"
        }
      ]
    },
    {
      "cell_type": "code",
      "metadata": {
        "id": "kN2Rz5wnMC8Y",
        "colab": {
          "base_uri": "https://localhost:8080/",
          "height": 1000
        },
        "outputId": "839b7a5c-d133-47db-aa33-a91a2cb29ac3"
      },
      "source": [
        "LeNet_da_train = train_model_2(LeNetda, 30, 50, 10, train_image_gen)"
      ],
      "execution_count": null,
      "outputs": [
        {
          "output_type": "stream",
          "text": [
            "Epoch 1/30\n",
            "50/50 [==============================] - 6s 130ms/step - loss: 3.0508 - accuracy: 0.1369 - val_loss: 2.5867 - val_accuracy: 0.2016\n",
            "Epoch 2/30\n",
            "50/50 [==============================] - 7s 132ms/step - loss: 2.4164 - accuracy: 0.2848 - val_loss: 2.1994 - val_accuracy: 0.3578\n",
            "Epoch 3/30\n",
            "50/50 [==============================] - 7s 132ms/step - loss: 2.1328 - accuracy: 0.3742 - val_loss: 2.0481 - val_accuracy: 0.4172\n",
            "Epoch 4/30\n",
            "50/50 [==============================] - 7s 133ms/step - loss: 1.9524 - accuracy: 0.4273 - val_loss: 1.8118 - val_accuracy: 0.4625\n",
            "Epoch 5/30\n",
            "50/50 [==============================] - 7s 133ms/step - loss: 1.8066 - accuracy: 0.4700 - val_loss: 1.7765 - val_accuracy: 0.4734\n",
            "Epoch 6/30\n",
            "50/50 [==============================] - 7s 134ms/step - loss: 1.6954 - accuracy: 0.4950 - val_loss: 1.7193 - val_accuracy: 0.4852\n",
            "Epoch 7/30\n",
            "50/50 [==============================] - 7s 134ms/step - loss: 1.6349 - accuracy: 0.5053 - val_loss: 1.5793 - val_accuracy: 0.5203\n",
            "Epoch 8/30\n",
            "50/50 [==============================] - 7s 134ms/step - loss: 1.5549 - accuracy: 0.5352 - val_loss: 1.4789 - val_accuracy: 0.5477\n",
            "Epoch 9/30\n",
            "50/50 [==============================] - 7s 131ms/step - loss: 1.4743 - accuracy: 0.5522 - val_loss: 1.4212 - val_accuracy: 0.5656\n",
            "Epoch 10/30\n",
            "50/50 [==============================] - 7s 133ms/step - loss: 1.4015 - accuracy: 0.5763 - val_loss: 1.3247 - val_accuracy: 0.6062\n",
            "Epoch 11/30\n",
            "50/50 [==============================] - 7s 133ms/step - loss: 1.3506 - accuracy: 0.5944 - val_loss: 1.2711 - val_accuracy: 0.6219\n",
            "Epoch 12/30\n",
            "50/50 [==============================] - 7s 134ms/step - loss: 1.2989 - accuracy: 0.6011 - val_loss: 1.2265 - val_accuracy: 0.6391\n",
            "Epoch 13/30\n",
            "50/50 [==============================] - 7s 131ms/step - loss: 1.2430 - accuracy: 0.6208 - val_loss: 1.1329 - val_accuracy: 0.6547\n",
            "Epoch 14/30\n",
            "50/50 [==============================] - 7s 133ms/step - loss: 1.2129 - accuracy: 0.6314 - val_loss: 1.1252 - val_accuracy: 0.6516\n",
            "Epoch 15/30\n",
            "50/50 [==============================] - 7s 133ms/step - loss: 1.1391 - accuracy: 0.6484 - val_loss: 1.0375 - val_accuracy: 0.6836\n",
            "Epoch 16/30\n",
            "50/50 [==============================] - 7s 134ms/step - loss: 1.0914 - accuracy: 0.6647 - val_loss: 1.0320 - val_accuracy: 0.6766\n",
            "Epoch 17/30\n",
            "50/50 [==============================] - 7s 132ms/step - loss: 1.0179 - accuracy: 0.6891 - val_loss: 0.9539 - val_accuracy: 0.7078\n",
            "Epoch 18/30\n",
            "50/50 [==============================] - 7s 132ms/step - loss: 0.9780 - accuracy: 0.6983 - val_loss: 0.8788 - val_accuracy: 0.7367\n",
            "Epoch 19/30\n",
            "50/50 [==============================] - 7s 133ms/step - loss: 0.9420 - accuracy: 0.7067 - val_loss: 0.8248 - val_accuracy: 0.7578\n",
            "Epoch 20/30\n",
            "50/50 [==============================] - 7s 133ms/step - loss: 0.9014 - accuracy: 0.7297 - val_loss: 0.8198 - val_accuracy: 0.7523\n",
            "Epoch 21/30\n",
            "50/50 [==============================] - 7s 131ms/step - loss: 0.8167 - accuracy: 0.7513 - val_loss: 0.8754 - val_accuracy: 0.7156\n",
            "Epoch 22/30\n",
            "50/50 [==============================] - 7s 133ms/step - loss: 0.7853 - accuracy: 0.7616 - val_loss: 0.7622 - val_accuracy: 0.7594\n",
            "Epoch 23/30\n",
            "50/50 [==============================] - 7s 134ms/step - loss: 0.7534 - accuracy: 0.7686 - val_loss: 0.6041 - val_accuracy: 0.8195\n",
            "Epoch 24/30\n",
            "50/50 [==============================] - 7s 134ms/step - loss: 0.6750 - accuracy: 0.7925 - val_loss: 0.5859 - val_accuracy: 0.8328\n",
            "Epoch 25/30\n",
            "50/50 [==============================] - 7s 133ms/step - loss: 0.6303 - accuracy: 0.8086 - val_loss: 0.5724 - val_accuracy: 0.8352\n",
            "Epoch 26/30\n",
            "50/50 [==============================] - 7s 133ms/step - loss: 0.5561 - accuracy: 0.8275 - val_loss: 0.5189 - val_accuracy: 0.8477\n",
            "Epoch 27/30\n",
            "50/50 [==============================] - 7s 133ms/step - loss: 0.5509 - accuracy: 0.8355 - val_loss: 0.4276 - val_accuracy: 0.8734\n",
            "Epoch 28/30\n",
            "50/50 [==============================] - 7s 134ms/step - loss: 0.5200 - accuracy: 0.8388 - val_loss: 0.4118 - val_accuracy: 0.8836\n",
            "Epoch 29/30\n",
            "50/50 [==============================] - 7s 132ms/step - loss: 0.4412 - accuracy: 0.8778 - val_loss: 0.3819 - val_accuracy: 0.8953\n",
            "Epoch 30/30\n",
            "50/50 [==============================] - 7s 133ms/step - loss: 0.4040 - accuracy: 0.8798 - val_loss: 0.3230 - val_accuracy: 0.9125\n"
          ],
          "name": "stdout"
        }
      ]
    },
    {
      "cell_type": "code",
      "metadata": {
        "id": "xXamnX0iMxGT"
      },
      "source": [
        "#CNN1\n",
        "def CNN_da(summary):\n",
        "    \n",
        "  model = models.Sequential()\n",
        "  model.add(layers.Conv2D(16, kernel_size=(5, 5), activation='relu', input_shape=(32, 32, 3)))\n",
        "  model.add(layers.MaxPooling2D(pool_size=(2, 2)))\n",
        "  model.add(layers.Conv2D(16, kernel_size=(3, 3), activation='relu', input_shape=(32, 32, 3)))\n",
        "  model.add(layers.MaxPooling2D(pool_size=(2, 2)))\n",
        "  model.add(layers.Conv2D(32, kernel_size=(3, 3), activation='relu', input_shape=(32, 32, 3)))\n",
        "  model.add(layers.Flatten())\n",
        "  model.add(layers.Dense(200,activation='softmax'))\n",
        "  model.compile(optimizer=tf.optimizers.RMSprop(), loss=tf.keras.losses.sparse_categorical_crossentropy, metrics=[\"accuracy\"])\n",
        "  if summary: \n",
        "    model.summary()\n",
        "  return model"
      ],
      "execution_count": null,
      "outputs": []
    },
    {
      "cell_type": "code",
      "metadata": {
        "id": "h829I4EBNDf-",
        "colab": {
          "base_uri": "https://localhost:8080/",
          "height": 424
        },
        "outputId": "dfd914c0-ccf9-4312-8995-e1692d37eae4"
      },
      "source": [
        "CNNda=CNN_da(True)"
      ],
      "execution_count": null,
      "outputs": [
        {
          "output_type": "stream",
          "text": [
            "Model: \"sequential_127\"\n",
            "_________________________________________________________________\n",
            "Layer (type)                 Output Shape              Param #   \n",
            "=================================================================\n",
            "conv2d_159 (Conv2D)          (None, 28, 28, 16)        1216      \n",
            "_________________________________________________________________\n",
            "max_pooling2d_118 (MaxPoolin (None, 14, 14, 16)        0         \n",
            "_________________________________________________________________\n",
            "conv2d_160 (Conv2D)          (None, 12, 12, 16)        2320      \n",
            "_________________________________________________________________\n",
            "max_pooling2d_119 (MaxPoolin (None, 6, 6, 16)          0         \n",
            "_________________________________________________________________\n",
            "conv2d_161 (Conv2D)          (None, 4, 4, 32)          4640      \n",
            "_________________________________________________________________\n",
            "flatten_127 (Flatten)        (None, 512)               0         \n",
            "_________________________________________________________________\n",
            "dense_165 (Dense)            (None, 200)               102600    \n",
            "=================================================================\n",
            "Total params: 110,776\n",
            "Trainable params: 110,776\n",
            "Non-trainable params: 0\n",
            "_________________________________________________________________\n"
          ],
          "name": "stdout"
        }
      ]
    },
    {
      "cell_type": "code",
      "metadata": {
        "id": "AEy7z0XiNEaD",
        "colab": {
          "base_uri": "https://localhost:8080/",
          "height": 1000
        },
        "outputId": "5aafc34a-8b35-4837-b4a5-51f201d498d0"
      },
      "source": [
        "CNN_da_train = train_model_2(CNNda, 30, 50, 10, train_image_gen)"
      ],
      "execution_count": null,
      "outputs": [
        {
          "output_type": "stream",
          "text": [
            "Epoch 1/30\n",
            "50/50 [==============================] - 5s 98ms/step - loss: 3.1402 - accuracy: 0.0737 - val_loss: 2.9280 - val_accuracy: 0.0883\n",
            "Epoch 2/30\n",
            "50/50 [==============================] - 5s 97ms/step - loss: 2.7929 - accuracy: 0.1480 - val_loss: 2.6863 - val_accuracy: 0.1758\n",
            "Epoch 3/30\n",
            "50/50 [==============================] - 5s 96ms/step - loss: 2.6134 - accuracy: 0.2141 - val_loss: 2.5125 - val_accuracy: 0.2617\n",
            "Epoch 4/30\n",
            "50/50 [==============================] - 5s 97ms/step - loss: 2.4967 - accuracy: 0.2527 - val_loss: 2.4082 - val_accuracy: 0.2711\n",
            "Epoch 5/30\n",
            "50/50 [==============================] - 5s 96ms/step - loss: 2.3888 - accuracy: 0.2920 - val_loss: 2.2935 - val_accuracy: 0.3469\n",
            "Epoch 6/30\n",
            "50/50 [==============================] - 5s 98ms/step - loss: 2.3156 - accuracy: 0.3113 - val_loss: 2.5036 - val_accuracy: 0.2461\n",
            "Epoch 7/30\n",
            "50/50 [==============================] - 5s 97ms/step - loss: 2.2547 - accuracy: 0.3339 - val_loss: 2.2829 - val_accuracy: 0.2953\n",
            "Epoch 8/30\n",
            "50/50 [==============================] - 5s 98ms/step - loss: 2.1911 - accuracy: 0.3528 - val_loss: 2.1114 - val_accuracy: 0.3805\n",
            "Epoch 9/30\n",
            "50/50 [==============================] - 5s 97ms/step - loss: 2.1363 - accuracy: 0.3653 - val_loss: 2.1391 - val_accuracy: 0.3500\n",
            "Epoch 10/30\n",
            "50/50 [==============================] - 5s 96ms/step - loss: 2.0603 - accuracy: 0.3847 - val_loss: 1.9784 - val_accuracy: 0.4102\n",
            "Epoch 11/30\n",
            "50/50 [==============================] - 5s 99ms/step - loss: 2.0360 - accuracy: 0.3942 - val_loss: 1.9628 - val_accuracy: 0.4203\n",
            "Epoch 12/30\n",
            "50/50 [==============================] - 5s 99ms/step - loss: 1.9786 - accuracy: 0.4122 - val_loss: 1.9354 - val_accuracy: 0.4289\n",
            "Epoch 13/30\n",
            "50/50 [==============================] - 5s 97ms/step - loss: 1.9526 - accuracy: 0.4220 - val_loss: 1.8702 - val_accuracy: 0.4437\n",
            "Epoch 14/30\n",
            "50/50 [==============================] - 5s 97ms/step - loss: 1.9177 - accuracy: 0.4278 - val_loss: 1.9024 - val_accuracy: 0.4375\n",
            "Epoch 15/30\n",
            "50/50 [==============================] - 5s 98ms/step - loss: 1.8522 - accuracy: 0.4466 - val_loss: 1.7747 - val_accuracy: 0.4672\n",
            "Epoch 16/30\n",
            "50/50 [==============================] - 5s 98ms/step - loss: 1.8486 - accuracy: 0.4467 - val_loss: 1.7488 - val_accuracy: 0.4797\n",
            "Epoch 17/30\n",
            "50/50 [==============================] - 5s 97ms/step - loss: 1.8118 - accuracy: 0.4602 - val_loss: 1.8293 - val_accuracy: 0.4289\n",
            "Epoch 18/30\n",
            "50/50 [==============================] - 5s 97ms/step - loss: 1.7747 - accuracy: 0.4755 - val_loss: 1.7565 - val_accuracy: 0.4758\n",
            "Epoch 19/30\n",
            "50/50 [==============================] - 5s 98ms/step - loss: 1.7546 - accuracy: 0.4773 - val_loss: 1.6605 - val_accuracy: 0.4977\n",
            "Epoch 20/30\n",
            "50/50 [==============================] - 5s 98ms/step - loss: 1.7364 - accuracy: 0.4805 - val_loss: 1.6392 - val_accuracy: 0.5188\n",
            "Epoch 21/30\n",
            "50/50 [==============================] - 5s 96ms/step - loss: 1.7090 - accuracy: 0.4941 - val_loss: 1.6399 - val_accuracy: 0.5047\n",
            "Epoch 22/30\n",
            "50/50 [==============================] - 5s 96ms/step - loss: 1.6846 - accuracy: 0.4986 - val_loss: 1.6197 - val_accuracy: 0.5172\n",
            "Epoch 23/30\n",
            "50/50 [==============================] - 5s 97ms/step - loss: 1.6817 - accuracy: 0.5013 - val_loss: 1.5756 - val_accuracy: 0.5258\n",
            "Epoch 24/30\n",
            "50/50 [==============================] - 5s 98ms/step - loss: 1.6461 - accuracy: 0.5031 - val_loss: 1.6727 - val_accuracy: 0.5000\n",
            "Epoch 25/30\n",
            "50/50 [==============================] - 5s 96ms/step - loss: 1.6238 - accuracy: 0.5147 - val_loss: 1.7152 - val_accuracy: 0.4938\n",
            "Epoch 26/30\n",
            "50/50 [==============================] - 5s 96ms/step - loss: 1.5927 - accuracy: 0.5194 - val_loss: 1.5872 - val_accuracy: 0.5258\n",
            "Epoch 27/30\n",
            "50/50 [==============================] - 5s 98ms/step - loss: 1.6118 - accuracy: 0.5155 - val_loss: 1.5336 - val_accuracy: 0.5430\n",
            "Epoch 28/30\n",
            "50/50 [==============================] - 5s 98ms/step - loss: 1.5593 - accuracy: 0.5298 - val_loss: 1.5549 - val_accuracy: 0.5328\n",
            "Epoch 29/30\n",
            "50/50 [==============================] - 5s 96ms/step - loss: 1.5218 - accuracy: 0.5392 - val_loss: 1.5150 - val_accuracy: 0.5484\n",
            "Epoch 30/30\n",
            "50/50 [==============================] - 5s 97ms/step - loss: 1.5375 - accuracy: 0.5398 - val_loss: 1.5756 - val_accuracy: 0.5172\n"
          ],
          "name": "stdout"
        }
      ]
    },
    {
      "cell_type": "code",
      "metadata": {
        "id": "dufO_qwHNcLT"
      },
      "source": [
        "#MYCNN\n",
        "def MYCNN_da(summary):\n",
        "   model = models.Sequential()\n",
        "   model.add(layers.Conv2D(32, (3, 3), activation='relu', input_shape=(32, 32, 3)))\n",
        "   model.add(layers.MaxPooling2D((2, 2)))\n",
        "   model.add(layers.Conv2D(64, (3, 3), activation='relu',input_shape=(32, 32, 3)))\n",
        "   model.add(layers.MaxPooling2D((2, 2)))\n",
        "   model.add(layers.Conv2D(64, (3, 3), activation='relu',input_shape=(32, 32, 3)))\n",
        "   model.add(layers.Flatten())\n",
        "   model.add(layers.Dense(100,activation='relu'))\n",
        "   model.compile(optimizer=tf.optimizers.Adam(), loss=tf.keras.losses.sparse_categorical_crossentropy, metrics=[\"accuracy\"])    \n",
        "   if summary: \n",
        "    model.summary()\n",
        "   return model"
      ],
      "execution_count": null,
      "outputs": []
    },
    {
      "cell_type": "code",
      "metadata": {
        "id": "1wrb5rK-NqID",
        "colab": {
          "base_uri": "https://localhost:8080/",
          "height": 424
        },
        "outputId": "9812e570-4682-41fc-a174-c766ac5222c9"
      },
      "source": [
        "MYCNNda=MYCNN_da(True)"
      ],
      "execution_count": null,
      "outputs": [
        {
          "output_type": "stream",
          "text": [
            "Model: \"sequential_156\"\n",
            "_________________________________________________________________\n",
            "Layer (type)                 Output Shape              Param #   \n",
            "=================================================================\n",
            "conv2d_246 (Conv2D)          (None, 30, 30, 32)        896       \n",
            "_________________________________________________________________\n",
            "max_pooling2d_176 (MaxPoolin (None, 15, 15, 32)        0         \n",
            "_________________________________________________________________\n",
            "conv2d_247 (Conv2D)          (None, 13, 13, 64)        18496     \n",
            "_________________________________________________________________\n",
            "max_pooling2d_177 (MaxPoolin (None, 6, 6, 64)          0         \n",
            "_________________________________________________________________\n",
            "conv2d_248 (Conv2D)          (None, 4, 4, 64)          36928     \n",
            "_________________________________________________________________\n",
            "flatten_156 (Flatten)        (None, 1024)              0         \n",
            "_________________________________________________________________\n",
            "dense_194 (Dense)            (None, 100)               102500    \n",
            "=================================================================\n",
            "Total params: 158,820\n",
            "Trainable params: 158,820\n",
            "Non-trainable params: 0\n",
            "_________________________________________________________________\n"
          ],
          "name": "stdout"
        }
      ]
    },
    {
      "cell_type": "code",
      "metadata": {
        "id": "yJOAmxK4NvRQ",
        "colab": {
          "base_uri": "https://localhost:8080/",
          "height": 1000
        },
        "outputId": "45f29033-4599-47f9-97c9-8d755e91a9fa"
      },
      "source": [
        "MYCNN_da_train = train_model_2(MYCNNda, 30, 50, 10, train_image_gen)"
      ],
      "execution_count": null,
      "outputs": [
        {
          "output_type": "stream",
          "text": [
            "Epoch 1/30\n",
            "50/50 [==============================] - 7s 149ms/step - loss: 8.1018 - accuracy: 0.0525 - val_loss: 12.8374 - val_accuracy: 0.0531\n",
            "Epoch 2/30\n",
            "50/50 [==============================] - 8s 150ms/step - loss: 9.9493 - accuracy: 0.0598 - val_loss: 8.6533 - val_accuracy: 0.1008\n",
            "Epoch 3/30\n",
            "50/50 [==============================] - 7s 148ms/step - loss: 5.9796 - accuracy: 0.0275 - val_loss: 4.6052 - val_accuracy: 0.0000e+00\n",
            "Epoch 4/30\n",
            "50/50 [==============================] - 7s 148ms/step - loss: 4.6052 - accuracy: 0.0000e+00 - val_loss: 4.6052 - val_accuracy: 0.0000e+00\n",
            "Epoch 5/30\n",
            "50/50 [==============================] - 7s 145ms/step - loss: 4.6052 - accuracy: 0.0000e+00 - val_loss: 4.6052 - val_accuracy: 0.0000e+00\n",
            "Epoch 6/30\n",
            "50/50 [==============================] - 7s 148ms/step - loss: 4.6052 - accuracy: 0.0000e+00 - val_loss: 4.6052 - val_accuracy: 0.0000e+00\n",
            "Epoch 7/30\n",
            "50/50 [==============================] - 7s 148ms/step - loss: 4.6052 - accuracy: 0.0000e+00 - val_loss: 4.6052 - val_accuracy: 0.0000e+00\n",
            "Epoch 8/30\n",
            "50/50 [==============================] - 7s 148ms/step - loss: 4.6052 - accuracy: 0.0000e+00 - val_loss: 4.6052 - val_accuracy: 0.0000e+00\n",
            "Epoch 9/30\n",
            "50/50 [==============================] - 7s 145ms/step - loss: 4.6052 - accuracy: 0.0000e+00 - val_loss: 4.6052 - val_accuracy: 0.0000e+00\n",
            "Epoch 10/30\n",
            "50/50 [==============================] - 7s 147ms/step - loss: 4.6052 - accuracy: 0.0000e+00 - val_loss: 4.6052 - val_accuracy: 0.0000e+00\n",
            "Epoch 11/30\n",
            "50/50 [==============================] - 7s 149ms/step - loss: 4.6052 - accuracy: 0.0000e+00 - val_loss: 4.6052 - val_accuracy: 0.0000e+00\n",
            "Epoch 12/30\n",
            "50/50 [==============================] - 7s 148ms/step - loss: 4.6052 - accuracy: 0.0000e+00 - val_loss: 4.6052 - val_accuracy: 0.0000e+00\n",
            "Epoch 13/30\n",
            "50/50 [==============================] - 7s 146ms/step - loss: 4.6052 - accuracy: 0.0000e+00 - val_loss: 4.6052 - val_accuracy: 0.0000e+00\n",
            "Epoch 14/30\n",
            "50/50 [==============================] - 7s 147ms/step - loss: 4.6052 - accuracy: 0.0000e+00 - val_loss: 4.6052 - val_accuracy: 0.0000e+00\n",
            "Epoch 15/30\n",
            "50/50 [==============================] - 7s 148ms/step - loss: 4.6052 - accuracy: 0.0000e+00 - val_loss: 4.6052 - val_accuracy: 0.0000e+00\n",
            "Epoch 16/30\n",
            "50/50 [==============================] - 7s 148ms/step - loss: 4.6052 - accuracy: 0.0000e+00 - val_loss: 4.6052 - val_accuracy: 0.0000e+00\n",
            "Epoch 17/30\n",
            "50/50 [==============================] - 7s 146ms/step - loss: 4.6052 - accuracy: 0.0000e+00 - val_loss: 4.6052 - val_accuracy: 0.0000e+00\n",
            "Epoch 18/30\n",
            "50/50 [==============================] - 7s 148ms/step - loss: 4.6052 - accuracy: 0.0000e+00 - val_loss: 4.6052 - val_accuracy: 0.0000e+00\n",
            "Epoch 19/30\n",
            "50/50 [==============================] - 7s 147ms/step - loss: 4.6052 - accuracy: 0.0000e+00 - val_loss: 4.6052 - val_accuracy: 0.0000e+00\n",
            "Epoch 20/30\n",
            "50/50 [==============================] - 7s 148ms/step - loss: 4.6052 - accuracy: 0.0000e+00 - val_loss: 4.6052 - val_accuracy: 0.0000e+00\n",
            "Epoch 21/30\n",
            "50/50 [==============================] - 7s 146ms/step - loss: 4.6052 - accuracy: 0.0000e+00 - val_loss: 4.6052 - val_accuracy: 0.0000e+00\n",
            "Epoch 22/30\n",
            "50/50 [==============================] - 7s 147ms/step - loss: 4.6052 - accuracy: 0.0000e+00 - val_loss: 4.6052 - val_accuracy: 0.0000e+00\n",
            "Epoch 23/30\n",
            "50/50 [==============================] - 7s 147ms/step - loss: 4.6052 - accuracy: 0.0000e+00 - val_loss: 4.6052 - val_accuracy: 0.0000e+00\n",
            "Epoch 24/30\n",
            "50/50 [==============================] - 7s 148ms/step - loss: 4.6052 - accuracy: 0.0000e+00 - val_loss: 4.6052 - val_accuracy: 0.0000e+00\n",
            "Epoch 25/30\n",
            "50/50 [==============================] - 7s 146ms/step - loss: 4.6052 - accuracy: 0.0000e+00 - val_loss: 4.6052 - val_accuracy: 0.0000e+00\n",
            "Epoch 26/30\n",
            "50/50 [==============================] - 7s 146ms/step - loss: 4.6052 - accuracy: 0.0000e+00 - val_loss: 4.6052 - val_accuracy: 0.0000e+00\n",
            "Epoch 27/30\n",
            "50/50 [==============================] - 7s 148ms/step - loss: 4.6052 - accuracy: 0.0000e+00 - val_loss: 4.6052 - val_accuracy: 0.0000e+00\n",
            "Epoch 28/30\n",
            "50/50 [==============================] - 7s 149ms/step - loss: 4.6052 - accuracy: 0.0000e+00 - val_loss: 4.6052 - val_accuracy: 0.0000e+00\n",
            "Epoch 29/30\n",
            "50/50 [==============================] - 7s 146ms/step - loss: 4.6052 - accuracy: 0.0000e+00 - val_loss: 4.6052 - val_accuracy: 0.0000e+00\n",
            "Epoch 30/30\n",
            "50/50 [==============================] - 7s 147ms/step - loss: 4.6052 - accuracy: 0.0000e+00 - val_loss: 4.6052 - val_accuracy: 0.0000e+00\n"
          ],
          "name": "stdout"
        }
      ]
    },
    {
      "cell_type": "markdown",
      "metadata": {
        "id": "n9S0JaMhRdoI"
      },
      "source": [
        "Αρχικά, θα πρέπει να εξηγήσουμε τι κάνει καθεμία από τις τεχνικές ελέγχου υπερεκπαίδευσης που χρησιμοποιήσαμε.\n",
        "\n",
        "**1. Early Stopping**\n",
        "\n",
        "Πρόκειται για μία τεχνική η οποία τερματίζει πρόωρα την εκπαίδευση, κρατόντας κάθε φορά την τελευταία τιμή μίας μεταβήτής που ορίζουμε εμείς και συγκρίνοντας την με τις επόμενες τιμές της, ούτως ώστε να μην επιτρέψει στην εκπαίδευση να προχωρήσει παρακάτω, όταν αυτή χειροτερεύει. Χρησιμοποιήσαμε τις εξής παραμέτρους:\n",
        "\n",
        "*   monitor: ποια μεταβλητή θα \"παρακολουθεί\" το Early Stopping. Εδώ επιλέχθηκε το 'val_loss' \n",
        "*   min_delta: ποια είναι η ελάχιστη μεταβολή σε μία μεταβλητή ώστε να θεωρούμε ότι εκείνη έχει μεταβληθεί\n",
        "*   mode: καθορίζει αν θέλουμε η μεταβλητή που επιλέχθηκε στο monitor πρέπει να αυξάνεται ή να μειώνεται. Επιλέξαμε το 'auto', δηλαδή να διαλέγει αυτόματα αναλόγως με την μεταβλητή που βάλαμε\n",
        "*   verbose: λειτουργία verbosity\n",
        "*   patience: πόσες εποχές πρέπει να περιμένει και να παρακολουθέι την μεταβλητή έως ότου τερματίσει\n",
        "*   restore_best_weights: αν θα αποθηκεύει ή όχι την καλύτερη τιμή όταν τερματίζει. Το θέσαμε 'true'\n",
        "\n",
        "Επομένως με το Early Stopping παρακολουθούσαμε την μεταβλητή 'val_loss' και όταν αυτή αυξανόταν, περιμένοντας τόσες εποχές όσες είχαμε ορίσει, τερματίζαμε την εκπαίδευση του μοντέλου ώστε να μην αυξηθεί πολύ, μειώνοντας την ακρίβεια του μοντέλου μας.\n",
        "\n",
        "**2.Dropout**\n",
        "\n",
        "Η τεχνική Dropout λειτουργεί με πιθανή αφαίρεση, ή \"απόρριψη\" εισόδων σε ένα επίπεδο, οι οποίες μπορεί να είναι μεταβλητές εισόδου στο δείγμα δεδομένων ή ενεργοποιήσεις από ένα προηγούμενο επίπεδο. Έχει ως αποτέλεσμα την προσομοίωση μεγάλου αριθμού δικτύων με πολύ διαφορετική δομή, καθιστώντας τους κόμβους στο δίκτυο γενικά πιο ισχυρούς στις εισόδους. Ουσιαστικά, πρόκειται για ένα layer που, όπως αναφέρει και η εκφώνηση, μηδενίζει τυχαία κάποια βάρη με αποτέλεσμα να ομαλοποιείται το σύνολο εκπαίδευσης, να αποφέυγονται οι ανεπιθύμητες είσοδοι και να μειώνεται τελικά η υπερεκπαίδευση. \n",
        "Δέχεται μία παράμετρο η οποία καθορίζει το ποσοστό που θέλουμε να εφαρμοστεί η τεχνική αυτή.\n",
        "\n",
        "**3. Data Augementation**\n",
        "\n",
        "Το Data Augmentation αποτελέι μία τεχνική η οποία αυξάνει το σύνολο δεδομένων εκπαίδευσης, καθώς αυτό πολλές φορές δεν είναι επαρκές. Αυτό βέβαια δεν επιτυγχάνεται με την προσθήκη νέων εικόνων, αλλά με την κατάλληλη επεξεργασία των ήδη υπάρχοντων. Ουσιαστικά παίρνει τις εικόνες του dataset και τις τροποποιεί ως προς διάφορα χαρακτηριστικά όπως η κλίση, η μεγέθυνση, ο προσανατολισμός κ.α. Με αυτόν τον τρόπο το μοντέλο μας λαμβάνει μία πιο άρτια εκπαίδευση.\n",
        "\n",
        "**Συμπεράσματα μετρήσεων**\n",
        "\n",
        "Όπως φαίνεται και από την εκτέλεση των παραπάνω τεχνικών, αυτές όντως συνέβαλαν σημαντικά στην βελτίωση της απόδοσης κάποιων μοντέλων, με τον περιορισμό της υπερεκπαίδευσης τους. Πιο συγκεκριμένα, ενώ κάποια μοντέλα φαίνεται να μην ωφελήθηκαν από καμία τεχνική (όπως το Softmax και το MYCNN), κάποια άλλα παρουσίασαν θεαματική βελτίωση τόσο στο train set όσο και στο val set (όπως το LeNet που απο 0,22 απέκτησε απόδοση 0,7-0,8 και από τις 3 μεθόδους). \n",
        "Παράλληλα παρατηρούμε ότι η ακρίβεια του validation κυμένται κατά κύριο λόγο σε όμοιες τιμές με εκείνες του test, πέρα κάποιων εξαιρέσεων που είναι μικρότερη, γεγονός που μας δείχνει ότι τα μοντέλα κάνουν σωστή αξιολόγηση.\n",
        "Τέλος, στην πλειονότητα των εκπαιδέυσεων των μοντέλων με τη χρήση των παραπάνω τεχνικών, παρατηρήθηκε γενικά μία μεγαλύτερη ομαλότητα των τιμών σε σχέση με πριν που, όπως φαίνεται και από τα διαγράμματα, υπάρχουν κάποιες απότομες μεταβάσεις και διακυμάνσεις.\n",
        "\n",
        "**Σημείωση:** Οι τιμές των παραμέτρων των διάφορων μεθόδων προέκυψαν έπειτα από πολλές δοκιμές και επιλέχθηκαν εκείνες οι οποίες μας έδιναν τα βέλτιστα αποτελέσματα για κάθε μοντέλο.\n",
        "Στο MYCNN είχαν προκύψει αρχικά καλύτερα αποτελέσματα αλλά σε μετέπειτα εκτελέσεις, ενώ ο κώδικας παρέμεινε αμετάβλητος, η απόδοση μειώθηκε αρκετά. Δεν μπορέσαμε να εντοπίσουμε για ποιο λόγο έγινε αυτό.\n",
        "\n",
        "\n",
        "\n",
        "\n",
        "\n",
        "\n",
        "\n",
        "\n",
        "\n"
      ]
    }
  ]
}